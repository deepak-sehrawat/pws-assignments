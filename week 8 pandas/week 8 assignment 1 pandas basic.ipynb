{
 "cells": [
  {
   "cell_type": "code",
   "execution_count": 18,
   "metadata": {},
   "outputs": [
    {
     "name": "stdout",
     "output_type": "stream",
     "text": [
      "<class 'pandas.core.series.Series'>\n",
      "0     4\n",
      "1     8\n",
      "2    15\n",
      "3    16\n",
      "4    23\n",
      "5    42\n",
      "dtype: int64\n"
     ]
    }
   ],
   "source": [
    "# sol 1\n",
    "import pandas as pd\n",
    "my_data_list=pd.Series([4,8,15,16,23,42])\n",
    "print(type(my_data_list))\n",
    "print(my_data_list)\n"
   ]
  },
  {
   "cell_type": "code",
   "execution_count": 21,
   "metadata": {},
   "outputs": [
    {
     "name": "stdout",
     "output_type": "stream",
     "text": [
      "0    0\n",
      "1    1\n",
      "2    2\n",
      "3    3\n",
      "4    4\n",
      "5    5\n",
      "6    6\n",
      "7    7\n",
      "8    8\n",
      "9    9\n",
      "dtype: int64\n"
     ]
    }
   ],
   "source": [
    "# sol 2\n",
    "my_list=list(range(0,10))\n",
    "my_data_list2=pd.Series(my_list)\n",
    "print(my_data_list2)"
   ]
  },
  {
   "cell_type": "code",
   "execution_count": 26,
   "metadata": {},
   "outputs": [
    {
     "name": "stdout",
     "output_type": "stream",
     "text": [
      "0    name Age  Gender\n",
      "1   Alice  25  Female\n",
      "2     Bob  30    Male\n",
      "3  Claire  27  Female\n"
     ]
    }
   ],
   "source": [
    "# sol 3\n",
    "info=pd.DataFrame([['name','Age','Gender'],['Alice',25,'Female'],['Bob',30,'Male'],['Claire',27,'Female']])\n",
    "info.columns=info.iloc[0]\n",
    "info=info.drop(0)\n",
    "print(info)"
   ]
  },
  {
   "cell_type": "code",
   "execution_count": 30,
   "metadata": {},
   "outputs": [
    {
     "name": "stdout",
     "output_type": "stream",
     "text": [
      "This is the Example of DataFrame \n",
      "         0    1       2\n",
      "0    name  Age  Gender\n",
      "1   Alice   25  Female\n",
      "2     Bob   30    Male\n",
      "3  Claire   27  Female\n",
      "\n",
      "\n",
      " This the Example of Series. \n",
      " 0    0\n",
      "1    1\n",
      "2    2\n",
      "3    3\n",
      "4    4\n",
      "5    5\n",
      "6    6\n",
      "7    7\n",
      "8    8\n",
      "9    9\n",
      "dtype: int64\n"
     ]
    }
   ],
   "source": [
    "# sol 4\n",
    "# In pandas, a DataFrame is a two-dimensional labeled data structure, resembling a table or spreadsheet, where data is organized in rows and columns. It is one of the core data structures provided by the pandas library and is widely used for data manipulation, analysis, and cleaning tasks. \n",
    "# The DataFrame allows you to store and work with heterogeneous data types, handle missing values efficiently, and perform various operations like filtering, merging, and grouping easily.\n",
    "\n",
    "# Diffrence:\n",
    "    # DataFrame:\n",
    "        # A DataFrame is two-dimensional, representing data in a tabular format with rows and columns.\n",
    "        # A DataFrame is a collection of Series, where each column of a DataFrame is a pandas Series.\n",
    "        # DataFrames are commonly used for handling and analyzing structured, tabular data like CSV files or SQL tables.\n",
    "        # DataFrame syntax involves referencing both row and column labels to access data\n",
    "\n",
    "    # Series:\n",
    "        # A Series is one-dimensional, representing a single column of data with associated labels (index)\n",
    "        # A Series is essentially a one-dimensional array with labeled data, where the data can be of any data type.\n",
    "        # Series are useful for handling sequences of data, time series data, or when you need to work with a single column of a DataFrame.\n",
    "        # Series syntax involves referencing data through the associated index.\n",
    "\n",
    "# Example\n",
    "\n",
    "# DataFrame\n",
    "info=pd.DataFrame([['name','Age','Gender'],['Alice',25,'Female'],['Bob',30,'Male'],['Claire',27,'Female']])\n",
    "# info=info.columns(info.iloc(0))\n",
    "print(\"This is the Example of DataFrame \\n\",info)\n",
    "\n",
    "# Series\n",
    "my_list=list(range(0,10))\n",
    "my_data_list2=pd.Series(my_list)\n",
    "print(\"\\n\\n This the Example of Series. \\n\",my_data_list2)\n",
    "\n",
    "\n"
   ]
  },
  {
   "cell_type": "code",
   "execution_count": 42,
   "metadata": {},
   "outputs": [
    {
     "name": "stdout",
     "output_type": "stream",
     "text": [
      "this is the complete dataframe \n",
      "         0    1       2\n",
      "0    name  Age  Gender\n",
      "1   Alice   25  Female\n",
      "2     Bob   30    Male\n",
      "3  Claire   27  Female\n",
      "\n",
      "\n",
      " this  is the filtered data \n",
      " ['Bob', 30, 'Male']\n"
     ]
    }
   ],
   "source": [
    "# sol 5\n",
    "#  Pandas provides a wide range of functions to manipulate data in a DataFrame. Here are some common functions you can use:\n",
    "\n",
    "    # 1.Filtering data: You can filter data based on certain conditions using functions like DataFrame.loc[], DataFrame.iloc[], or boolean indexing.\n",
    "\n",
    "    # 2.Sorting data: You can sort the DataFrame based on specific columns using DataFrame.sort_values().\n",
    "\n",
    "    # 3.Aggregation: You can perform aggregation operations like sum, mean, count, etc., using functions like DataFrame.groupby() and DataFrame.agg().\n",
    "\n",
    "    # 4.Merging and joining: Functions like DataFrame.merge() and DataFrame.join() allow you to combine data from different DataFrames based on common columns or indices.\n",
    "\n",
    "    # 5.Adding and deleting columns: You can add new columns or delete existing ones using simple assignment or DataFrame.drop().\n",
    "\n",
    "# Example of filtering the data \n",
    "info=pd.DataFrame([['name','Age','Gender'],['Alice',25,'Female'],['Bob',30,'Male'],['Claire',27,'Female']])\n",
    "print(\"this is the complete dataframe \\n\",info)\n",
    "print(\"\\n\\n this  is the filtered data \\n\",list(info.iloc[2])) #here i use info.iloc[2] for filter the data on the index 2 from the dataframe\n",
    "\n",
    "\n",
    "\n"
   ]
  },
  {
   "cell_type": "code",
   "execution_count": null,
   "metadata": {},
   "outputs": [],
   "source": [
    "# sol 6\n",
    "# the following data structures are mutable in nature:\n",
    "    # DataFrame\n",
    "    # Panel\n",
    "\n",
    "# Series is immutable data structure\n",
    "\n",
    "# Explanation\n",
    "\n",
    "# Series: A Series in pandas is one-dimensional and behaves like an array with labeled data. However, it is immutable, meaning once it is created, you cannot modify its elements or size. If you need to modify the data, you'll need to create a new Series.\n",
    "\n",
    "# DataFrame: A DataFrame is two-dimensional and represents data in a tabular format with rows and columns, similar to a spreadsheet. Unlike Series, DataFrames are mutable, which means you can modify the data within a DataFrame, add or delete rows and columns, change values, etc.\n",
    "\n",
    "# Panel: A Panel is a three-dimensional data structure that was previously available in pandas and there are also mutuable like DataFrame. However, as of pandas version 0.25.0, the Panel has been deprecated and is no longer recommended for use. Instead, multi-dimensional data is generally handled using other data structures like DataFrames or hierarchical indexing.\n",
    "\n",
    "\n",
    "\n"
   ]
  },
  {
   "cell_type": "code",
   "execution_count": 39,
   "metadata": {},
   "outputs": [
    {
     "name": "stdout",
     "output_type": "stream",
     "text": [
      "   table of 1   table of 2   table of 3   table of 4   table of 5 \n",
      "0            1            2            3            4            5\n",
      "1            2            4            6            8           10\n",
      "2            3            6            9           12           15\n",
      "3            4            8           12           16           20\n",
      "4            5           10           15           20           25\n",
      "5            6           12           18           24           30\n",
      "6            7           14           21           28           35\n",
      "7            8           16           24           32           40\n",
      "8            9           18           27           36           45\n",
      "9           10           20           30           40           50\n"
     ]
    }
   ],
   "source": [
    "# sol 7\n",
    "l1=list(range(1,11,1))\n",
    "l2=list(range(2,21,2))\n",
    "l3=list(range(3,31,3))\n",
    "l4=list(range(4,41,4))\n",
    "l5=list(range(5,51,5))\n",
    "\n",
    "l1_Sr=pd.Series(l1)\n",
    "l2_Sr=pd.Series(l2)\n",
    "l3_Sr=pd.Series(l3)\n",
    "l4_Sr=pd.Series(l4)\n",
    "l5_Sr=pd.Series(l5)\n",
    "\n",
    "# print(l1_Sr,l2_Sr)\n",
    "table={\"table of 1 \":l1_Sr,\"table of 2 \":l2_Sr,\"table of 3 \":l3_Sr,\"table of 4 \":l4_Sr,\"table of 5 \":l5_Sr} #this dic. help to convert the series data into dataframe with the column name of the datafrave as key name \n",
    "\n",
    "my_tables=pd.DataFrame(table)\n",
    "print(my_tables)\n",
    "\n",
    "\n",
    "    \n",
    "\n",
    "\n"
   ]
  },
  {
   "cell_type": "code",
   "execution_count": null,
   "metadata": {},
   "outputs": [],
   "source": []
  }
 ],
 "metadata": {
  "kernelspec": {
   "display_name": "base",
   "language": "python",
   "name": "python3"
  },
  "language_info": {
   "codemirror_mode": {
    "name": "ipython",
    "version": 3
   },
   "file_extension": ".py",
   "mimetype": "text/x-python",
   "name": "python",
   "nbconvert_exporter": "python",
   "pygments_lexer": "ipython3",
   "version": "3.10.10"
  },
  "orig_nbformat": 4
 },
 "nbformat": 4,
 "nbformat_minor": 2
}
