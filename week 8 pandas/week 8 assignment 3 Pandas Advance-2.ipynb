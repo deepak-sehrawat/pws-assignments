{
 "cells": [
  {
   "cell_type": "code",
   "execution_count": 9,
   "metadata": {},
   "outputs": [
    {
     "name": "stdout",
     "output_type": "stream",
     "text": [
      "        course_name  duration\n",
      "0      Data Science         2\n",
      "1  Machine Learning         3\n",
      "2          Big Data         6\n",
      "3     Data Engineer         4\n",
      "course_name    Machine Learning\n",
      "duration                      3\n",
      "Name: 1, dtype: object\n"
     ]
    }
   ],
   "source": [
    "# sol 1\n",
    "import pandas as pd\n",
    "course_name = ['Data Science', 'Machine Learning', 'Big Data', 'Data Engineer']\n",
    "duration = [2,3,6,4]\n",
    "df = pd.DataFrame(data = {'course_name' : course_name, 'duration' : duration})\n",
    "print(df)\n",
    "print(df.iloc[1])\n",
    "\n"
   ]
  },
  {
   "cell_type": "code",
   "execution_count": null,
   "metadata": {},
   "outputs": [],
   "source": [
    "# sol 2\n",
    "# Diffrence b/w loc[] and iloc[]\n",
    "\n",
    "# loc (Label-based selection):\n",
    "\n",
    "    # 1. The loc function is primarily used for label-based indexing, where you use labels (row and column names) to access data from the DataFrame.\n",
    "    # 2. It takes the row and column labels as input and returns the corresponding data.\n",
    "    # 3. The syntax for using loc is df.loc[row_label, column_label].\n",
    "    # 4. You can pass single label values, lists of label values, or boolean arrays to select specific rows or columns.\n",
    "# iloc (Integer-location based selection):\n",
    "\n",
    "    # 1. The iloc function is used for integer-location based indexing, where you use integer positions to access data from the DataFrame.\n",
    "    # 2. It takes integer positions of rows and columns as input and returns the corresponding data.\n",
    "    # 3. The syntax for using iloc is df.iloc[row_position, column_position].\n",
    "    # 4. You can pass single integer values, slices, or boolean arrays to select specific rows or columns based on their integer positions.\n",
    "\n"
   ]
  },
  {
   "cell_type": "code",
   "execution_count": 11,
   "metadata": {},
   "outputs": [
    {
     "name": "stdout",
     "output_type": "stream",
     "text": [
      "the iloc [2] is \n",
      "  course_name    Machine Learning\n",
      "duration                      3\n",
      "Name: 1, dtype: object \n",
      "\n",
      "\n",
      "the loc [2] is \n",
      "  course_name    Big Data\n",
      "duration              6\n",
      "Name: 2, dtype: object \n",
      "\n",
      "\n"
     ]
    }
   ],
   "source": [
    "# sol 3\n",
    "new_df=df.reindex([3,0,1,2])\n",
    "print(\"the iloc [2] is \\n \",new_df.iloc[2],\"\\n\\n\")\n",
    "print(\"the loc [2] is \\n \",new_df.loc[2],\"\\n\\n\")\n",
    "\n",
    "# both the commands give the diffrent output because : \n",
    "\n",
    "# pd.iloc[]: iloc stands for \"integer location\" and is used for integer-based indexing. It is primarily used to access data by integer position. With iloc, you pass the row and column positions as integers to extract data.\n",
    "\n",
    "\n",
    "# pd.loc[]: loc stands for \"label location\" and is used for label-based indexing. It is used to access data using labels (row and column names) rather than integer positions.\n",
    "\n",
    "\n",
    "\n",
    "\n"
   ]
  },
  {
   "cell_type": "code",
   "execution_count": 39,
   "metadata": {},
   "outputs": [],
   "source": [
    "# create dataframe\n",
    "import pandas as pd\n",
    "import numpy as np\n",
    "columns = ['column_1', 'column_2', 'column_3', 'column_4', 'column_5', 'column_6']\n",
    "indices = [1,2,3,4,5,6]\n",
    "#Creating a dataframe:\n",
    "df1 = pd.DataFrame(np.random.rand(6,6), columns = columns, index = indices)"
   ]
  },
  {
   "cell_type": "code",
   "execution_count": 29,
   "metadata": {},
   "outputs": [
    {
     "name": "stdout",
     "output_type": "stream",
     "text": [
      "Mean of columns- \n",
      "  column_1    0.497931\n",
      "column_2    0.533177\n",
      "column_3    0.369829\n",
      "column_4    0.422696\n",
      "column_5    0.402246\n",
      "column_6    0.476784\n",
      "dtype: float64\n"
     ]
    },
    {
     "data": {
      "text/plain": [
       "0.3761603557957715"
      ]
     },
     "execution_count": 29,
     "metadata": {},
     "output_type": "execute_result"
    }
   ],
   "source": [
    "# sol 4 \n",
    "\n",
    "# (i)\n",
    "print(\"Mean of columns- \\n \",df1.mean(axis=0))\n",
    "\n",
    "# (ii)\n",
    "df1.std()[\"column_2\"]\n",
    "\n"
   ]
  },
  {
   "cell_type": "code",
   "execution_count": 49,
   "metadata": {},
   "outputs": [
    {
     "ename": "TypeError",
     "evalue": "Could not convert worldworldworldworldworldworld to numeric",
     "output_type": "error",
     "traceback": [
      "\u001b[0;31m---------------------------------------------------------------------------\u001b[0m",
      "\u001b[0;31mValueError\u001b[0m                                Traceback (most recent call last)",
      "File \u001b[0;32m~/Library/Python/3.9/lib/python/site-packages/pandas/core/nanops.py:1692\u001b[0m, in \u001b[0;36m_ensure_numeric\u001b[0;34m(x)\u001b[0m\n\u001b[1;32m   1691\u001b[0m \u001b[39mtry\u001b[39;00m:\n\u001b[0;32m-> 1692\u001b[0m     x \u001b[39m=\u001b[39m \u001b[39mfloat\u001b[39;49m(x)\n\u001b[1;32m   1693\u001b[0m \u001b[39mexcept\u001b[39;00m (\u001b[39mTypeError\u001b[39;00m, \u001b[39mValueError\u001b[39;00m):\n\u001b[1;32m   1694\u001b[0m     \u001b[39m# e.g. \"1+1j\" or \"foo\"\u001b[39;00m\n",
      "\u001b[0;31mValueError\u001b[0m: could not convert string to float: 'worldworldworldworldworldworld'",
      "\nDuring handling of the above exception, another exception occurred:\n",
      "\u001b[0;31mValueError\u001b[0m                                Traceback (most recent call last)",
      "File \u001b[0;32m~/Library/Python/3.9/lib/python/site-packages/pandas/core/nanops.py:1696\u001b[0m, in \u001b[0;36m_ensure_numeric\u001b[0;34m(x)\u001b[0m\n\u001b[1;32m   1695\u001b[0m \u001b[39mtry\u001b[39;00m:\n\u001b[0;32m-> 1696\u001b[0m     x \u001b[39m=\u001b[39m \u001b[39mcomplex\u001b[39;49m(x)\n\u001b[1;32m   1697\u001b[0m \u001b[39mexcept\u001b[39;00m \u001b[39mValueError\u001b[39;00m \u001b[39mas\u001b[39;00m err:\n\u001b[1;32m   1698\u001b[0m     \u001b[39m# e.g. \"foo\"\u001b[39;00m\n",
      "\u001b[0;31mValueError\u001b[0m: complex() arg is a malformed string",
      "\nThe above exception was the direct cause of the following exception:\n",
      "\u001b[0;31mTypeError\u001b[0m                                 Traceback (most recent call last)",
      "Cell \u001b[0;32mIn[49], line 3\u001b[0m\n\u001b[1;32m      1\u001b[0m \u001b[39m# sol 5\u001b[39;00m\n\u001b[1;32m      2\u001b[0m df1\u001b[39m.\u001b[39mloc[:,\u001b[39m'\u001b[39m\u001b[39mcolumn_2\u001b[39m\u001b[39m'\u001b[39m]\u001b[39m=\u001b[39m\u001b[39m\"\u001b[39m\u001b[39mworld\u001b[39m\u001b[39m\"\u001b[39m\n\u001b[0;32m----> 3\u001b[0m df1\u001b[39m.\u001b[39;49mloc[:,\u001b[39m'\u001b[39;49m\u001b[39mcolumn_2\u001b[39;49m\u001b[39m'\u001b[39;49m]\u001b[39m.\u001b[39;49mmean()\n\u001b[1;32m      4\u001b[0m \u001b[39m# yes afcorce this will give us the error because we are trying to find the mean of the object(string) datatype and this will not possible .we can only find the mean of int and float datatpe value.\u001b[39;00m\n",
      "File \u001b[0;32m~/Library/Python/3.9/lib/python/site-packages/pandas/core/generic.py:11556\u001b[0m, in \u001b[0;36mNDFrame._add_numeric_operations.<locals>.mean\u001b[0;34m(self, axis, skipna, numeric_only, **kwargs)\u001b[0m\n\u001b[1;32m  11539\u001b[0m \u001b[39m@doc\u001b[39m(\n\u001b[1;32m  11540\u001b[0m     _num_doc,\n\u001b[1;32m  11541\u001b[0m     desc\u001b[39m=\u001b[39m\u001b[39m\"\u001b[39m\u001b[39mReturn the mean of the values over the requested axis.\u001b[39m\u001b[39m\"\u001b[39m,\n\u001b[0;32m   (...)\u001b[0m\n\u001b[1;32m  11554\u001b[0m     \u001b[39m*\u001b[39m\u001b[39m*\u001b[39mkwargs,\n\u001b[1;32m  11555\u001b[0m ):\n\u001b[0;32m> 11556\u001b[0m     \u001b[39mreturn\u001b[39;00m NDFrame\u001b[39m.\u001b[39;49mmean(\u001b[39mself\u001b[39;49m, axis, skipna, numeric_only, \u001b[39m*\u001b[39;49m\u001b[39m*\u001b[39;49mkwargs)\n",
      "File \u001b[0;32m~/Library/Python/3.9/lib/python/site-packages/pandas/core/generic.py:11201\u001b[0m, in \u001b[0;36mNDFrame.mean\u001b[0;34m(self, axis, skipna, numeric_only, **kwargs)\u001b[0m\n\u001b[1;32m  11194\u001b[0m \u001b[39mdef\u001b[39;00m \u001b[39mmean\u001b[39m(\n\u001b[1;32m  11195\u001b[0m     \u001b[39mself\u001b[39m,\n\u001b[1;32m  11196\u001b[0m     axis: Axis \u001b[39m|\u001b[39m \u001b[39mNone\u001b[39;00m \u001b[39m=\u001b[39m \u001b[39m0\u001b[39m,\n\u001b[0;32m   (...)\u001b[0m\n\u001b[1;32m  11199\u001b[0m     \u001b[39m*\u001b[39m\u001b[39m*\u001b[39mkwargs,\n\u001b[1;32m  11200\u001b[0m ) \u001b[39m-\u001b[39m\u001b[39m>\u001b[39m Series \u001b[39m|\u001b[39m \u001b[39mfloat\u001b[39m:\n\u001b[0;32m> 11201\u001b[0m     \u001b[39mreturn\u001b[39;00m \u001b[39mself\u001b[39;49m\u001b[39m.\u001b[39;49m_stat_function(\n\u001b[1;32m  11202\u001b[0m         \u001b[39m\"\u001b[39;49m\u001b[39mmean\u001b[39;49m\u001b[39m\"\u001b[39;49m, nanops\u001b[39m.\u001b[39;49mnanmean, axis, skipna, numeric_only, \u001b[39m*\u001b[39;49m\u001b[39m*\u001b[39;49mkwargs\n\u001b[1;32m  11203\u001b[0m     )\n",
      "File \u001b[0;32m~/Library/Python/3.9/lib/python/site-packages/pandas/core/generic.py:11158\u001b[0m, in \u001b[0;36mNDFrame._stat_function\u001b[0;34m(self, name, func, axis, skipna, numeric_only, **kwargs)\u001b[0m\n\u001b[1;32m  11154\u001b[0m     nv\u001b[39m.\u001b[39mvalidate_stat_func((), kwargs, fname\u001b[39m=\u001b[39mname)\n\u001b[1;32m  11156\u001b[0m validate_bool_kwarg(skipna, \u001b[39m\"\u001b[39m\u001b[39mskipna\u001b[39m\u001b[39m\"\u001b[39m, none_allowed\u001b[39m=\u001b[39m\u001b[39mFalse\u001b[39;00m)\n\u001b[0;32m> 11158\u001b[0m \u001b[39mreturn\u001b[39;00m \u001b[39mself\u001b[39;49m\u001b[39m.\u001b[39;49m_reduce(\n\u001b[1;32m  11159\u001b[0m     func, name\u001b[39m=\u001b[39;49mname, axis\u001b[39m=\u001b[39;49maxis, skipna\u001b[39m=\u001b[39;49mskipna, numeric_only\u001b[39m=\u001b[39;49mnumeric_only\n\u001b[1;32m  11160\u001b[0m )\n",
      "File \u001b[0;32m~/Library/Python/3.9/lib/python/site-packages/pandas/core/series.py:4670\u001b[0m, in \u001b[0;36mSeries._reduce\u001b[0;34m(self, op, name, axis, skipna, numeric_only, filter_type, **kwds)\u001b[0m\n\u001b[1;32m   4665\u001b[0m     \u001b[39mraise\u001b[39;00m \u001b[39mTypeError\u001b[39;00m(\n\u001b[1;32m   4666\u001b[0m         \u001b[39mf\u001b[39m\u001b[39m\"\u001b[39m\u001b[39mSeries.\u001b[39m\u001b[39m{\u001b[39;00mname\u001b[39m}\u001b[39;00m\u001b[39m does not allow \u001b[39m\u001b[39m{\u001b[39;00mkwd_name\u001b[39m}\u001b[39;00m\u001b[39m=\u001b[39m\u001b[39m{\u001b[39;00mnumeric_only\u001b[39m}\u001b[39;00m\u001b[39m \u001b[39m\u001b[39m\"\u001b[39m\n\u001b[1;32m   4667\u001b[0m         \u001b[39m\"\u001b[39m\u001b[39mwith non-numeric dtypes.\u001b[39m\u001b[39m\"\u001b[39m\n\u001b[1;32m   4668\u001b[0m     )\n\u001b[1;32m   4669\u001b[0m \u001b[39mwith\u001b[39;00m np\u001b[39m.\u001b[39merrstate(\u001b[39mall\u001b[39m\u001b[39m=\u001b[39m\u001b[39m\"\u001b[39m\u001b[39mignore\u001b[39m\u001b[39m\"\u001b[39m):\n\u001b[0;32m-> 4670\u001b[0m     \u001b[39mreturn\u001b[39;00m op(delegate, skipna\u001b[39m=\u001b[39;49mskipna, \u001b[39m*\u001b[39;49m\u001b[39m*\u001b[39;49mkwds)\n",
      "File \u001b[0;32m~/Library/Python/3.9/lib/python/site-packages/pandas/core/nanops.py:96\u001b[0m, in \u001b[0;36mdisallow.__call__.<locals>._f\u001b[0;34m(*args, **kwargs)\u001b[0m\n\u001b[1;32m     94\u001b[0m \u001b[39mtry\u001b[39;00m:\n\u001b[1;32m     95\u001b[0m     \u001b[39mwith\u001b[39;00m np\u001b[39m.\u001b[39merrstate(invalid\u001b[39m=\u001b[39m\u001b[39m\"\u001b[39m\u001b[39mignore\u001b[39m\u001b[39m\"\u001b[39m):\n\u001b[0;32m---> 96\u001b[0m         \u001b[39mreturn\u001b[39;00m f(\u001b[39m*\u001b[39;49margs, \u001b[39m*\u001b[39;49m\u001b[39m*\u001b[39;49mkwargs)\n\u001b[1;32m     97\u001b[0m \u001b[39mexcept\u001b[39;00m \u001b[39mValueError\u001b[39;00m \u001b[39mas\u001b[39;00m e:\n\u001b[1;32m     98\u001b[0m     \u001b[39m# we want to transform an object array\u001b[39;00m\n\u001b[1;32m     99\u001b[0m     \u001b[39m# ValueError message to the more typical TypeError\u001b[39;00m\n\u001b[1;32m    100\u001b[0m     \u001b[39m# e.g. this is normally a disallowed function on\u001b[39;00m\n\u001b[1;32m    101\u001b[0m     \u001b[39m# object arrays that contain strings\u001b[39;00m\n\u001b[1;32m    102\u001b[0m     \u001b[39mif\u001b[39;00m is_object_dtype(args[\u001b[39m0\u001b[39m]):\n",
      "File \u001b[0;32m~/Library/Python/3.9/lib/python/site-packages/pandas/core/nanops.py:158\u001b[0m, in \u001b[0;36mbottleneck_switch.__call__.<locals>.f\u001b[0;34m(values, axis, skipna, **kwds)\u001b[0m\n\u001b[1;32m    156\u001b[0m         result \u001b[39m=\u001b[39m alt(values, axis\u001b[39m=\u001b[39maxis, skipna\u001b[39m=\u001b[39mskipna, \u001b[39m*\u001b[39m\u001b[39m*\u001b[39mkwds)\n\u001b[1;32m    157\u001b[0m \u001b[39melse\u001b[39;00m:\n\u001b[0;32m--> 158\u001b[0m     result \u001b[39m=\u001b[39m alt(values, axis\u001b[39m=\u001b[39;49maxis, skipna\u001b[39m=\u001b[39;49mskipna, \u001b[39m*\u001b[39;49m\u001b[39m*\u001b[39;49mkwds)\n\u001b[1;32m    160\u001b[0m \u001b[39mreturn\u001b[39;00m result\n",
      "File \u001b[0;32m~/Library/Python/3.9/lib/python/site-packages/pandas/core/nanops.py:421\u001b[0m, in \u001b[0;36m_datetimelike_compat.<locals>.new_func\u001b[0;34m(values, axis, skipna, mask, **kwargs)\u001b[0m\n\u001b[1;32m    418\u001b[0m \u001b[39mif\u001b[39;00m datetimelike \u001b[39mand\u001b[39;00m mask \u001b[39mis\u001b[39;00m \u001b[39mNone\u001b[39;00m:\n\u001b[1;32m    419\u001b[0m     mask \u001b[39m=\u001b[39m isna(values)\n\u001b[0;32m--> 421\u001b[0m result \u001b[39m=\u001b[39m func(values, axis\u001b[39m=\u001b[39;49maxis, skipna\u001b[39m=\u001b[39;49mskipna, mask\u001b[39m=\u001b[39;49mmask, \u001b[39m*\u001b[39;49m\u001b[39m*\u001b[39;49mkwargs)\n\u001b[1;32m    423\u001b[0m \u001b[39mif\u001b[39;00m datetimelike:\n\u001b[1;32m    424\u001b[0m     result \u001b[39m=\u001b[39m _wrap_results(result, orig_values\u001b[39m.\u001b[39mdtype, fill_value\u001b[39m=\u001b[39miNaT)\n",
      "File \u001b[0;32m~/Library/Python/3.9/lib/python/site-packages/pandas/core/nanops.py:727\u001b[0m, in \u001b[0;36mnanmean\u001b[0;34m(values, axis, skipna, mask)\u001b[0m\n\u001b[1;32m    724\u001b[0m     dtype_count \u001b[39m=\u001b[39m dtype\n\u001b[1;32m    726\u001b[0m count \u001b[39m=\u001b[39m _get_counts(values\u001b[39m.\u001b[39mshape, mask, axis, dtype\u001b[39m=\u001b[39mdtype_count)\n\u001b[0;32m--> 727\u001b[0m the_sum \u001b[39m=\u001b[39m _ensure_numeric(values\u001b[39m.\u001b[39;49msum(axis, dtype\u001b[39m=\u001b[39;49mdtype_sum))\n\u001b[1;32m    729\u001b[0m \u001b[39mif\u001b[39;00m axis \u001b[39mis\u001b[39;00m \u001b[39mnot\u001b[39;00m \u001b[39mNone\u001b[39;00m \u001b[39mand\u001b[39;00m \u001b[39mgetattr\u001b[39m(the_sum, \u001b[39m\"\u001b[39m\u001b[39mndim\u001b[39m\u001b[39m\"\u001b[39m, \u001b[39mFalse\u001b[39;00m):\n\u001b[1;32m    730\u001b[0m     count \u001b[39m=\u001b[39m cast(np\u001b[39m.\u001b[39mndarray, count)\n",
      "File \u001b[0;32m~/Library/Python/3.9/lib/python/site-packages/pandas/core/nanops.py:1699\u001b[0m, in \u001b[0;36m_ensure_numeric\u001b[0;34m(x)\u001b[0m\n\u001b[1;32m   1696\u001b[0m             x \u001b[39m=\u001b[39m \u001b[39mcomplex\u001b[39m(x)\n\u001b[1;32m   1697\u001b[0m         \u001b[39mexcept\u001b[39;00m \u001b[39mValueError\u001b[39;00m \u001b[39mas\u001b[39;00m err:\n\u001b[1;32m   1698\u001b[0m             \u001b[39m# e.g. \"foo\"\u001b[39;00m\n\u001b[0;32m-> 1699\u001b[0m             \u001b[39mraise\u001b[39;00m \u001b[39mTypeError\u001b[39;00m(\u001b[39mf\u001b[39m\u001b[39m\"\u001b[39m\u001b[39mCould not convert \u001b[39m\u001b[39m{\u001b[39;00mx\u001b[39m}\u001b[39;00m\u001b[39m to numeric\u001b[39m\u001b[39m\"\u001b[39m) \u001b[39mfrom\u001b[39;00m \u001b[39merr\u001b[39;00m\n\u001b[1;32m   1700\u001b[0m \u001b[39mreturn\u001b[39;00m x\n",
      "\u001b[0;31mTypeError\u001b[0m: Could not convert worldworldworldworldworldworld to numeric"
     ]
    }
   ],
   "source": [
    "# sol 5\n",
    "df1.loc[:,'column_2']=\"world\"\n",
    "df1.loc[:,'column_2'].mean()\n",
    "# yes afcorce this will give us the error because we are trying to find the mean of the object(string) datatype and this will not possible .we can only find the mean of int and float datatpe value.\n",
    "\n",
    "\n"
   ]
  },
  {
   "cell_type": "code",
   "execution_count": null,
   "metadata": {},
   "outputs": [],
   "source": []
  },
  {
   "cell_type": "code",
   "execution_count": 71,
   "metadata": {},
   "outputs": [
    {
     "name": "stdout",
     "output_type": "stream",
     "text": [
      "the current complete date  2023-08-05\n",
      "the current month  8\n",
      "the current year  2023\n"
     ]
    }
   ],
   "source": [
    "# sol 7\n",
    "import pandas as pd\n",
    "from datetime import datetime\n",
    "\n",
    "all=datetime.now()\n",
    "print(\"the current complete date \",all.date())\n",
    "print(\"the current month \",all.month)\n",
    "print(\"the current year \",all.year)\n",
    "\n",
    "\n",
    "\n"
   ]
  },
  {
   "cell_type": "code",
   "execution_count": 93,
   "metadata": {},
   "outputs": [
    {
     "name": "stdout",
     "output_type": "stream",
     "text": [
      "diffrence b/w dates are =\n",
      "in Days: 5 dayes\n",
      "in hours: 120 hours\n",
      "in Minutes 7200 minutes\n"
     ]
    }
   ],
   "source": [
    "# sol 8\n",
    "from pandas import Timedelta\n",
    "from datetime import datetime\n",
    "in1=input(\"enter the first date in the YYYY-MM-DD format \")\n",
    "in2=input(\"enter the second date in the YYYY-MM-DD format \")\n",
    "\n",
    "date1,date2=pd.to_datetime(in1),pd.to_datetime(in2)\n",
    "diff=date1-date2\n",
    "days1=diff.days\n",
    "hours1=days1*24\n",
    "min1=hours1*60\n",
    "\n",
    "print (\"diffrence b/w dates are =\")\n",
    "print(\"in Days:\",days1,\"dayes\")\n",
    "print(\"in hours:\",hours1,\"hours\")\n",
    "print(\"in Minutes\",min1,\"minutes\")\n"
   ]
  },
  {
   "cell_type": "code",
   "execution_count": 9,
   "metadata": {},
   "outputs": [
    {
     "name": "stdout",
     "output_type": "stream",
     "text": [
      "[3 2 1]\n",
      "     PassengerId Pclass                                               Name  \\\n",
      "12           904      1      Snyder, Mrs. John Pillsbury (Nelle Stevenson)   \n",
      "14           906      1  Chaffee, Mrs. Herbert Fuller (Carrie Constance...   \n",
      "24           916      1    Ryerson, Mrs. Arthur Larned (Emily Maria Borie)   \n",
      "26           918      1                       Ostby, Miss. Helene Ragnhild   \n",
      "28           920      1                            Brady, Mr. John Bertram   \n",
      "..           ...    ...                                                ...   \n",
      "404         1296      1                       Frauenthal, Mr. Isaac Gerald   \n",
      "405         1297      2       Nourney, Mr. Alfred (Baron von Drachstedt\")\"   \n",
      "407         1299      1                         Widener, Mr. George Dunton   \n",
      "411         1303      1    Minahan, Mrs. William Edward (Lillian E Thorpe)   \n",
      "414         1306      1                       Oliva y Ocana, Dona. Fermina   \n",
      "\n",
      "        Sex   Age  SibSp  Parch         Ticket      Fare            Cabin  \\\n",
      "12   female  23.0      1      0          21228   82.2667              B45   \n",
      "14   female  47.0      1      0    W.E.P. 5734   61.1750              E31   \n",
      "24   female  48.0      1      3       PC 17608  262.3750  B57 B59 B63 B66   \n",
      "26   female  22.0      0      1         113509   61.9792              B36   \n",
      "28     male  41.0      0      0         113054   30.5000              A21   \n",
      "..      ...   ...    ...    ...            ...       ...              ...   \n",
      "404    male  43.0      1      0          17765   27.7208              D40   \n",
      "405    male  20.0      0      0  SC/PARIS 2166   13.8625              D38   \n",
      "407    male  50.0      1      1         113503  211.5000              C80   \n",
      "411  female  37.0      1      0          19928   90.0000              C78   \n",
      "414  female  39.0      0      0       PC 17758  108.9000             C105   \n",
      "\n",
      "    Embarked  \n",
      "12         S  \n",
      "14         S  \n",
      "24         C  \n",
      "26         C  \n",
      "28         S  \n",
      "..       ...  \n",
      "404        C  \n",
      "405        C  \n",
      "407        C  \n",
      "411        Q  \n",
      "414        C  \n",
      "\n",
      "[84 rows x 11 columns]\n"
     ]
    }
   ],
   "source": [
    "# sol 9 \n",
    "def change_data (in1,in2):\n",
    "    \n",
    "    try:\n",
    "        df1=pd.read_csv(in1)\n",
    "\n",
    "    except FileNotFoundError as e:\n",
    "        print(\"file is not found\",e)\n",
    "\n",
    "    else:\n",
    "        try:\n",
    "            uq=df1[in2].unique()\n",
    "            print(uq)\n",
    "            \n",
    "\n",
    "        except:\n",
    "            print(\"enter the right name of column.\",f\"'{in2}' this is not found\")\n",
    "\n",
    "        else: \n",
    "            try:\n",
    "                    in3=input(f\"enter the category order (in the ',' comma seprade order )and the options are {uq}\")\n",
    "                    \n",
    "                    l1=list(in3.split(\",\"))\n",
    "                    l2=[]\n",
    "\n",
    "                    for i in l1:\n",
    "                        try:\n",
    "                            i=int(i)\n",
    "                            l2.append(i)\n",
    "                        except:\n",
    "                            l2.append(i)\n",
    "        \n",
    "                    order=l2\n",
    "                    df1[in2]=df1[in2].astype(pd.CategoricalDtype(categories=order))\n",
    "            except:\n",
    "                print(\"wrong category order \")\n",
    "            else:\n",
    "\n",
    "                print(df1.dropna(axis=0))\n",
    "\n",
    "in1=input(\"enter the path of csv the file\")\n",
    "in2 =input(\"enter the column name to convert\")\n",
    "\n",
    "\n",
    "change_data(in1,in2)\n",
    "\n",
    "\n",
    "\n"
   ]
  },
  {
   "cell_type": "code",
   "execution_count": 56,
   "metadata": {},
   "outputs": [
    {
     "name": "stdout",
     "output_type": "stream",
     "text": [
      "Defaulting to user installation because normal site-packages is not writeable\n",
      "Collecting matplotlib\n",
      "  Downloading matplotlib-3.7.2-cp39-cp39-macosx_11_0_arm64.whl (7.3 MB)\n",
      "\u001b[K     |████████████████████████████████| 7.3 MB 392 kB/s eta 0:00:01\n",
      "\u001b[?25hCollecting cycler>=0.10\n",
      "  Downloading cycler-0.11.0-py3-none-any.whl (6.4 kB)\n",
      "Collecting pyparsing<3.1,>=2.3.1\n",
      "  Downloading pyparsing-3.0.9-py3-none-any.whl (98 kB)\n",
      "\u001b[K     |████████████████████████████████| 98 kB 258 kB/s eta 0:00:01\n",
      "\u001b[?25hCollecting importlib-resources>=3.2.0\n",
      "  Downloading importlib_resources-6.0.0-py3-none-any.whl (31 kB)\n",
      "Collecting kiwisolver>=1.0.1\n",
      "  Downloading kiwisolver-1.4.4-cp39-cp39-macosx_11_0_arm64.whl (63 kB)\n",
      "\u001b[K     |████████████████████████████████| 63 kB 187 kB/s eta 0:00:01\n",
      "\u001b[?25hRequirement already satisfied: python-dateutil>=2.7 in /Users/Designer/Library/Python/3.9/lib/python/site-packages (from matplotlib) (2.8.2)\n",
      "Collecting fonttools>=4.22.0\n",
      "  Downloading fonttools-4.42.0-cp39-cp39-macosx_10_9_universal2.whl (2.7 MB)\n",
      "\u001b[K     |████████████████████████████████| 2.7 MB 170 kB/s eta 0:00:01\n",
      "\u001b[?25hCollecting contourpy>=1.0.1\n",
      "  Downloading contourpy-1.1.0-cp39-cp39-macosx_11_0_arm64.whl (229 kB)\n",
      "\u001b[K     |████████████████████████████████| 229 kB 152 kB/s eta 0:00:01\n",
      "\u001b[?25hCollecting pillow>=6.2.0\n",
      "  Downloading Pillow-10.0.0-cp39-cp39-macosx_11_0_arm64.whl (3.1 MB)\n",
      "\u001b[K     |████████████████████████████████| 3.1 MB 136 kB/s eta 0:00:01\n",
      "\u001b[?25hRequirement already satisfied: numpy>=1.20 in /Users/Designer/Library/Python/3.9/lib/python/site-packages (from matplotlib) (1.25.2)\n",
      "Requirement already satisfied: packaging>=20.0 in /Users/Designer/Library/Python/3.9/lib/python/site-packages (from matplotlib) (23.1)\n",
      "Requirement already satisfied: zipp>=3.1.0 in /Users/Designer/Library/Python/3.9/lib/python/site-packages (from importlib-resources>=3.2.0->matplotlib) (3.16.2)\n",
      "Requirement already satisfied: six>=1.5 in /Library/Developer/CommandLineTools/Library/Frameworks/Python3.framework/Versions/3.9/lib/python3.9/site-packages (from python-dateutil>=2.7->matplotlib) (1.15.0)\n",
      "Installing collected packages: pyparsing, pillow, kiwisolver, importlib-resources, fonttools, cycler, contourpy, matplotlib\n",
      "Successfully installed contourpy-1.1.0 cycler-0.11.0 fonttools-4.42.0 importlib-resources-6.0.0 kiwisolver-1.4.4 matplotlib-3.7.2 pillow-10.0.0 pyparsing-3.0.9\n",
      "\u001b[33mWARNING: You are using pip version 21.2.4; however, version 23.2.1 is available.\n",
      "You should consider upgrading via the '/Library/Developer/CommandLineTools/usr/bin/python3 -m pip install --upgrade pip' command.\u001b[0m\n",
      "Note: you may need to restart the kernel to use updated packages.\n"
     ]
    }
   ],
   "source": [
    "pip install matplotlib"
   ]
  },
  {
   "cell_type": "code",
   "execution_count": 68,
   "metadata": {},
   "outputs": [
    {
     "data": {
      "image/png": "[encoded data removed]",
      "text/plain": [
       "<Figure size 640x480 with 1 Axes>"
      ]
     },
     "metadata": {},
     "output_type": "display_data"
    }
   ],
   "source": [
    "# sol 10\n",
    "import pandas as pd\n",
    "try:\n",
    "    path=input(\"enter the file path\")\n",
    "    df=pd.read_csv(path)\n",
    "except FileNotFoundError:\n",
    "    print (\"file is not found \")\n",
    "else:\n",
    "    df.plot.bar(x=\" Date\",y=\" Quantity\")\n",
    "\n",
    "\n",
    "\n",
    "\n",
    "\n"
   ]
  },
  {
   "cell_type": "code",
   "execution_count": 75,
   "metadata": {},
   "outputs": [
    {
     "name": "stdout",
     "output_type": "stream",
     "text": [
      "   Student ID  Test Score\n",
      "0           1          85\n",
      "1           2          90\n",
      "2           3          80\n",
      "3           4          75\n",
      "4           5          85\n",
      "5           6          82\n",
      "6           7          78\n",
      "7           8          85\n",
      "8           9          90\n",
      "9          10          85 \n",
      "\n",
      "\n",
      "+-----------+--------+\n",
      "| Statistic | Value \n",
      "+-----------+--------+\n",
      "| Mean | 83.5 |\n",
      "| Median | 85.0 |\n",
      "| Mode | 0    85\n",
      "Name: Test Score, dtype: int64 |\n",
      "+-----------+--------+\n"
     ]
    }
   ],
   "source": [
    "# sol 11\n",
    "path=input(\"Enter the path\")\n",
    "df=pd.read_csv(path)\n",
    "print(df,\"\\n\\n\")\n",
    "print(\"+-----------+--------+\")\n",
    "print(f\"| Statistic | Value \")\n",
    "print(\"+-----------+--------+\")\n",
    "print(f\"| Mean | {df['Test Score'].mean()} |\")\n",
    "print(f\"| Median | {df['Test Score'].median()} |\")\n",
    "print(f\"| Mode | {df['Test Score'].mode()} |\")\n",
    "print(\"+-----------+--------+\")\n",
    "\n"
   ]
  },
  {
   "cell_type": "code",
   "execution_count": null,
   "metadata": {},
   "outputs": [],
   "source": []
  }
 ],
 "metadata": {
  "kernelspec": {
   "display_name": "Python 3",
   "language": "python",
   "name": "python3"
  },
  "language_info": {
   "codemirror_mode": {
    "name": "ipython",
    "version": 3
   },
   "file_extension": ".py",
   "mimetype": "text/x-python",
   "name": "python",
   "nbconvert_exporter": "python",
   "pygments_lexer": "ipython3",
   "version": "3.9.6"
  },
  "orig_nbformat": 4
 },
 "nbformat": 4,
 "nbformat_minor": 2
}
