{
 "cells": [
  {
   "cell_type": "code",
   "execution_count": 3,
   "metadata": {},
   "outputs": [],
   "source": [
    "\n",
    "# sol 1\n",
    "# here is the example to create graph by bokeh plot\n",
    "from bokeh.plotting import figure, show\n",
    "\n",
    "\n",
    "x = [1, 2, 3, 4, 5]\n",
    "y = [6, 7, 2, 4, 5]\n",
    "\n",
    "p = figure(title=\"Simple Bokeh Plot\", x_axis_label='X-axis', y_axis_label='Y-axis')\n",
    "\n",
    "p.circle(x, y, size=10, color=\"navy\", alpha=0.5)\n",
    "show(p)"
   ]
  },
  {
   "cell_type": "code",
   "execution_count": 6,
   "metadata": {},
   "outputs": [],
   "source": [
    "\n",
    "# sol 2\n",
    "# glyphs are visual markers or shapes that you can use to represent data points on a plot. \n",
    "# Glyphs are the fundamental building blocks for creating visualizations in Bokeh. They can represent various types of data, such as points, lines, bars, and more.\n",
    "\n",
    "#for example\n",
    "from bokeh.plotting import figure, show\n",
    "from bokeh.models import ColumnDataSource\n",
    "\n",
    "\n",
    "data = {'x': [1, 2, 3, 4, 5],\n",
    "        'y': [6, 7, 2, 4, 8]}\n",
    "\n",
    "source = ColumnDataSource(data=data)\n",
    "\n",
    "\n",
    "p = figure(title='Scatter Plot Example', x_axis_label='X-axis', y_axis_label='Y-axis')\n",
    "\n",
    "# Add circles as glyphs using the data from the source\n",
    "p.circle(x='x', y='y', size=10, source=source, color='blue', legend_label='Data Points')\n",
    "\n",
    "\n",
    "\n",
    "show(p)\n"
   ]
  },
  {
   "cell_type": "code",
   "execution_count": 17,
   "metadata": {},
   "outputs": [
    {
     "name": "stderr",
     "output_type": "stream",
     "text": [
      "/var/folders/hf/stnhvdxx35l5jkkcrnfzvl4h0000gp/T/ipykernel_41088/1942660984.py:9: UserWarning: \n",
      "You are attempting to set `plot.legend.title` on a plot that has zero legends added, this will have no effect.\n",
      "\n",
      "Before legend properties can be set, you must add a Legend explicitly, or call a glyph method with a legend parameter set.\n",
      "\n",
      "  p.legend.title = 'Legend'\n",
      "/var/folders/hf/stnhvdxx35l5jkkcrnfzvl4h0000gp/T/ipykernel_41088/1942660984.py:10: UserWarning: \n",
      "You are attempting to set `plot.legend.label_text_font_size` on a plot that has zero legends added, this will have no effect.\n",
      "\n",
      "Before legend properties can be set, you must add a Legend explicitly, or call a glyph method with a legend parameter set.\n",
      "\n",
      "  p.legend.label_text_font_size = '12pt'\n",
      "/var/folders/hf/stnhvdxx35l5jkkcrnfzvl4h0000gp/T/ipykernel_41088/1942660984.py:11: UserWarning: \n",
      "You are attempting to set `plot.legend.location` on a plot that has zero legends added, this will have no effect.\n",
      "\n",
      "Before legend properties can be set, you must add a Legend explicitly, or call a glyph method with a legend parameter set.\n",
      "\n",
      "  p.legend.location = 'top_left'\n"
     ]
    }
   ],
   "source": [
    "# sol 3\n",
    "from bokeh.plotting import figure,show\n",
    "a=[45,23,343,42,42,23,43,24,42,34,32,42]\n",
    "b=[45,23,343,43,42,23,78,24,42,34,32,42]\n",
    "p = figure(title='my GHRAPH Plot ', x_axis_label='X-axis', y_axis_label='Y-axis')\n",
    "p.line(x=a,y=b)\n",
    "\n",
    "# for style \n",
    "p.legend.title = 'Legend'\n",
    "p.legend.label_text_font_size = '12pt'\n",
    "p.legend.location = 'top_left'\n",
    "\n",
    "show(p)"
   ]
  },
  {
   "cell_type": "code",
   "execution_count": 16,
   "metadata": {},
   "outputs": [],
   "source": [
    "# sol 4\n",
    "# A Bokeh server is a crucial component of the Bokeh library that allows you to build interactive web applications with dynamic visualizations. \n",
    "# It lets you create complex, interactive data-driven applications using Python, and these applications can be hosted on a server or run locally. \n",
    "\n",
    "from bokeh.layouts import column\n",
    "from bokeh.models import Slider, ColumnDataSource\n",
    "from bokeh.plotting import curdoc, figure\n",
    "import numpy as np\n",
    "\n",
    "# Set up initial data and plot\n",
    "x = np.linspace(0, 10, 500)\n",
    "y = np.sin(x)\n",
    "source = ColumnDataSource(data={'x': x, 'y': y})\n",
    "plot = figure(title=\"Interactive Sine Wave\")\n",
    "plot.line('x', 'y', source=source)\n",
    "\n",
    "# Define the callback function\n",
    "def update_data(attrname, old, new):\n",
    "    freq = frequency_slider.value\n",
    "    new_data = {'x': x, 'y': np.sin(freq * x)}\n",
    "    source.data = new_data\n",
    "\n",
    "# Create a slider and link it to the callback\n",
    "frequency_slider = Slider(start=0.1, end=5, value=1, step=0.1, title=\"Frequency\")\n",
    "frequency_slider.on_change('value', update_data)\n",
    "\n",
    "# Create a layout\n",
    "layout = column(plot, frequency_slider)\n",
    "\n",
    "# Add the layout to the current document\n",
    "curdoc().add_root(layout)\n",
    "show(plot)\n",
    "\n"
   ]
  },
  {
   "cell_type": "code",
   "execution_count": 18,
   "metadata": {},
   "outputs": [],
   "source": [
    "# #sol 5\n",
    "\n",
    "# steps to create the embed of bokeh plot by django\n",
    "\n",
    "    # Generate Bokeh Plot: Create your Bokeh plot using Bokeh's functions.\n",
    "\n",
    "    # Generate HTML Components: Use bokeh.embed.components to get JavaScript and HTML components.\n",
    "\n",
    "    # Create Django View: Define a view in Django to render a template.\n",
    "\n",
    "    # Pass Components to Template: Pass components to the template context.\n",
    "\n",
    "    # Create HTML Template: Create a template and insert components.\n",
    "\n",
    "    # Run Django Server: Start the Django development server."
   ]
  },
  {
   "cell_type": "code",
   "execution_count": null,
   "metadata": {},
   "outputs": [],
   "source": []
  }
 ],
 "metadata": {
  "kernelspec": {
   "display_name": "Python 3",
   "language": "python",
   "name": "python3"
  },
  "language_info": {
   "codemirror_mode": {
    "name": "ipython",
    "version": 3
   },
   "file_extension": ".py",
   "mimetype": "text/x-python",
   "name": "python",
   "nbconvert_exporter": "python",
   "pygments_lexer": "ipython3",
   "version": "3.9.6"
  },
  "orig_nbformat": 4
 },
 "nbformat": 4,
 "nbformat_minor": 2
}
