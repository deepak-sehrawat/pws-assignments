{
 "cells": [
  {
   "cell_type": "code",
   "execution_count": 8,
   "metadata": {},
   "outputs": [
    {
     "name": "stdout",
     "output_type": "stream",
     "text": [
      "[[   4    5   24   34  545  435   34    5]\n",
      " [ 345   34    5   34 5345   34  534    5]]\n"
     ]
    }
   ],
   "source": [
    "import numpy as np\n",
    "list1=[[4,5,24,34,545,435,34,5],[345,34,5,34,5345,34,534,5]]\n",
    "ar1=np.array(list1)\n",
    "print(ar1)"
   ]
  },
  {
   "cell_type": "code",
   "execution_count": 12,
   "metadata": {},
   "outputs": [
    {
     "name": "stdout",
     "output_type": "stream",
     "text": [
      "(2, 8)\n",
      "16\n"
     ]
    }
   ],
   "source": [
    "print(ar1.shape)\n",
    "print(ar1.size)"
   ]
  },
  {
   "cell_type": "code",
   "execution_count": 23,
   "metadata": {},
   "outputs": [
    {
     "name": "stdout",
     "output_type": "stream",
     "text": [
      "[4.5 5.  5.5 6.  6.5 7.  7.5 8.  8.5 9.  9.5]\n",
      "[ 0.          3.33333333  6.66666667 10.         13.33333333 16.66666667\n",
      " 20.         23.33333333 26.66666667 30.        ]\n",
      "[0. 0. 0. 0. 0. 0. 0. 0. 0. 0.]\n",
      "[[0. 0. 0. 0. 0. 0. 0.]\n",
      " [0. 0. 0. 0. 0. 0. 0.]\n",
      " [0. 0. 0. 0. 0. 0. 0.]\n",
      " [0. 0. 0. 0. 0. 0. 0.]\n",
      " [0. 0. 0. 0. 0. 0. 0.]]\n",
      "[[[0. 0. 0. 0. 0. 0. 0. 0.]\n",
      "  [0. 0. 0. 0. 0. 0. 0. 0.]\n",
      "  [0. 0. 0. 0. 0. 0. 0. 0.]\n",
      "  [0. 0. 0. 0. 0. 0. 0. 0.]\n",
      "  [0. 0. 0. 0. 0. 0. 0. 0.]]\n",
      "\n",
      " [[0. 0. 0. 0. 0. 0. 0. 0.]\n",
      "  [0. 0. 0. 0. 0. 0. 0. 0.]\n",
      "  [0. 0. 0. 0. 0. 0. 0. 0.]\n",
      "  [0. 0. 0. 0. 0. 0. 0. 0.]\n",
      "  [0. 0. 0. 0. 0. 0. 0. 0.]]\n",
      "\n",
      " [[0. 0. 0. 0. 0. 0. 0. 0.]\n",
      "  [0. 0. 0. 0. 0. 0. 0. 0.]\n",
      "  [0. 0. 0. 0. 0. 0. 0. 0.]\n",
      "  [0. 0. 0. 0. 0. 0. 0. 0.]\n",
      "  [0. 0. 0. 0. 0. 0. 0. 0.]]\n",
      "\n",
      " [[0. 0. 0. 0. 0. 0. 0. 0.]\n",
      "  [0. 0. 0. 0. 0. 0. 0. 0.]\n",
      "  [0. 0. 0. 0. 0. 0. 0. 0.]\n",
      "  [0. 0. 0. 0. 0. 0. 0. 0.]\n",
      "  [0. 0. 0. 0. 0. 0. 0. 0.]]]\n",
      "[[1. 1. 1. 1. 1. 1. 1.]\n",
      " [1. 1. 1. 1. 1. 1. 1.]\n",
      " [1. 1. 1. 1. 1. 1. 1.]\n",
      " [1. 1. 1. 1. 1. 1. 1.]\n",
      " [1. 1. 1. 1. 1. 1. 1.]]\n",
      "[[1. 1. 1. 1. 1. 1. 1.]\n",
      " [1. 1. 1. 1. 1. 1. 1.]\n",
      " [1. 1. 1. 1. 1. 1. 1.]\n",
      " [1. 1. 1. 1. 1. 1. 1.]\n",
      " [1. 1. 1. 1. 1. 1. 1.]]\n"
     ]
    }
   ],
   "source": [
    "# array produce\n",
    "ar1=np.arange(4.5,10,0.5) #same like the range funtion but also produce the float numbers  \n",
    "print(ar1)\n",
    "ar2 =np.linspace(0,30,10)\n",
    "print(ar2)  \n",
    "# by zeros(simaler to this there are \"ones\" and \"empety\")\n",
    "ar3= np.zeros(10)\n",
    "print(ar3)\n",
    "ar3= np.zeros((5,7))\n",
    "print(ar3)\n",
    "ar3= np.zeros((4,5,8))\n",
    "print(ar3)\n",
    "\n",
    "#(simaler to this there are \"ones\" and \"empety\")\n",
    "#ones\n",
    "ar3= np.ones((5,7))\n",
    "print(ar3)\n",
    "#empty\n",
    "ar3= np.empty((5,7))\n",
    "print(ar3)"
   ]
  },
  {
   "cell_type": "code",
   "execution_count": 25,
   "metadata": {},
   "outputs": [
    {
     "name": "stdout",
     "output_type": "stream",
     "text": [
      "[[43. 43. 43. 43. 43. 43. 43.]\n",
      " [43. 43. 43. 43. 43. 43. 43.]\n",
      " [43. 43. 43. 43. 43. 43. 43.]\n",
      " [43. 43. 43. 43. 43. 43. 43.]\n",
      " [43. 43. 43. 43. 43. 43. 43.]]\n"
     ]
    }
   ],
   "source": [
    "ar3= np.empty((5,7))\n",
    "print(ar3*43 )"
   ]
  },
  {
   "cell_type": "code",
   "execution_count": 28,
   "metadata": {},
   "outputs": [
    {
     "name": "stdout",
     "output_type": "stream",
     "text": [
      "[[1. 0. 0. 0. 0.]\n",
      " [0. 1. 0. 0. 0.]\n",
      " [0. 0. 1. 0. 0.]\n",
      " [0. 0. 0. 1. 0.]\n",
      " [0. 0. 0. 0. 1.]]\n"
     ]
    }
   ],
   "source": [
    "#eye for squre matrix(identric matrix)\n",
    "ar1=np.eye(5)\n",
    "print(ar1)"
   ]
  },
  {
   "cell_type": "code",
   "execution_count": 33,
   "metadata": {},
   "outputs": [
    {
     "name": "stdout",
     "output_type": "stream",
     "text": [
      "[[ 1.01363146  0.12708006  0.93606428 -1.91511979]\n",
      " [-0.23957665 -0.39149813 -0.92525411 -2.10358668]\n",
      " [ 0.82524948 -1.55526371 -0.65110955 -0.64989212]]\n",
      "[[35 45 10 73 25 70 94 96]\n",
      " [76 92 48 25 90 30 50 61]\n",
      " [23 15 10 44 92 89 68 15]\n",
      " [86 54 44 58 84 84 67 89]\n",
      " [65 75 97 76 64 29 33 21]]\n"
     ]
    },
    {
     "data": {
      "text/plain": [
       "array([[35, 45, 10, 73, 25, 70, 94, 96],\n",
       "       [76, 92, 48, 25, 90, 30, 50, 61],\n",
       "       [23, 15, 10, 44, 92, 89, 68, 15],\n",
       "       [86, 54, 44, 58, 84, 84, 67, 89],\n",
       "       [65, 75, 97, 76, 64, 29, 33, 21]])"
      ]
     },
     "execution_count": 33,
     "metadata": {},
     "output_type": "execute_result"
    }
   ],
   "source": [
    "#random in array or numpay\n",
    "ar1=np.random.randn(3,4)#randn means the mean of numbers are always 0 and sd of that numbers are 1 \n",
    "print(ar1)\n",
    "ar2=np.random.randint(10,100,(5,8))\n",
    "print(ar2)\n",
    "ar2.reshape(8,5)#if not know the other facter just put -1(any nagative number in the dimention)\n",
    "ar2.reshape(5,-4)#if not know the other facter just put -1(any nagative number in the dimention)\n",
    " "
   ]
  },
  {
   "cell_type": "code",
   "execution_count": 34,
   "metadata": {},
   "outputs": [
    {
     "data": {
      "text/plain": [
       "array([[35, 45, 10, 73, 25, 70, 94, 96],\n",
       "       [76, 92, 48, 25, 90, 30, 50, 61],\n",
       "       [23, 15, 10, 44, 92, 89, 68, 15],\n",
       "       [86, 54, 44, 58, 84, 84, 67, 89],\n",
       "       [65, 75, 97, 76, 64, 29, 33, 21]])"
      ]
     },
     "execution_count": 34,
     "metadata": {},
     "output_type": "execute_result"
    }
   ],
   "source": [
    "ar2"
   ]
  },
  {
   "cell_type": "code",
   "execution_count": 42,
   "metadata": {},
   "outputs": [
    {
     "data": {
      "text/plain": [
       "array([[73, 70],\n",
       "       [25, 30],\n",
       "       [44, 89],\n",
       "       [58, 84],\n",
       "       [76, 29]])"
      ]
     },
     "execution_count": 42,
     "metadata": {},
     "output_type": "execute_result"
    }
   ],
   "source": [
    "ar2[...,[3,5]]#(use ... for selecting the last range (for selecting the complete ))"
   ]
  },
  {
   "cell_type": "code",
   "execution_count": 43,
   "metadata": {},
   "outputs": [
    {
     "name": "stdout",
     "output_type": "stream",
     "text": [
      "[[35 45 10 73 25 70 94 96]\n",
      " [76 92 48 25 90 30 50 61]\n",
      " [23 15 10 44 92 89 68 15]\n",
      " [86 54 44 58 84 84 67 89]\n",
      " [65 75 97 76 64 29 33 21]]\n",
      "[[  39   98 3444 3516 4349  302  417  329]\n",
      " [  80  145 3482 3468 4414  262  373  294]\n",
      " [  27   68 3444 3487 4416  321  391  248]\n",
      " [  90  107 3478 3501 4408  316  390  322]\n",
      " [  69  128 3531 3519 4388  261  356  254]]\n"
     ]
    }
   ],
   "source": [
    "# we use @ for the metrix multiplication \n",
    "#use array.T to transpost the matrix \n",
    "# numpy array broad casting \n",
    "\n",
    "# example of broadcasting \n",
    "l1=[4,53,3434,3443,4324,232,323,233]\n",
    "print(ar2)\n",
    "print(ar2+l1)"
   ]
  },
  {
   "cell_type": "code",
   "execution_count": 44,
   "metadata": {},
   "outputs": [
    {
     "data": {
      "text/plain": [
       "array([[5.91607978, 6.70820393, 3.16227766, 8.54400375, 5.        ,\n",
       "        8.36660027, 9.69535971, 9.79795897],\n",
       "       [8.71779789, 9.59166305, 6.92820323, 5.        , 9.48683298,\n",
       "        5.47722558, 7.07106781, 7.81024968],\n",
       "       [4.79583152, 3.87298335, 3.16227766, 6.63324958, 9.59166305,\n",
       "        9.43398113, 8.24621125, 3.87298335],\n",
       "       [9.2736185 , 7.34846923, 6.63324958, 7.61577311, 9.16515139,\n",
       "        9.16515139, 8.18535277, 9.43398113],\n",
       "       [8.06225775, 8.66025404, 9.8488578 , 8.71779789, 8.        ,\n",
       "        5.38516481, 5.74456265, 4.58257569]])"
      ]
     },
     "execution_count": 44,
     "metadata": {},
     "output_type": "execute_result"
    }
   ],
   "source": [
    "np.sqrt(ar2)"
   ]
  },
  {
   "cell_type": "code",
   "execution_count": 46,
   "metadata": {},
   "outputs": [
    {
     "data": {
      "text/plain": [
       "array([35, 45, 10, 73, 25, 70, 94, 96, 76, 92, 48, 25, 90, 30, 50, 61, 23,\n",
       "       15, 10, 44, 92, 89, 68, 15, 86, 54, 44, 58, 84, 84, 67, 89, 65, 75,\n",
       "       97, 76, 64, 29, 33, 21])"
      ]
     },
     "execution_count": 46,
     "metadata": {},
     "output_type": "execute_result"
    }
   ],
   "source": [
    "ar2.flatten()# convert the all data into a single row 1d array(or in the list)"
   ]
  },
  {
   "cell_type": "code",
   "execution_count": 47,
   "metadata": {},
   "outputs": [],
   "source": [
    "#numpy part 2 hindi.ipynb for the diffrent functions new one "
   ]
  },
  {
   "cell_type": "code",
   "execution_count": 51,
   "metadata": {},
   "outputs": [
    {
     "data": {
      "text/plain": [
       "array([35, 35, 35, 45, 45, 45, 10, 10, 10, 73, 73, 73, 25, 25, 25, 70, 70,\n",
       "       70, 94, 94, 94, 96, 96, 96, 76, 76, 76, 92, 92, 92, 48, 48, 48, 25,\n",
       "       25, 25, 90, 90, 90, 30, 30, 30, 50, 50, 50, 61, 61, 61, 23, 23, 23,\n",
       "       15, 15, 15, 10, 10, 10, 44, 44, 44, 92, 92, 92, 89, 89, 89, 68, 68,\n",
       "       68, 15, 15, 15, 86, 86, 86, 54, 54, 54, 44, 44, 44, 58, 58, 58, 84,\n",
       "       84, 84, 84, 84, 84, 67, 67, 67, 89, 89, 89, 65, 65, 65, 75, 75, 75,\n",
       "       97, 97, 97, 76, 76, 76, 64, 64, 64, 29, 29, 29, 33, 33, 33, 21, 21,\n",
       "       21])"
      ]
     },
     "execution_count": 51,
     "metadata": {},
     "output_type": "execute_result"
    }
   ],
   "source": [
    "ar2.repeat(4)\n",
    "np.repeat(ar2,3)"
   ]
  },
  {
   "cell_type": "code",
   "execution_count": null,
   "metadata": {},
   "outputs": [],
   "source": []
  }
 ],
 "metadata": {
  "kernelspec": {
   "display_name": "Python 3",
   "language": "python",
   "name": "python3"
  },
  "language_info": {
   "codemirror_mode": {
    "name": "ipython",
    "version": 3
   },
   "file_extension": ".py",
   "mimetype": "text/x-python",
   "name": "python",
   "nbconvert_exporter": "python",
   "pygments_lexer": "ipython3",
   "version": "3.9.6"
  },
  "orig_nbformat": 4
 },
 "nbformat": 4,
 "nbformat_minor": 2
}
