{
 "cells": [
  {
   "cell_type": "code",
   "execution_count": 2,
   "metadata": {},
   "outputs": [
    {
     "name": "stdout",
     "output_type": "stream",
     "text": [
      "Collecting numpyNote: you may need to restart the kernel to use updated packages.\n",
      "\n",
      "  Downloading numpy-1.25.2-cp311-cp311-win_amd64.whl (15.5 MB)\n",
      "     ---------------------------------------- 15.5/15.5 MB 1.3 MB/s eta 0:00:00\n",
      "Installing collected packages: numpy\n",
      "Successfully installed numpy-1.25.2\n"
     ]
    },
    {
     "name": "stderr",
     "output_type": "stream",
     "text": [
      "  WARNING: The script f2py.exe is installed in 'c:\\Users\\Deepak\\AppData\\Local\\Programs\\Python\\Python311\\Scripts' which is not on PATH.\n",
      "  Consider adding this directory to PATH or, if you prefer to suppress this warning, use --no-warn-script-location.\n",
      "\n",
      "[notice] A new release of pip available: 22.3.1 -> 23.2.1\n",
      "[notice] To update, run: python.exe -m pip install --upgrade pip\n"
     ]
    }
   ],
   "source": [
    "pip install numpy\n"
   ]
  },
  {
   "cell_type": "code",
   "execution_count": 3,
   "metadata": {},
   "outputs": [],
   "source": [
    "import numpy as np\n",
    "list_ = [ '1' , '2' , '3' , '4' , '5' ]\n",
    "array_list = np.array(object = list_)"
   ]
  },
  {
   "cell_type": "code",
   "execution_count": 4,
   "metadata": {},
   "outputs": [
    {
     "name": "stdout",
     "output_type": "stream",
     "text": [
      "data type of 'list_' <class 'list'>\n",
      "data type of 'array_list' <class 'numpy.ndarray'>\n"
     ]
    }
   ],
   "source": [
    "# sol 1\n",
    "# yes there is a diffrence in the data type of variable list_ and in array (one is a list and one is ndarrry)\n",
    "\n",
    "print (\"data type of 'list_'\",type(list_))\n",
    "print (\"data type of 'array_list'\",type(array_list))\n",
    "\n"
   ]
  },
  {
   "cell_type": "code",
   "execution_count": 7,
   "metadata": {},
   "outputs": [
    {
     "name": "stdout",
     "output_type": "stream",
     "text": [
      "the data type of 1 is <class 'str'>\n",
      "the data type of 2 is <class 'str'>\n",
      "the data type of 3 is <class 'str'>\n",
      "the data type of 4 is <class 'str'>\n",
      "the data type of 5 is <class 'str'>\n",
      "the data type of 1 in numpy array is <class 'numpy.str_'>\n",
      "the data type of 2 in numpy array is <class 'numpy.str_'>\n",
      "the data type of 3 in numpy array is <class 'numpy.str_'>\n",
      "the data type of 4 in numpy array is <class 'numpy.str_'>\n",
      "the data type of 5 in numpy array is <class 'numpy.str_'>\n"
     ]
    }
   ],
   "source": [
    "# sol 2\n",
    "def for_list(x):\n",
    "    for i in x:\n",
    "        print(f\"the data type of {i} is {type(i)}\")\n",
    "\n",
    "def for_array(x):\n",
    "    for i in x:\n",
    "        print(f\"the data type of {i} in numpy array is {type(i)}\")\n",
    "\n",
    "for_list(list_)\n",
    "for_array(array_list)"
   ]
  },
  {
   "cell_type": "code",
   "execution_count": 8,
   "metadata": {},
   "outputs": [],
   "source": [
    "# sol 3\n",
    "array_list = np.array(object = list_, dtype = int)"
   ]
  },
  {
   "cell_type": "code",
   "execution_count": 9,
   "metadata": {},
   "outputs": [
    {
     "name": "stdout",
     "output_type": "stream",
     "text": [
      "the data type of 1 is <class 'str'>\n",
      "the data type of 2 is <class 'str'>\n",
      "the data type of 3 is <class 'str'>\n",
      "the data type of 4 is <class 'str'>\n",
      "the data type of 5 is <class 'str'>\n",
      "the data type of 1 in numpy array is <class 'numpy.int32'>\n",
      "the data type of 2 in numpy array is <class 'numpy.int32'>\n",
      "the data type of 3 in numpy array is <class 'numpy.int32'>\n",
      "the data type of 4 in numpy array is <class 'numpy.int32'>\n",
      "the data type of 5 in numpy array is <class 'numpy.int32'>\n"
     ]
    }
   ],
   "source": [
    "# sol 3\n",
    "def for_list(x):\n",
    "    for i in x:\n",
    "        print(f\"the data type of {i} is {type(i)}\")\n",
    "\n",
    "def for_array(x):\n",
    "    for i in x:\n",
    "        print(f\"the data type of {i} in numpy array is {type(i)}\")\n",
    "\n",
    "for_list(list_)\n",
    "for_array(array_list)\n",
    "\n",
    "# yes there is diffrence in the data type of the elements present in both the variable list_ and array_list \n",
    "# the data type of variables in list_ is 'str'\n",
    "# the data type of variables in array_list is 'int'"
   ]
  },
  {
   "cell_type": "code",
   "execution_count": 10,
   "metadata": {},
   "outputs": [],
   "source": [
    "import numpy as np\n",
    "num_list = [ [ 1 , 2 , 3 ] , [ 4 , 5 , 6 ] ]\n",
    "num_array = np.array(object = num_list)"
   ]
  },
  {
   "cell_type": "code",
   "execution_count": 15,
   "metadata": {},
   "outputs": [
    {
     "name": "stdout",
     "output_type": "stream",
     "text": [
      "the shape of array is --->  (2, 3)\n",
      "the size of array is --->  6\n"
     ]
    }
   ],
   "source": [
    "print(\"the shape of array is ---> \",np.shape(num_array))\n",
    "print(\"the size of array is ---> \",np.size(num_array))"
   ]
  },
  {
   "cell_type": "code",
   "execution_count": 20,
   "metadata": {},
   "outputs": [
    {
     "data": {
      "text/plain": [
       "array([[0., 0., 0.],\n",
       "       [0., 0., 0.],\n",
       "       [0., 0., 0.]])"
      ]
     },
     "execution_count": 20,
     "metadata": {},
     "output_type": "execute_result"
    }
   ],
   "source": [
    "# sol 5 \n",
    "ar1=np.zeros([3,3]) #np.zeros() help us to create the array that only contain zero|0 \n",
    "ar1"
   ]
  },
  {
   "cell_type": "code",
   "execution_count": 21,
   "metadata": {},
   "outputs": [
    {
     "data": {
      "text/plain": [
       "array([[1., 0., 0., 0., 0.],\n",
       "       [0., 1., 0., 0., 0.],\n",
       "       [0., 0., 1., 0., 0.],\n",
       "       [0., 0., 0., 1., 0.],\n",
       "       [0., 0., 0., 0., 1.]])"
      ]
     },
     "execution_count": 21,
     "metadata": {},
     "output_type": "execute_result"
    }
   ],
   "source": [
    "#sol 6\n",
    "ar2=np.eye(5) #np.eye() this command help us to create the identity matrix  in numpy\n",
    "ar2"
   ]
  },
  {
   "cell_type": "code",
   "execution_count": null,
   "metadata": {},
   "outputs": [],
   "source": []
  }
 ],
 "metadata": {
  "kernelspec": {
   "display_name": "Python 3",
   "language": "python",
   "name": "python3"
  },
  "language_info": {
   "codemirror_mode": {
    "name": "ipython",
    "version": 3
   },
   "file_extension": ".py",
   "mimetype": "text/x-python",
   "name": "python",
   "nbconvert_exporter": "python",
   "pygments_lexer": "ipython3",
   "version": "3.11.1"
  },
  "orig_nbformat": 4
 },
 "nbformat": 4,
 "nbformat_minor": 2
}
