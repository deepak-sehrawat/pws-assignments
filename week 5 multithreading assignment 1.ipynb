{
 "cells": [
  {
   "cell_type": "code",
   "execution_count": null,
   "metadata": {},
   "outputs": [],
   "source": [
    "# Multithreading in Python refers to the concurrent execution of multiple threads within a process. It enables parallelism, allowing tasks to run simultaneously, enhancing performance and responsiveness. Multithreading is particularly useful for I/O-bound operations.\n",
    "\n",
    "# The `threading` module in Python handles threads, providing an interface for creating, starting, and controlling threads. It also offers synchronization mechanisms like locks and conditions to manage shared resources safely. Overall, multithreading improves efficiency and enables efficient utilization of system resources."
   ]
  },
  {
   "cell_type": "code",
   "execution_count": null,
   "metadata": {},
   "outputs": [],
   "source": [
    "# sol 2 \n",
    "# The threading module in Python is used to create and manage threads in a program. Threads allow concurrent execution of multiple tasks within a single process, enabling better utilization of system resources\n",
    "\n",
    "\n",
    "#1. The activeCount() function returns the number of Thread objects currently alive. \n",
    "\n",
    "#2. The currentThread() function returns the current Thread object corresponding to the caller's thread of execution.\n",
    "\n",
    "# 3. The enumerate() function returns a list of all Thread objects currently alive. It provides a way to obtain references to all the running threads in a program.\n"
   ]
  },
  {
   "cell_type": "code",
   "execution_count": 2,
   "metadata": {},
   "outputs": [],
   "source": [
    "# sol 3 \n",
    "\n",
    "#  run():-The run() function is a method that represents the entry point for the thread's activity. It is called when the thread's start() method is invoked.\n",
    "\n",
    "# start():-The start() function is used to start the execution of a thread. When you call start() on a Thread object, it initiates the thread's activity and calls the run() method in a separate thread of execution. \n",
    "\n",
    "\n",
    "# join():-The join() function is used to wait for a thread to complete its execution. When you call join() on a Thread object, the calling thread will block and wait until the target thread finishes its task and terminates.\n",
    "\n",
    "\n",
    "# isAlive:-The isAlive attribute is used to check whether a thread is currently alive or active. It returns a boolean value indicating the thread's status. If the thread is still running or has been started but not yet finished, isAlive will return True. \n"
   ]
  },
  {
   "cell_type": "code",
   "execution_count": 17,
   "metadata": {},
   "outputs": [
    {
     "name": "stdout",
     "output_type": "stream",
     "text": [
      "[4, 9, 16, 25, 36, 49, 64, 81, 100]\n",
      "[8, 27, 64, 125, 216, 343, 512, 729, 1000]\n"
     ]
    }
   ],
   "source": [
    "# sol 4 \n",
    "import logging as lg\n",
    "lg.basicConfig(filename=\"log of week 5 multithreading assignment 1.log\",level=lg.NOTSET ,format=\"%(asctime)s,%(message)s\")\n",
    "import threading as th\n",
    "\n",
    "l1=[]\n",
    "l2=[]\n",
    "\n",
    "def square(x):\n",
    "    global l1\n",
    "    a=x**2\n",
    "    l1.append(a)\n",
    "\n",
    "def cube(y):\n",
    "    global l2\n",
    "    b=y**3\n",
    "    l2.append(b)\n",
    "\n",
    "list1=[th.Thread(target=square,args=(x,))for x in range(2,11)]\n",
    "\n",
    "list2=[th.Thread(target=cube,args=(y,)) for y in range(2,11)]\n",
    "\n",
    "for l in list1:\n",
    "    l.start()\n",
    "lg.info(l1)\n",
    "print(l1) #also use print for easy to show \n",
    "\n",
    "for l in list2:\n",
    "    l.start()\n",
    "lg.info(l2)\n",
    "print(l2)\n",
    "\n",
    "\n",
    "\n"
   ]
  },
  {
   "cell_type": "code",
   "execution_count": 18,
   "metadata": {},
   "outputs": [],
   "source": [
    "# SOL 5\n",
    "# Advantages of Multithreading:\n",
    "\n",
    "    # 1.Increased Responsiveness: Multithreading allows for concurrent execution of tasks, which can improve the responsiveness of an application.\n",
    "\n",
    "    # 2.Enhanced Performance: Multithreading can enhance performance by utilizing available system resources more efficiently. \n",
    "\n",
    "    # 3.Resource Sharing: Threads within the same process can share resources such as memory, files, and network connections more easily compared to separate processes. \n",
    "\n",
    "# Disadvantages of Multithreading:\n",
    "\n",
    "    # 1.Complexity: Multithreaded programming introduces additional complexity compared to single-threaded programming. \n",
    "\n",
    "    # 2.Increased Debugging Difficulty: Debugging multithreaded applications can be more challenging than debugging single-threaded ones. \n",
    "\n",
    "    # 3.Resource Contentions: Multithreading can lead to resource contentions, where multiple threads compete for limited resources.\n",
    "\n",
    "\n"
   ]
  },
  {
   "cell_type": "code",
   "execution_count": null,
   "metadata": {},
   "outputs": [],
   "source": [
    "# sol 6\n",
    "\n",
    "# Deadlocks: A deadlock is a situation in concurrent programming where two or more threads are unable to proceed because each is waiting for a resource that is held by another thread within the same set. \n",
    "# In other words, it's a state where threads are stuck in a circular dependency, waiting indefinitely for resources that will never become available.\n",
    "\n",
    "# Race Conditions: A race condition is a flaw that occurs when the behavior of a program depends on the relative timing of events or operations. It arises when multiple threads access shared data concurrently, and the final outcome of the program depends on the order in which the threads are scheduled to run."
   ]
  }
 ],
 "metadata": {
  "kernelspec": {
   "display_name": "Python 3",
   "language": "python",
   "name": "python3"
  },
  "language_info": {
   "codemirror_mode": {
    "name": "ipython",
    "version": 3
   },
   "file_extension": ".py",
   "mimetype": "text/x-python",
   "name": "python",
   "nbconvert_exporter": "python",
   "pygments_lexer": "ipython3",
   "version": "3.11.1"
  },
  "orig_nbformat": 4
 },
 "nbformat": 4,
 "nbformat_minor": 2
}
