{
 "cells": [
  {
   "cell_type": "code",
   "execution_count": 6,
   "metadata": {},
   "outputs": [],
   "source": [
    "# sol 1\n",
    "# exception in Python is an event that occurs during program execution, indicating an error or an exceptional condition. It disrupts the normal flow of instructions and can be handled using exception handling mechanisms\n",
    "\n",
    "# *Diffrence* \n",
    "# exceptions are errors or special situations that occur while the program is running, and we can handle them using exception handling. \n",
    "# Syntax errors are mistakes in the code itself and need to be fixed before running the program."
   ]
  },
  {
   "cell_type": "code",
   "execution_count": 8,
   "metadata": {},
   "outputs": [
    {
     "ename": "TypeError",
     "evalue": "can only concatenate str (not \"int\") to str",
     "output_type": "error",
     "traceback": [
      "\u001b[1;31m---------------------------------------------------------------------------\u001b[0m",
      "\u001b[1;31mTypeError\u001b[0m                                 Traceback (most recent call last)",
      "Cell \u001b[1;32mIn[8], line 10\u001b[0m\n\u001b[0;32m      8\u001b[0m c\u001b[39m=\u001b[39m\u001b[39m67\u001b[39m\u001b[39m+\u001b[39m\u001b[39m45\u001b[39m \n\u001b[0;32m      9\u001b[0m logging\u001b[39m.\u001b[39minfo(\u001b[39mf\u001b[39m\u001b[39m\"\u001b[39m\u001b[39m{\u001b[39;00mc\u001b[39m}\u001b[39;00m\u001b[39m\"\u001b[39m)\n\u001b[1;32m---> 10\u001b[0m b\u001b[39m=\u001b[39m\u001b[39m\"\u001b[39;49m\u001b[39mdeepak\u001b[39;49m\u001b[39m\"\u001b[39;49m\u001b[39m+\u001b[39;49m\u001b[39m45\u001b[39;49m   \u001b[39m# this line of code gives an erron and program will stop and dont perform the code after it  \u001b[39;00m\n\u001b[0;32m     11\u001b[0m logging\u001b[39m.\u001b[39minfo(\u001b[39mf\u001b[39m\u001b[39m\"\u001b[39m\u001b[39m{\u001b[39;00mb\u001b[39m}\u001b[39;00m\u001b[39m\"\u001b[39m)\n\u001b[0;32m     12\u001b[0m a\u001b[39m=\u001b[39m\u001b[39m\"\u001b[39m\u001b[39mdeepak\u001b[39m\u001b[39m\"\u001b[39m \u001b[39m+\u001b[39m \u001b[39m\"\u001b[39m\u001b[39msehrawat\u001b[39m\u001b[39m\"\u001b[39m\n",
      "\u001b[1;31mTypeError\u001b[0m: can only concatenate str (not \"int\") to str"
     ]
    }
   ],
   "source": [
    "# sol 2\n",
    "# When an exception is not handled in Python, the program terminates and displays a  message that provides information about the exception(error). It helps identify the type of error. the line of code where error occurred  the program does not continue executing any remaining code it stop at that line which have any error .\n",
    "\n",
    "# for example\n",
    "\n",
    "import logging\n",
    "logging.basicConfig(filename=\"log of week 5 exception handling assignment 1.log\" ,level=logging.NOTSET,format=\"%(asctime)s,%(message)s\")\n",
    "c=67+45 \n",
    "logging.info(f\"{c}\")\n",
    "b=\"deepak\"+45   # this line of code gives an erron and program will stop and dont perform the code after it  \n",
    "logging.info(f\"{b}\")\n",
    "a=\"deepak\" + \"sehrawat\"\n",
    "logging.info(f\"{a}\")\n",
    "\n",
    "\n"
   ]
  },
  {
   "cell_type": "code",
   "execution_count": 9,
   "metadata": {},
   "outputs": [],
   "source": [
    "# sol 3\n",
    "\n",
    "# try and except: The try statement is used to enclose the code that might raise an exception. If an exception occurs within the try block, it is caught by the corresponding except block\n",
    "\n",
    "# else: The else block is optional and follows the try and except blocks. It is executed if no exceptions occur in the try block.\n",
    "\n",
    "# finally: The finally block is also optional . It is always executed, regardless of whether an exception occurs or not. it always run .\n",
    "\n",
    "try:\n",
    "    r=open(\"file100.txt\",\"r\")\n",
    "    data=r.read()\n",
    "except FileNotFoundError as e:\n",
    "    logging.error(f\"try to handle file not found error -- {e}\")\n",
    "else:\n",
    "    r.close()\n",
    "finally:\n",
    "    logging.info(\"this is final \")\n"
   ]
  },
  {
   "cell_type": "code",
   "execution_count": 10,
   "metadata": {},
   "outputs": [],
   "source": [
    "# sol 4\n",
    "\n",
    "# 1. try and except: The try statement is used to enclose the code that might raise an exception. If an exception occurs within the try block, it is caught by the corresponding except block\n",
    "\n",
    "# example\n",
    "try:\n",
    "    c=\"pw skills \"+56\n",
    "    logging.info(f\"{c}\")\n",
    "except TypeError as e:\n",
    "    logging.error(f\"try to handle the type error -- {e}\")\n",
    "\n",
    "# 2. finally: The finally block is also optional and follows the try and except blocks . It is always executed, regardless of whether an exception occurs or not. it always run .\n",
    "\n",
    "# example\n",
    "try:\n",
    "    int(\"deepak\")\n",
    "except (TypeError,ValueError) as e:\n",
    "    logging.error(f\"try to handle the error -- {e}\")\n",
    "finally:\n",
    "     logging.info(\"this is final of try and except 1 \")\n",
    "\n",
    "# 3. raise: The raise statement in Python is used to explicitly raise an exception. It allows you to create custom exceptions or propagate existing ones.\n",
    "\n",
    "# example \n",
    "def check_int(x):\n",
    "    try:\n",
    "        x=int(x)\n",
    "    except:\n",
    "        raise TypeError(\"only int values are allowed for phone no.\") #it will raise our custom exception \n",
    "\n",
    "in1=input(\"enter your phone no.:-  \")\n",
    "try:\n",
    "    check_int(in1)\n",
    "except TypeError as e :\n",
    "    logging.error(f\"try to handle typeerror -- {e}\")\n",
    "else:\n",
    "    logging.info(\"the phone no. is correct\")\n",
    "    \n",
    "    "
   ]
  },
  {
   "cell_type": "code",
   "execution_count": 12,
   "metadata": {},
   "outputs": [],
   "source": [
    "# sol 5\n",
    "# Custom exceptions in Python are user-defined exceptions that allow developers to create their own exception classes to handle specific error conditions in their code.\n",
    "\n",
    "# uses\n",
    "# 1. Code Readability: Custom exceptions make the code more readable and self-explanatory.\n",
    "# 2. Modularity and Reusability: Custom exceptions enhance code modularity and reusability.\n",
    "# 3. Code Readability: Custom exceptions make the code more readable and self-explanatory. By using meaningful exception names\n",
    "\n",
    "# example of ustom exceptions\n",
    "class custom_error(Exception):\n",
    "    def __int__(self,msg):\n",
    "        self.msg=msg\n",
    "\n",
    "def my_error(x):\n",
    "    if type(x)!=int:\n",
    "        raise custom_error(\"plz type only int values\")\n",
    "    if x<0:\n",
    "        raise custom_error(\"negative are not allowed\")\n",
    "\n",
    "in1=input(\"enter your age- \")\n",
    "try:\n",
    "    (my_error(in1))\n",
    "except custom_error as e:\n",
    "    logging.error(f\"try to handle the custom error {e}\")\n",
    "else:\n",
    "    logging.info(f\"age is regesterd sucessful\")"
   ]
  },
  {
   "cell_type": "code",
   "execution_count": 13,
   "metadata": {},
   "outputs": [],
   "source": [
    "#sol 6\n",
    "class error_check(Exception):\n",
    "    def __init__(self,m):\n",
    "        self.m=m\n",
    "\n",
    "def check_error(x):\n",
    "    for i in x :\n",
    "        if i==\" \":\n",
    "            raise error_check(\"no spacing is allowed \")\n",
    "        else :\n",
    "            pass\n",
    "\n",
    "try:\n",
    "    b=input(\"enter your name: \")\n",
    "    check_error(b)\n",
    "except error_check as e:\n",
    "    logging.error(f\"Error in name -- {e}\")\n",
    "else:\n",
    "    logging.info(f\"Name is added {e}\")\n",
    "\n"
   ]
  },
  {
   "cell_type": "code",
   "execution_count": null,
   "metadata": {},
   "outputs": [],
   "source": []
  }
 ],
 "metadata": {
  "kernelspec": {
   "display_name": "Python 3",
   "language": "python",
   "name": "python3"
  },
  "language_info": {
   "codemirror_mode": {
    "name": "ipython",
    "version": 3
   },
   "file_extension": ".py",
   "mimetype": "text/x-python",
   "name": "python",
   "nbconvert_exporter": "python",
   "pygments_lexer": "ipython3",
   "version": "3.11.1"
  },
  "orig_nbformat": 4
 },
 "nbformat": 4,
 "nbformat_minor": 2
}
