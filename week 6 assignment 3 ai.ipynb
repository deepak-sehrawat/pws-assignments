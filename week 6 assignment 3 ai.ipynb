{
 "cells": [
  {
   "cell_type": "code",
   "execution_count": 1,
   "metadata": {},
   "outputs": [],
   "source": [
    "# sol 1\n",
    "# An API, or Application Programming Interface, is a set of rules and protocols that enables different software applications to interact with each other.\n",
    "\n",
    "# example\n",
    "# API usage in real life is in weather applications or websites. Many weather services, such as OpenWeatherMap or AccuWeather, provide APIs that allow developers to retrieve weather data programmatically. These APIs enable developers to fetch current weather conditions, forecasts, and other relevant information for specific locations. Weather applications and websites utilize these APIs to provide users with up-to-date weather information\n"
   ]
  },
  {
   "cell_type": "code",
   "execution_count": 2,
   "metadata": {},
   "outputs": [],
   "source": [
    "# sol 2\n",
    "\n",
    "# Advantage\n",
    "\n",
    "# Enhanced functionality: APIs allow developers to access and leverage the functionalities of other applications or services without needing to build them from scratch. \n",
    "# increased efficiency: APIs enable seamless communication between different software components, systems, or platforms. This promotes interoperability and integration, leading to more efficient workflows, streamlined processes, and improved productivity.\n",
    "# Scalability and flexibility: APIs provide a scalable and flexible approach to software development. Developers can make use of APIs to add or modify functionalities, incorporate new features, or adapt their applications to changing requirements, without having to overhaul their entire codebase.\n",
    "\n",
    "# Disadvantage\n",
    "\n",
    "# Dependency on external services: When relying on external APIs, developers are dependent on the availability and reliability of the API provider. If the API experiences downtime, performance issues, or undergoes changes.\n",
    "# Security concerns: APIs can be potential security vulnerabilities if not properly implemented or secured. Unauthorized access, data breaches, or vulnerabilities in the API itself can expose sensitive information or compromise the integrity of systems.\n",
    "\n"
   ]
  },
  {
   "cell_type": "code",
   "execution_count": 3,
   "metadata": {},
   "outputs": [],
   "source": [
    "# sol 3\n",
    "# A Web API is a type of API specifically designed for web-based communication, enabling different web applications to exchange data and interact with each other over the internet using standard web protocols like HTTP. It focuses on facilitating communication between web-based applications. \n",
    "# On the other hand API is a broader term that encompasses various types of interfaces used for software development, including libraries, frameworks, and protocols, not limited to web-based communication.\n",
    "\n"
   ]
  },
  {
   "cell_type": "code",
   "execution_count": 5,
   "metadata": {},
   "outputs": [],
   "source": [
    "# sol 4\n",
    "# REST (Representational State Transfer) and SOAP (Simple Object Access Protocol) are two contrasting architectural styles for designing web services.\n",
    "\n",
    "# REST \n",
    "        # REST is an architectural style that follows a stateless, client-server communication model. It relies on standard HTTP methods and leverages URLs to represent resources. RESTful APIs use lightweight data formats like JSON or XML for data exchange. REST offers simplicity, scalability, and loose coupling, making it popular for web services and APIs.\n",
    "\n",
    "# SOAP\n",
    "        # SOAP, on the other hand, is a protocol-based architecture that defines a messaging framework for web services. It uses XML for message format and operates over various protocols. SOAP supports advanced features such as security and reliability.\\\n",
    "\n",
    "# shortcoming of SOAP \n",
    "    #    lack of native support in manyweb browsers, has limited flexibility, and requires a steeper learning curve due to its specifications. "
   ]
  },
  {
   "cell_type": "code",
   "execution_count": null,
   "metadata": {},
   "outputs": [],
   "source": [
    "# sol 5\n",
    "\n",
    "# REST \n",
    "        # 1. REST follows a stateless, client-server communication model.\n",
    "        # 2. It leverages standard HTTP methods (GET, POST, PUT, DELETE) for data manipulation and uses lightweight data formats like JSON or XML for data exchange.\n",
    "        # 3. REST focuses on resource-oriented design, with each URL representing a resource.\n",
    "        # 4. It offers simplicity, scalability, and loose coupling.\n",
    "        # 5. REST APIs are easier to build, consume, and integrate with other systems.\n",
    "\n",
    "# SOAP\n",
    "        # 1.SOAP is a protocol-based architecture that defines a messaging framework for web services.\n",
    "        # 2.It uses XML as the message format and operates over various protocols.\n",
    "        # 3.SOAP supports advanced features such as security, reliability, and transaction handling.\n",
    "        # 4.It is suitable for enterprise-level scenarios that require strict contracts, message-level security, and advanced error handling.\n",
    "        # 5.SOAP messages tend to be larger and more complex due to the extensive XML-based envelope structure.\n"
   ]
  }
 ],
 "metadata": {
  "kernelspec": {
   "display_name": "Python 3",
   "language": "python",
   "name": "python3"
  },
  "language_info": {
   "codemirror_mode": {
    "name": "ipython",
    "version": 3
   },
   "file_extension": ".py",
   "mimetype": "text/x-python",
   "name": "python",
   "nbconvert_exporter": "python",
   "pygments_lexer": "ipython3",
   "version": "3.11.1"
  },
  "orig_nbformat": 4
 },
 "nbformat": 4,
 "nbformat_minor": 2
}
