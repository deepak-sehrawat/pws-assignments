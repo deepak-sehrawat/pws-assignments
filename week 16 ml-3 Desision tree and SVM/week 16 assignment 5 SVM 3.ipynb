{
 "cells": [
  {
   "cell_type": "code",
   "execution_count": 2,
   "metadata": {},
   "outputs": [],
   "source": [
    "import numpy as np\n",
    "import pandas as pd\n",
    "import matplotlib.pyplot as plt\n",
    "%matplotlib inline\n"
   ]
  },
  {
   "cell_type": "markdown",
   "metadata": {},
   "source": [
    "# sol 1"
   ]
  },
  {
   "cell_type": "code",
   "execution_count": 3,
   "metadata": {},
   "outputs": [
    {
     "name": "stdout",
     "output_type": "stream",
     "text": [
      "<class 'pandas.core.frame.DataFrame'>\n",
      "RangeIndex: 13320 entries, 0 to 13319\n",
      "Data columns (total 9 columns):\n",
      " #   Column        Non-Null Count  Dtype  \n",
      "---  ------        --------------  -----  \n",
      " 0   area_type     13320 non-null  object \n",
      " 1   availability  13320 non-null  object \n",
      " 2   location      13319 non-null  object \n",
      " 3   size          13304 non-null  object \n",
      " 4   society       7818 non-null   object \n",
      " 5   total_sqft    13320 non-null  object \n",
      " 6   bath          13247 non-null  float64\n",
      " 7   balcony       12711 non-null  float64\n",
      " 8   price         13320 non-null  float64\n",
      "dtypes: float64(3), object(6)\n",
      "memory usage: 936.7+ KB\n"
     ]
    },
    {
     "data": {
      "text/html": [
       "<div>\n",
       "<style scoped>\n",
       "    .dataframe tbody tr th:only-of-type {\n",
       "        vertical-align: middle;\n",
       "    }\n",
       "\n",
       "    .dataframe tbody tr th {\n",
       "        vertical-align: top;\n",
       "    }\n",
       "\n",
       "    .dataframe thead th {\n",
       "        text-align: right;\n",
       "    }\n",
       "</style>\n",
       "<table border=\"1\" class=\"dataframe\">\n",
       "  <thead>\n",
       "    <tr style=\"text-align: right;\">\n",
       "      <th></th>\n",
       "      <th>area_type</th>\n",
       "      <th>availability</th>\n",
       "      <th>location</th>\n",
       "      <th>size</th>\n",
       "      <th>society</th>\n",
       "      <th>total_sqft</th>\n",
       "      <th>bath</th>\n",
       "      <th>balcony</th>\n",
       "      <th>price</th>\n",
       "    </tr>\n",
       "  </thead>\n",
       "  <tbody>\n",
       "    <tr>\n",
       "      <th>0</th>\n",
       "      <td>Super built-up  Area</td>\n",
       "      <td>19-Dec</td>\n",
       "      <td>Electronic City Phase II</td>\n",
       "      <td>2 BHK</td>\n",
       "      <td>Coomee</td>\n",
       "      <td>1056</td>\n",
       "      <td>2.0</td>\n",
       "      <td>1.0</td>\n",
       "      <td>39.07</td>\n",
       "    </tr>\n",
       "    <tr>\n",
       "      <th>1</th>\n",
       "      <td>Plot  Area</td>\n",
       "      <td>Ready To Move</td>\n",
       "      <td>Chikka Tirupathi</td>\n",
       "      <td>4 Bedroom</td>\n",
       "      <td>Theanmp</td>\n",
       "      <td>2600</td>\n",
       "      <td>5.0</td>\n",
       "      <td>3.0</td>\n",
       "      <td>120.00</td>\n",
       "    </tr>\n",
       "    <tr>\n",
       "      <th>2</th>\n",
       "      <td>Built-up  Area</td>\n",
       "      <td>Ready To Move</td>\n",
       "      <td>Uttarahalli</td>\n",
       "      <td>3 BHK</td>\n",
       "      <td>NaN</td>\n",
       "      <td>1440</td>\n",
       "      <td>2.0</td>\n",
       "      <td>3.0</td>\n",
       "      <td>62.00</td>\n",
       "    </tr>\n",
       "    <tr>\n",
       "      <th>3</th>\n",
       "      <td>Super built-up  Area</td>\n",
       "      <td>Ready To Move</td>\n",
       "      <td>Lingadheeranahalli</td>\n",
       "      <td>3 BHK</td>\n",
       "      <td>Soiewre</td>\n",
       "      <td>1521</td>\n",
       "      <td>3.0</td>\n",
       "      <td>1.0</td>\n",
       "      <td>95.00</td>\n",
       "    </tr>\n",
       "    <tr>\n",
       "      <th>4</th>\n",
       "      <td>Super built-up  Area</td>\n",
       "      <td>Ready To Move</td>\n",
       "      <td>Kothanur</td>\n",
       "      <td>2 BHK</td>\n",
       "      <td>NaN</td>\n",
       "      <td>1200</td>\n",
       "      <td>2.0</td>\n",
       "      <td>1.0</td>\n",
       "      <td>51.00</td>\n",
       "    </tr>\n",
       "    <tr>\n",
       "      <th>5</th>\n",
       "      <td>Super built-up  Area</td>\n",
       "      <td>Ready To Move</td>\n",
       "      <td>Whitefield</td>\n",
       "      <td>2 BHK</td>\n",
       "      <td>DuenaTa</td>\n",
       "      <td>1170</td>\n",
       "      <td>2.0</td>\n",
       "      <td>1.0</td>\n",
       "      <td>38.00</td>\n",
       "    </tr>\n",
       "    <tr>\n",
       "      <th>6</th>\n",
       "      <td>Super built-up  Area</td>\n",
       "      <td>18-May</td>\n",
       "      <td>Old Airport Road</td>\n",
       "      <td>4 BHK</td>\n",
       "      <td>Jaades</td>\n",
       "      <td>2732</td>\n",
       "      <td>4.0</td>\n",
       "      <td>NaN</td>\n",
       "      <td>204.00</td>\n",
       "    </tr>\n",
       "    <tr>\n",
       "      <th>7</th>\n",
       "      <td>Super built-up  Area</td>\n",
       "      <td>Ready To Move</td>\n",
       "      <td>Rajaji Nagar</td>\n",
       "      <td>4 BHK</td>\n",
       "      <td>Brway G</td>\n",
       "      <td>3300</td>\n",
       "      <td>4.0</td>\n",
       "      <td>NaN</td>\n",
       "      <td>600.00</td>\n",
       "    </tr>\n",
       "    <tr>\n",
       "      <th>8</th>\n",
       "      <td>Super built-up  Area</td>\n",
       "      <td>Ready To Move</td>\n",
       "      <td>Marathahalli</td>\n",
       "      <td>3 BHK</td>\n",
       "      <td>NaN</td>\n",
       "      <td>1310</td>\n",
       "      <td>3.0</td>\n",
       "      <td>1.0</td>\n",
       "      <td>63.25</td>\n",
       "    </tr>\n",
       "    <tr>\n",
       "      <th>9</th>\n",
       "      <td>Plot  Area</td>\n",
       "      <td>Ready To Move</td>\n",
       "      <td>Gandhi Bazar</td>\n",
       "      <td>6 Bedroom</td>\n",
       "      <td>NaN</td>\n",
       "      <td>1020</td>\n",
       "      <td>6.0</td>\n",
       "      <td>NaN</td>\n",
       "      <td>370.00</td>\n",
       "    </tr>\n",
       "  </tbody>\n",
       "</table>\n",
       "</div>"
      ],
      "text/plain": [
       "              area_type   availability                  location       size  \\\n",
       "0  Super built-up  Area         19-Dec  Electronic City Phase II      2 BHK   \n",
       "1            Plot  Area  Ready To Move          Chikka Tirupathi  4 Bedroom   \n",
       "2        Built-up  Area  Ready To Move               Uttarahalli      3 BHK   \n",
       "3  Super built-up  Area  Ready To Move        Lingadheeranahalli      3 BHK   \n",
       "4  Super built-up  Area  Ready To Move                  Kothanur      2 BHK   \n",
       "5  Super built-up  Area  Ready To Move                Whitefield      2 BHK   \n",
       "6  Super built-up  Area         18-May          Old Airport Road      4 BHK   \n",
       "7  Super built-up  Area  Ready To Move              Rajaji Nagar      4 BHK   \n",
       "8  Super built-up  Area  Ready To Move              Marathahalli      3 BHK   \n",
       "9            Plot  Area  Ready To Move              Gandhi Bazar  6 Bedroom   \n",
       "\n",
       "   society total_sqft  bath  balcony   price  \n",
       "0  Coomee        1056   2.0      1.0   39.07  \n",
       "1  Theanmp       2600   5.0      3.0  120.00  \n",
       "2      NaN       1440   2.0      3.0   62.00  \n",
       "3  Soiewre       1521   3.0      1.0   95.00  \n",
       "4      NaN       1200   2.0      1.0   51.00  \n",
       "5  DuenaTa       1170   2.0      1.0   38.00  \n",
       "6  Jaades        2732   4.0      NaN  204.00  \n",
       "7  Brway G       3300   4.0      NaN  600.00  \n",
       "8      NaN       1310   3.0      1.0   63.25  \n",
       "9      NaN       1020   6.0      NaN  370.00  "
      ]
     },
     "execution_count": 3,
     "metadata": {},
     "output_type": "execute_result"
    }
   ],
   "source": [
    "#load dataset\n",
    "df=pd.read_csv(\"Bengaluru_House_Data.csv\")\n",
    "df.info()\n",
    "df.head(10)"
   ]
  },
  {
   "cell_type": "markdown",
   "metadata": {},
   "source": [
    "## clean and fix the dataset for training the modal #EDA"
   ]
  },
  {
   "cell_type": "code",
   "execution_count": 4,
   "metadata": {},
   "outputs": [
    {
     "data": {
      "text/plain": [
       "area_type          0\n",
       "availability       0\n",
       "location           1\n",
       "size              16\n",
       "society         5502\n",
       "total_sqft         0\n",
       "bath              73\n",
       "balcony          609\n",
       "price              0\n",
       "dtype: int64"
      ]
     },
     "execution_count": 4,
     "metadata": {},
     "output_type": "execute_result"
    }
   ],
   "source": [
    "# clean and fix the dataset for training the modal #EDA\n",
    "##remove null\n",
    "df.isna().sum()  "
   ]
  },
  {
   "cell_type": "code",
   "execution_count": 5,
   "metadata": {},
   "outputs": [
    {
     "data": {
      "text/plain": [
       "area_type     0\n",
       "location      0\n",
       "size          0\n",
       "total_sqft    0\n",
       "bath          0\n",
       "balcony       0\n",
       "price         0\n",
       "dtype: int64"
      ]
     },
     "execution_count": 5,
     "metadata": {},
     "output_type": "execute_result"
    }
   ],
   "source": [
    "##remove null\n",
    "df.drop(columns=[\"society\",\"availability\"],inplace=True) #availability is not much big factor in price determination so drop it\n",
    "df.dropna(inplace=True,ignore_index=True)\n",
    "df.isna().sum()"
   ]
  },
  {
   "cell_type": "code",
   "execution_count": 6,
   "metadata": {},
   "outputs": [
    {
     "name": "stdout",
     "output_type": "stream",
     "text": [
      "<class 'pandas.core.frame.DataFrame'>\n",
      "RangeIndex: 12710 entries, 0 to 12709\n",
      "Data columns (total 7 columns):\n",
      " #   Column      Non-Null Count  Dtype  \n",
      "---  ------      --------------  -----  \n",
      " 0   area_type   12710 non-null  object \n",
      " 1   location    12710 non-null  object \n",
      " 2   size        12710 non-null  object \n",
      " 3   total_sqft  12710 non-null  object \n",
      " 4   bath        12710 non-null  float64\n",
      " 5   balcony     12710 non-null  float64\n",
      " 6   price       12710 non-null  float64\n",
      "dtypes: float64(3), object(4)\n",
      "memory usage: 695.2+ KB\n"
     ]
    }
   ],
   "source": [
    "df.info()"
   ]
  },
  {
   "cell_type": "code",
   "execution_count": 7,
   "metadata": {},
   "outputs": [
    {
     "data": {
      "text/plain": [
       "size\n",
       "2 BHK         5152\n",
       "3 BHK         4128\n",
       "4 Bedroom      749\n",
       "1 BHK          530\n",
       "3 Bedroom      527\n",
       "4 BHK          489\n",
       "2 Bedroom      328\n",
       "5 Bedroom      263\n",
       "6 Bedroom      169\n",
       "1 Bedroom      105\n",
       "7 Bedroom       69\n",
       "8 Bedroom       65\n",
       "5 BHK           36\n",
       "9 Bedroom       29\n",
       "6 BHK           23\n",
       "7 BHK           16\n",
       "1 RK            13\n",
       "9 BHK            5\n",
       "8 BHK            3\n",
       "10 Bedroom       3\n",
       "11 Bedroom       2\n",
       "11 BHK           1\n",
       "27 BHK           1\n",
       "43 Bedroom       1\n",
       "14 BHK           1\n",
       "12 Bedroom       1\n",
       "13 BHK           1\n",
       "Name: count, dtype: int64"
      ]
     },
     "execution_count": 7,
     "metadata": {},
     "output_type": "execute_result"
    }
   ],
   "source": [
    "df[\"size\"].value_counts()"
   ]
  },
  {
   "cell_type": "code",
   "execution_count": 8,
   "metadata": {},
   "outputs": [
    {
     "data": {
      "text/html": [
       "<div>\n",
       "<style scoped>\n",
       "    .dataframe tbody tr th:only-of-type {\n",
       "        vertical-align: middle;\n",
       "    }\n",
       "\n",
       "    .dataframe tbody tr th {\n",
       "        vertical-align: top;\n",
       "    }\n",
       "\n",
       "    .dataframe thead th {\n",
       "        text-align: right;\n",
       "    }\n",
       "</style>\n",
       "<table border=\"1\" class=\"dataframe\">\n",
       "  <thead>\n",
       "    <tr style=\"text-align: right;\">\n",
       "      <th></th>\n",
       "      <th>area_type</th>\n",
       "      <th>location</th>\n",
       "      <th>total_sqft</th>\n",
       "      <th>bath</th>\n",
       "      <th>balcony</th>\n",
       "      <th>price</th>\n",
       "      <th>size_fix</th>\n",
       "      <th>size_type</th>\n",
       "    </tr>\n",
       "  </thead>\n",
       "  <tbody>\n",
       "    <tr>\n",
       "      <th>0</th>\n",
       "      <td>Super built-up  Area</td>\n",
       "      <td>Electronic City Phase II</td>\n",
       "      <td>1056</td>\n",
       "      <td>2.0</td>\n",
       "      <td>1.0</td>\n",
       "      <td>39.07</td>\n",
       "      <td>2</td>\n",
       "      <td>BHK</td>\n",
       "    </tr>\n",
       "    <tr>\n",
       "      <th>1</th>\n",
       "      <td>Plot  Area</td>\n",
       "      <td>Chikka Tirupathi</td>\n",
       "      <td>2600</td>\n",
       "      <td>5.0</td>\n",
       "      <td>3.0</td>\n",
       "      <td>120.00</td>\n",
       "      <td>4</td>\n",
       "      <td>Bedroom</td>\n",
       "    </tr>\n",
       "    <tr>\n",
       "      <th>2</th>\n",
       "      <td>Built-up  Area</td>\n",
       "      <td>Uttarahalli</td>\n",
       "      <td>1440</td>\n",
       "      <td>2.0</td>\n",
       "      <td>3.0</td>\n",
       "      <td>62.00</td>\n",
       "      <td>3</td>\n",
       "      <td>BHK</td>\n",
       "    </tr>\n",
       "    <tr>\n",
       "      <th>3</th>\n",
       "      <td>Super built-up  Area</td>\n",
       "      <td>Lingadheeranahalli</td>\n",
       "      <td>1521</td>\n",
       "      <td>3.0</td>\n",
       "      <td>1.0</td>\n",
       "      <td>95.00</td>\n",
       "      <td>3</td>\n",
       "      <td>BHK</td>\n",
       "    </tr>\n",
       "    <tr>\n",
       "      <th>4</th>\n",
       "      <td>Super built-up  Area</td>\n",
       "      <td>Kothanur</td>\n",
       "      <td>1200</td>\n",
       "      <td>2.0</td>\n",
       "      <td>1.0</td>\n",
       "      <td>51.00</td>\n",
       "      <td>2</td>\n",
       "      <td>BHK</td>\n",
       "    </tr>\n",
       "  </tbody>\n",
       "</table>\n",
       "</div>"
      ],
      "text/plain": [
       "              area_type                  location total_sqft  bath  balcony  \\\n",
       "0  Super built-up  Area  Electronic City Phase II       1056   2.0      1.0   \n",
       "1            Plot  Area          Chikka Tirupathi       2600   5.0      3.0   \n",
       "2        Built-up  Area               Uttarahalli       1440   2.0      3.0   \n",
       "3  Super built-up  Area        Lingadheeranahalli       1521   3.0      1.0   \n",
       "4  Super built-up  Area                  Kothanur       1200   2.0      1.0   \n",
       "\n",
       "    price  size_fix size_type  \n",
       "0   39.07         2       BHK  \n",
       "1  120.00         4   Bedroom  \n",
       "2   62.00         3       BHK  \n",
       "3   95.00         3       BHK  \n",
       "4   51.00         2       BHK  "
      ]
     },
     "execution_count": 8,
     "metadata": {},
     "output_type": "execute_result"
    }
   ],
   "source": [
    "## fix the size column ## it is a important factor\n",
    "df[\"size_fix\"]=df[\"size\"].str.split(\" \").str.get(0)\n",
    "df[\"size_type\"]=df[\"size\"].str.split(\" \").str.get(1)\n",
    "df[\"size_fix\"]=df[\"size_fix\"].astype(int)\n",
    "df.drop(columns=\"size\",inplace=True)\n",
    "df.head(5)"
   ]
  },
  {
   "cell_type": "code",
   "execution_count": 9,
   "metadata": {},
   "outputs": [
    {
     "name": "stdout",
     "output_type": "stream",
     "text": [
      "<class 'pandas.core.frame.DataFrame'>\n",
      "RangeIndex: 12438 entries, 0 to 12437\n",
      "Data columns (total 8 columns):\n",
      " #   Column      Non-Null Count  Dtype  \n",
      "---  ------      --------------  -----  \n",
      " 0   area_type   12438 non-null  object \n",
      " 1   location    12438 non-null  object \n",
      " 2   total_sqft  12438 non-null  float64\n",
      " 3   bath        12438 non-null  float64\n",
      " 4   balcony     12438 non-null  float64\n",
      " 5   price       12438 non-null  float64\n",
      " 6   size_fix    12438 non-null  int64  \n",
      " 7   size_type   12438 non-null  object \n",
      "dtypes: float64(4), int64(1), object(3)\n",
      "memory usage: 777.5+ KB\n"
     ]
    }
   ],
   "source": [
    "#fix total_sqft\n",
    "drop_index_list=list(df.index[-df[\"total_sqft\"].str.isdecimal()])\n",
    "df.drop(index=drop_index_list,inplace=True)\n",
    "df.reset_index(inplace=True,drop=True)\n",
    "df[\"total_sqft\"]=df[\"total_sqft\"].astype(float)\n",
    "df.info()"
   ]
  },
  {
   "cell_type": "code",
   "execution_count": 10,
   "metadata": {},
   "outputs": [
    {
     "name": "stdout",
     "output_type": "stream",
     "text": [
      "<class 'pandas.core.frame.DataFrame'>\n",
      "RangeIndex: 12438 entries, 0 to 12437\n",
      "Data columns (total 12 columns):\n",
      " #   Column                Non-Null Count  Dtype  \n",
      "---  ------                --------------  -----  \n",
      " 0   total_sqft            12438 non-null  float64\n",
      " 1   bath                  12438 non-null  float64\n",
      " 2   balcony               12438 non-null  float64\n",
      " 3   price                 12438 non-null  float64\n",
      " 4   size_fix              12438 non-null  int64  \n",
      " 5   Built-up  Area        12438 non-null  int64  \n",
      " 6   Carpet  Area          12438 non-null  int64  \n",
      " 7   Plot  Area            12438 non-null  int64  \n",
      " 8   Super built-up  Area  12438 non-null  int64  \n",
      " 9   BHK                   12438 non-null  int64  \n",
      " 10  Bedroom               12438 non-null  int64  \n",
      " 11  RK                    12438 non-null  int64  \n",
      "dtypes: float64(4), int64(8)\n",
      "memory usage: 1.1 MB\n"
     ]
    }
   ],
   "source": [
    "##converting categorical data into numerical data\n",
    "def my_OHE(df:pd.DataFrame,col:[str,list]):\n",
    "    if type(col)==str:\n",
    "        col=[col]\n",
    "    elif type(col)==list:\n",
    "        for i in col:\n",
    "            area_type_encode=pd.get_dummies(df[i],dtype=int)\n",
    "            new_df=pd.concat([df.drop(columns=i),area_type_encode],axis='columns')\n",
    "            df=new_df\n",
    "\n",
    "    return new_df\n",
    "    \n",
    "\n",
    "new_df=my_OHE(df,['area_type',\"size_type\"])\n",
    "new_df=new_df.drop(columns=\"location\")\n",
    "new_df.info()"
   ]
  },
  {
   "cell_type": "code",
   "execution_count": 60,
   "metadata": {},
   "outputs": [
    {
     "data": {
      "text/plain": [
       "Index(['total_sqft', 'bath', 'balcony', 'price', 'size_fix', 'Built-up  Area',\n",
       "       'Carpet  Area', 'Plot  Area', 'Super built-up  Area', 'BHK', 'Bedroom',\n",
       "       'RK'],\n",
       "      dtype='object')"
      ]
     },
     "execution_count": 60,
     "metadata": {},
     "output_type": "execute_result"
    }
   ],
   "source": [
    "new_df.columns"
   ]
  },
  {
   "cell_type": "code",
   "execution_count": 58,
   "metadata": {},
   "outputs": [
    {
     "name": "stdout",
     "output_type": "stream",
     "text": [
      "<class 'pandas.core.frame.DataFrame'>\n",
      "RangeIndex: 12438 entries, 0 to 12437\n",
      "Data columns (total 12 columns):\n",
      " #   Column                Non-Null Count  Dtype  \n",
      "---  ------                --------------  -----  \n",
      " 0   total_sqft            12438 non-null  float64\n",
      " 1   bath                  12438 non-null  float64\n",
      " 2   balcony               12438 non-null  float64\n",
      " 3   price                 12438 non-null  float64\n",
      " 4   size_fix              12438 non-null  int64  \n",
      " 5   Built-up  Area        12438 non-null  int64  \n",
      " 6   Carpet  Area          12438 non-null  int64  \n",
      " 7   Plot  Area            12438 non-null  int64  \n",
      " 8   Super built-up  Area  12438 non-null  int64  \n",
      " 9   BHK                   12438 non-null  int64  \n",
      " 10  Bedroom               12438 non-null  int64  \n",
      " 11  RK                    12438 non-null  int64  \n",
      "dtypes: float64(4), int64(8)\n",
      "memory usage: 1.1 MB\n"
     ]
    }
   ],
   "source": [
    "new_df.info()"
   ]
  },
  {
   "cell_type": "code",
   "execution_count": 11,
   "metadata": {},
   "outputs": [],
   "source": [
    "##split data\n",
    "y=new_df[\"price\"]\n",
    "x=new_df.drop(columns=\"price\")\n",
    "## from sklearn\n",
    "from sklearn.model_selection import train_test_split\n",
    "x_train, X_test, y_train, y_test = train_test_split(x, y, test_size=0.33, random_state=42)\n"
   ]
  },
  {
   "cell_type": "code",
   "execution_count": 42,
   "metadata": {},
   "outputs": [
    {
     "data": {
      "text/html": [
       "<style>#sk-container-id-11 {color: black;}#sk-container-id-11 pre{padding: 0;}#sk-container-id-11 div.sk-toggleable {background-color: white;}#sk-container-id-11 label.sk-toggleable__label {cursor: pointer;display: block;width: 100%;margin-bottom: 0;padding: 0.3em;box-sizing: border-box;text-align: center;}#sk-container-id-11 label.sk-toggleable__label-arrow:before {content: \"▸\";float: left;margin-right: 0.25em;color: #696969;}#sk-container-id-11 label.sk-toggleable__label-arrow:hover:before {color: black;}#sk-container-id-11 div.sk-estimator:hover label.sk-toggleable__label-arrow:before {color: black;}#sk-container-id-11 div.sk-toggleable__content {max-height: 0;max-width: 0;overflow: hidden;text-align: left;background-color: #f0f8ff;}#sk-container-id-11 div.sk-toggleable__content pre {margin: 0.2em;color: black;border-radius: 0.25em;background-color: #f0f8ff;}#sk-container-id-11 input.sk-toggleable__control:checked~div.sk-toggleable__content {max-height: 200px;max-width: 100%;overflow: auto;}#sk-container-id-11 input.sk-toggleable__control:checked~label.sk-toggleable__label-arrow:before {content: \"▾\";}#sk-container-id-11 div.sk-estimator input.sk-toggleable__control:checked~label.sk-toggleable__label {background-color: #d4ebff;}#sk-container-id-11 div.sk-label input.sk-toggleable__control:checked~label.sk-toggleable__label {background-color: #d4ebff;}#sk-container-id-11 input.sk-hidden--visually {border: 0;clip: rect(1px 1px 1px 1px);clip: rect(1px, 1px, 1px, 1px);height: 1px;margin: -1px;overflow: hidden;padding: 0;position: absolute;width: 1px;}#sk-container-id-11 div.sk-estimator {font-family: monospace;background-color: #f0f8ff;border: 1px dotted black;border-radius: 0.25em;box-sizing: border-box;margin-bottom: 0.5em;}#sk-container-id-11 div.sk-estimator:hover {background-color: #d4ebff;}#sk-container-id-11 div.sk-parallel-item::after {content: \"\";width: 100%;border-bottom: 1px solid gray;flex-grow: 1;}#sk-container-id-11 div.sk-label:hover label.sk-toggleable__label {background-color: #d4ebff;}#sk-container-id-11 div.sk-serial::before {content: \"\";position: absolute;border-left: 1px solid gray;box-sizing: border-box;top: 0;bottom: 0;left: 50%;z-index: 0;}#sk-container-id-11 div.sk-serial {display: flex;flex-direction: column;align-items: center;background-color: white;padding-right: 0.2em;padding-left: 0.2em;position: relative;}#sk-container-id-11 div.sk-item {position: relative;z-index: 1;}#sk-container-id-11 div.sk-parallel {display: flex;align-items: stretch;justify-content: center;background-color: white;position: relative;}#sk-container-id-11 div.sk-item::before, #sk-container-id-11 div.sk-parallel-item::before {content: \"\";position: absolute;border-left: 1px solid gray;box-sizing: border-box;top: 0;bottom: 0;left: 50%;z-index: -1;}#sk-container-id-11 div.sk-parallel-item {display: flex;flex-direction: column;z-index: 1;position: relative;background-color: white;}#sk-container-id-11 div.sk-parallel-item:first-child::after {align-self: flex-end;width: 50%;}#sk-container-id-11 div.sk-parallel-item:last-child::after {align-self: flex-start;width: 50%;}#sk-container-id-11 div.sk-parallel-item:only-child::after {width: 0;}#sk-container-id-11 div.sk-dashed-wrapped {border: 1px dashed gray;margin: 0 0.4em 0.5em 0.4em;box-sizing: border-box;padding-bottom: 0.4em;background-color: white;}#sk-container-id-11 div.sk-label label {font-family: monospace;font-weight: bold;display: inline-block;line-height: 1.2em;}#sk-container-id-11 div.sk-label-container {text-align: center;}#sk-container-id-11 div.sk-container {/* jupyter's `normalize.less` sets `[hidden] { display: none; }` but bootstrap.min.css set `[hidden] { display: none !important; }` so we also need the `!important` here to be able to override the default hidden behavior on the sphinx rendered scikit-learn.org. See: https://github.com/scikit-learn/scikit-learn/issues/21755 */display: inline-block !important;position: relative;}#sk-container-id-11 div.sk-text-repr-fallback {display: none;}</style><div id=\"sk-container-id-11\" class=\"sk-top-container\"><div class=\"sk-text-repr-fallback\"><pre>SVR(C=10)</pre><b>In a Jupyter environment, please rerun this cell to show the HTML representation or trust the notebook. <br />On GitHub, the HTML representation is unable to render, please try loading this page with nbviewer.org.</b></div><div class=\"sk-container\" hidden><div class=\"sk-item\"><div class=\"sk-estimator sk-toggleable\"><input class=\"sk-toggleable__control sk-hidden--visually\" id=\"sk-estimator-id-13\" type=\"checkbox\" checked><label for=\"sk-estimator-id-13\" class=\"sk-toggleable__label sk-toggleable__label-arrow\">SVR</label><div class=\"sk-toggleable__content\"><pre>SVR(C=10)</pre></div></div></div></div></div>"
      ],
      "text/plain": [
       "SVR(C=10)"
      ]
     },
     "execution_count": 42,
     "metadata": {},
     "output_type": "execute_result"
    }
   ],
   "source": [
    "## train model\n",
    "from sklearn.svm import SVR\n",
    "vector_regg=SVR(C=10)\n",
    "vector_regg.fit(x_train,y_train)"
   ]
  },
  {
   "cell_type": "code",
   "execution_count": 43,
   "metadata": {},
   "outputs": [],
   "source": [
    "y_pred=vector_regg.predict(X_test)"
   ]
  },
  {
   "cell_type": "code",
   "execution_count": 44,
   "metadata": {},
   "outputs": [
    {
     "name": "stdout",
     "output_type": "stream",
     "text": [
      "r2_score = 0.36363087290980733\n",
      "mean_squared_error = 12949.155841427017\n",
      "mean_absolute_error = 39.04830777092201\n"
     ]
    }
   ],
   "source": [
    "## check the model performance\n",
    "\n",
    "from sklearn.metrics import r2_score,mean_squared_error,mean_absolute_error\n",
    "l1=[r2_score,mean_squared_error,mean_absolute_error]\n",
    "for i in l1:\n",
    "    name=i.__name__\n",
    "    result=i(y_test,y_pred)\n",
    "\n",
    "    print(name,f\"= {result}\")"
   ]
  },
  {
   "cell_type": "code",
   "execution_count": 49,
   "metadata": {},
   "outputs": [
    {
     "name": "stdout",
     "output_type": "stream",
     "text": [
      "Fitting 2 folds for each of 100 candidates, totalling 200 fits\n",
      "[CV] END ...............C=0.1, degree=2, gamma=1, kernel=rbf; total time=   0.9s\n",
      "[CV] END ...............C=0.1, degree=2, gamma=1, kernel=rbf; total time=   0.8s\n",
      "[CV] END ...........C=0.1, degree=2, gamma=1, kernel=sigmoid; total time=   0.4s\n",
      "[CV] END ...........C=0.1, degree=2, gamma=1, kernel=sigmoid; total time=   0.4s\n",
      "[CV] END .............C=0.1, degree=2, gamma=0.1, kernel=rbf; total time=   0.9s\n",
      "[CV] END .............C=0.1, degree=2, gamma=0.1, kernel=rbf; total time=   0.9s\n",
      "[CV] END .........C=0.1, degree=2, gamma=0.1, kernel=sigmoid; total time=   0.4s\n",
      "[CV] END .........C=0.1, degree=2, gamma=0.1, kernel=sigmoid; total time=   0.4s\n",
      "[CV] END ............C=0.1, degree=2, gamma=0.01, kernel=rbf; total time=   1.1s\n",
      "[CV] END ............C=0.1, degree=2, gamma=0.01, kernel=rbf; total time=   1.1s\n",
      "[CV] END ........C=0.1, degree=2, gamma=0.01, kernel=sigmoid; total time=   0.4s\n",
      "[CV] END ........C=0.1, degree=2, gamma=0.01, kernel=sigmoid; total time=   0.4s\n",
      "[CV] END ...........C=0.1, degree=2, gamma=0.001, kernel=rbf; total time=   1.0s\n",
      "[CV] END ...........C=0.1, degree=2, gamma=0.001, kernel=rbf; total time=   1.0s\n",
      "[CV] END .......C=0.1, degree=2, gamma=0.001, kernel=sigmoid; total time=   0.4s\n",
      "[CV] END .......C=0.1, degree=2, gamma=0.001, kernel=sigmoid; total time=   0.5s\n",
      "[CV] END ...........C=0.1, degree=2, gamma=scale, kernel=rbf; total time=   0.9s\n",
      "[CV] END ...........C=0.1, degree=2, gamma=scale, kernel=rbf; total time=   1.0s\n",
      "[CV] END .......C=0.1, degree=2, gamma=scale, kernel=sigmoid; total time=   0.6s\n",
      "[CV] END .......C=0.1, degree=2, gamma=scale, kernel=sigmoid; total time=   0.6s\n",
      "[CV] END ...............C=0.1, degree=3, gamma=1, kernel=rbf; total time=   0.8s\n",
      "[CV] END ...............C=0.1, degree=3, gamma=1, kernel=rbf; total time=   0.8s\n",
      "[CV] END ...........C=0.1, degree=3, gamma=1, kernel=sigmoid; total time=   0.5s\n",
      "[CV] END ...........C=0.1, degree=3, gamma=1, kernel=sigmoid; total time=   0.4s\n",
      "[CV] END .............C=0.1, degree=3, gamma=0.1, kernel=rbf; total time=   0.9s\n",
      "[CV] END .............C=0.1, degree=3, gamma=0.1, kernel=rbf; total time=   0.9s\n",
      "[CV] END .........C=0.1, degree=3, gamma=0.1, kernel=sigmoid; total time=   0.4s\n",
      "[CV] END .........C=0.1, degree=3, gamma=0.1, kernel=sigmoid; total time=   0.4s\n",
      "[CV] END ............C=0.1, degree=3, gamma=0.01, kernel=rbf; total time=   1.1s\n",
      "[CV] END ............C=0.1, degree=3, gamma=0.01, kernel=rbf; total time=   1.1s\n",
      "[CV] END ........C=0.1, degree=3, gamma=0.01, kernel=sigmoid; total time=   0.4s\n",
      "[CV] END ........C=0.1, degree=3, gamma=0.01, kernel=sigmoid; total time=   0.4s\n",
      "[CV] END ...........C=0.1, degree=3, gamma=0.001, kernel=rbf; total time=   1.0s\n",
      "[CV] END ...........C=0.1, degree=3, gamma=0.001, kernel=rbf; total time=   1.0s\n",
      "[CV] END .......C=0.1, degree=3, gamma=0.001, kernel=sigmoid; total time=   0.4s\n",
      "[CV] END .......C=0.1, degree=3, gamma=0.001, kernel=sigmoid; total time=   0.6s\n",
      "[CV] END ...........C=0.1, degree=3, gamma=scale, kernel=rbf; total time=   0.9s\n",
      "[CV] END ...........C=0.1, degree=3, gamma=scale, kernel=rbf; total time=   0.9s\n",
      "[CV] END .......C=0.1, degree=3, gamma=scale, kernel=sigmoid; total time=   0.6s\n",
      "[CV] END .......C=0.1, degree=3, gamma=scale, kernel=sigmoid; total time=   0.6s\n",
      "[CV] END .................C=1, degree=2, gamma=1, kernel=rbf; total time=   0.9s\n",
      "[CV] END .................C=1, degree=2, gamma=1, kernel=rbf; total time=   0.8s\n",
      "[CV] END .............C=1, degree=2, gamma=1, kernel=sigmoid; total time=   0.4s\n",
      "[CV] END .............C=1, degree=2, gamma=1, kernel=sigmoid; total time=   0.5s\n",
      "[CV] END ...............C=1, degree=2, gamma=0.1, kernel=rbf; total time=   0.9s\n",
      "[CV] END ...............C=1, degree=2, gamma=0.1, kernel=rbf; total time=   0.9s\n",
      "[CV] END ...........C=1, degree=2, gamma=0.1, kernel=sigmoid; total time=   0.4s\n",
      "[CV] END ...........C=1, degree=2, gamma=0.1, kernel=sigmoid; total time=   0.4s\n",
      "[CV] END ..............C=1, degree=2, gamma=0.01, kernel=rbf; total time=   1.1s\n",
      "[CV] END ..............C=1, degree=2, gamma=0.01, kernel=rbf; total time=   1.1s\n",
      "[CV] END ..........C=1, degree=2, gamma=0.01, kernel=sigmoid; total time=   0.4s\n",
      "[CV] END ..........C=1, degree=2, gamma=0.01, kernel=sigmoid; total time=   0.4s\n",
      "[CV] END .............C=1, degree=2, gamma=0.001, kernel=rbf; total time=   1.0s\n",
      "[CV] END .............C=1, degree=2, gamma=0.001, kernel=rbf; total time=   1.1s\n",
      "[CV] END .........C=1, degree=2, gamma=0.001, kernel=sigmoid; total time=   0.4s\n",
      "[CV] END .........C=1, degree=2, gamma=0.001, kernel=sigmoid; total time=   0.4s\n",
      "[CV] END .............C=1, degree=2, gamma=scale, kernel=rbf; total time=   0.9s\n",
      "[CV] END .............C=1, degree=2, gamma=scale, kernel=rbf; total time=   0.9s\n",
      "[CV] END .........C=1, degree=2, gamma=scale, kernel=sigmoid; total time=   0.6s\n",
      "[CV] END .........C=1, degree=2, gamma=scale, kernel=sigmoid; total time=   0.6s\n",
      "[CV] END .................C=1, degree=3, gamma=1, kernel=rbf; total time=   0.9s\n",
      "[CV] END .................C=1, degree=3, gamma=1, kernel=rbf; total time=   0.8s\n",
      "[CV] END .............C=1, degree=3, gamma=1, kernel=sigmoid; total time=   0.4s\n",
      "[CV] END .............C=1, degree=3, gamma=1, kernel=sigmoid; total time=   0.4s\n",
      "[CV] END ...............C=1, degree=3, gamma=0.1, kernel=rbf; total time=   0.9s\n",
      "[CV] END ...............C=1, degree=3, gamma=0.1, kernel=rbf; total time=   0.9s\n",
      "[CV] END ...........C=1, degree=3, gamma=0.1, kernel=sigmoid; total time=   0.4s\n",
      "[CV] END ...........C=1, degree=3, gamma=0.1, kernel=sigmoid; total time=   0.4s\n",
      "[CV] END ..............C=1, degree=3, gamma=0.01, kernel=rbf; total time=   1.1s\n",
      "[CV] END ..............C=1, degree=3, gamma=0.01, kernel=rbf; total time=   1.1s\n",
      "[CV] END ..........C=1, degree=3, gamma=0.01, kernel=sigmoid; total time=   0.4s\n",
      "[CV] END ..........C=1, degree=3, gamma=0.01, kernel=sigmoid; total time=   0.4s\n",
      "[CV] END .............C=1, degree=3, gamma=0.001, kernel=rbf; total time=   1.1s\n",
      "[CV] END .............C=1, degree=3, gamma=0.001, kernel=rbf; total time=   1.0s\n",
      "[CV] END .........C=1, degree=3, gamma=0.001, kernel=sigmoid; total time=   0.4s\n",
      "[CV] END .........C=1, degree=3, gamma=0.001, kernel=sigmoid; total time=   0.4s\n",
      "[CV] END .............C=1, degree=3, gamma=scale, kernel=rbf; total time=   0.9s\n",
      "[CV] END .............C=1, degree=3, gamma=scale, kernel=rbf; total time=   0.9s\n",
      "[CV] END .........C=1, degree=3, gamma=scale, kernel=sigmoid; total time=   0.6s\n",
      "[CV] END .........C=1, degree=3, gamma=scale, kernel=sigmoid; total time=   0.6s\n",
      "[CV] END ................C=10, degree=2, gamma=1, kernel=rbf; total time=   0.8s\n",
      "[CV] END ................C=10, degree=2, gamma=1, kernel=rbf; total time=   0.8s\n",
      "[CV] END ............C=10, degree=2, gamma=1, kernel=sigmoid; total time=   0.4s\n",
      "[CV] END ............C=10, degree=2, gamma=1, kernel=sigmoid; total time=   0.4s\n",
      "[CV] END ..............C=10, degree=2, gamma=0.1, kernel=rbf; total time=   0.9s\n",
      "[CV] END ..............C=10, degree=2, gamma=0.1, kernel=rbf; total time=   0.9s\n",
      "[CV] END ..........C=10, degree=2, gamma=0.1, kernel=sigmoid; total time=   0.4s\n",
      "[CV] END ..........C=10, degree=2, gamma=0.1, kernel=sigmoid; total time=   0.4s\n",
      "[CV] END .............C=10, degree=2, gamma=0.01, kernel=rbf; total time=   1.1s\n",
      "[CV] END .............C=10, degree=2, gamma=0.01, kernel=rbf; total time=   1.1s\n",
      "[CV] END .........C=10, degree=2, gamma=0.01, kernel=sigmoid; total time=   0.4s\n",
      "[CV] END .........C=10, degree=2, gamma=0.01, kernel=sigmoid; total time=   0.4s\n",
      "[CV] END ............C=10, degree=2, gamma=0.001, kernel=rbf; total time=   1.0s\n",
      "[CV] END ............C=10, degree=2, gamma=0.001, kernel=rbf; total time=   1.0s\n",
      "[CV] END ........C=10, degree=2, gamma=0.001, kernel=sigmoid; total time=   0.4s\n",
      "[CV] END ........C=10, degree=2, gamma=0.001, kernel=sigmoid; total time=   0.4s\n",
      "[CV] END ............C=10, degree=2, gamma=scale, kernel=rbf; total time=   0.9s\n",
      "[CV] END ............C=10, degree=2, gamma=scale, kernel=rbf; total time=   0.9s\n",
      "[CV] END ........C=10, degree=2, gamma=scale, kernel=sigmoid; total time=   0.6s\n",
      "[CV] END ........C=10, degree=2, gamma=scale, kernel=sigmoid; total time=   0.6s\n",
      "[CV] END ................C=10, degree=3, gamma=1, kernel=rbf; total time=   0.8s\n",
      "[CV] END ................C=10, degree=3, gamma=1, kernel=rbf; total time=   0.9s\n",
      "[CV] END ............C=10, degree=3, gamma=1, kernel=sigmoid; total time=   0.4s\n",
      "[CV] END ............C=10, degree=3, gamma=1, kernel=sigmoid; total time=   0.4s\n",
      "[CV] END ..............C=10, degree=3, gamma=0.1, kernel=rbf; total time=   1.0s\n",
      "[CV] END ..............C=10, degree=3, gamma=0.1, kernel=rbf; total time=   0.9s\n",
      "[CV] END ..........C=10, degree=3, gamma=0.1, kernel=sigmoid; total time=   0.4s\n",
      "[CV] END ..........C=10, degree=3, gamma=0.1, kernel=sigmoid; total time=   0.4s\n",
      "[CV] END .............C=10, degree=3, gamma=0.01, kernel=rbf; total time=   1.1s\n",
      "[CV] END .............C=10, degree=3, gamma=0.01, kernel=rbf; total time=   1.1s\n",
      "[CV] END .........C=10, degree=3, gamma=0.01, kernel=sigmoid; total time=   0.4s\n",
      "[CV] END .........C=10, degree=3, gamma=0.01, kernel=sigmoid; total time=   0.4s\n",
      "[CV] END ............C=10, degree=3, gamma=0.001, kernel=rbf; total time=   1.0s\n",
      "[CV] END ............C=10, degree=3, gamma=0.001, kernel=rbf; total time=   1.0s\n",
      "[CV] END ........C=10, degree=3, gamma=0.001, kernel=sigmoid; total time=   0.4s\n",
      "[CV] END ........C=10, degree=3, gamma=0.001, kernel=sigmoid; total time=   0.4s\n",
      "[CV] END ............C=10, degree=3, gamma=scale, kernel=rbf; total time=   0.9s\n",
      "[CV] END ............C=10, degree=3, gamma=scale, kernel=rbf; total time=   0.9s\n",
      "[CV] END ........C=10, degree=3, gamma=scale, kernel=sigmoid; total time=   0.6s\n",
      "[CV] END ........C=10, degree=3, gamma=scale, kernel=sigmoid; total time=   0.6s\n",
      "[CV] END ...............C=100, degree=2, gamma=1, kernel=rbf; total time=   1.0s\n",
      "[CV] END ...............C=100, degree=2, gamma=1, kernel=rbf; total time=   1.0s\n",
      "[CV] END ...........C=100, degree=2, gamma=1, kernel=sigmoid; total time=   0.4s\n",
      "[CV] END ...........C=100, degree=2, gamma=1, kernel=sigmoid; total time=   0.4s\n",
      "[CV] END .............C=100, degree=2, gamma=0.1, kernel=rbf; total time=   1.1s\n",
      "[CV] END .............C=100, degree=2, gamma=0.1, kernel=rbf; total time=   1.1s\n",
      "[CV] END .........C=100, degree=2, gamma=0.1, kernel=sigmoid; total time=   0.4s\n",
      "[CV] END .........C=100, degree=2, gamma=0.1, kernel=sigmoid; total time=   0.4s\n",
      "[CV] END ............C=100, degree=2, gamma=0.01, kernel=rbf; total time=   1.2s\n",
      "[CV] END ............C=100, degree=2, gamma=0.01, kernel=rbf; total time=   1.2s\n",
      "[CV] END ........C=100, degree=2, gamma=0.01, kernel=sigmoid; total time=   0.4s\n",
      "[CV] END ........C=100, degree=2, gamma=0.01, kernel=sigmoid; total time=   0.4s\n",
      "[CV] END ...........C=100, degree=2, gamma=0.001, kernel=rbf; total time=   1.0s\n",
      "[CV] END ...........C=100, degree=2, gamma=0.001, kernel=rbf; total time=   1.0s\n",
      "[CV] END .......C=100, degree=2, gamma=0.001, kernel=sigmoid; total time=   0.4s\n",
      "[CV] END .......C=100, degree=2, gamma=0.001, kernel=sigmoid; total time=   0.4s\n",
      "[CV] END ...........C=100, degree=2, gamma=scale, kernel=rbf; total time=   0.9s\n",
      "[CV] END ...........C=100, degree=2, gamma=scale, kernel=rbf; total time=   0.9s\n",
      "[CV] END .......C=100, degree=2, gamma=scale, kernel=sigmoid; total time=   0.6s\n",
      "[CV] END .......C=100, degree=2, gamma=scale, kernel=sigmoid; total time=   0.6s\n",
      "[CV] END ...............C=100, degree=3, gamma=1, kernel=rbf; total time=   1.0s\n",
      "[CV] END ...............C=100, degree=3, gamma=1, kernel=rbf; total time=   1.0s\n",
      "[CV] END ...........C=100, degree=3, gamma=1, kernel=sigmoid; total time=   0.4s\n",
      "[CV] END ...........C=100, degree=3, gamma=1, kernel=sigmoid; total time=   0.4s\n",
      "[CV] END .............C=100, degree=3, gamma=0.1, kernel=rbf; total time=   1.1s\n",
      "[CV] END .............C=100, degree=3, gamma=0.1, kernel=rbf; total time=   1.1s\n",
      "[CV] END .........C=100, degree=3, gamma=0.1, kernel=sigmoid; total time=   0.4s\n",
      "[CV] END .........C=100, degree=3, gamma=0.1, kernel=sigmoid; total time=   0.4s\n",
      "[CV] END ............C=100, degree=3, gamma=0.01, kernel=rbf; total time=   1.1s\n",
      "[CV] END ............C=100, degree=3, gamma=0.01, kernel=rbf; total time=   1.2s\n",
      "[CV] END ........C=100, degree=3, gamma=0.01, kernel=sigmoid; total time=   0.4s\n",
      "[CV] END ........C=100, degree=3, gamma=0.01, kernel=sigmoid; total time=   0.4s\n",
      "[CV] END ...........C=100, degree=3, gamma=0.001, kernel=rbf; total time=   1.0s\n",
      "[CV] END ...........C=100, degree=3, gamma=0.001, kernel=rbf; total time=   1.0s\n",
      "[CV] END .......C=100, degree=3, gamma=0.001, kernel=sigmoid; total time=   0.4s\n",
      "[CV] END .......C=100, degree=3, gamma=0.001, kernel=sigmoid; total time=   0.4s\n",
      "[CV] END ...........C=100, degree=3, gamma=scale, kernel=rbf; total time=   0.9s\n",
      "[CV] END ...........C=100, degree=3, gamma=scale, kernel=rbf; total time=   0.9s\n",
      "[CV] END .......C=100, degree=3, gamma=scale, kernel=sigmoid; total time=   0.6s\n",
      "[CV] END .......C=100, degree=3, gamma=scale, kernel=sigmoid; total time=   0.6s\n",
      "[CV] END ..............C=1000, degree=2, gamma=1, kernel=rbf; total time=   1.0s\n",
      "[CV] END ..............C=1000, degree=2, gamma=1, kernel=rbf; total time=   1.0s\n",
      "[CV] END ..........C=1000, degree=2, gamma=1, kernel=sigmoid; total time=   0.4s\n",
      "[CV] END ..........C=1000, degree=2, gamma=1, kernel=sigmoid; total time=   0.4s\n",
      "[CV] END ............C=1000, degree=2, gamma=0.1, kernel=rbf; total time=   2.2s\n",
      "[CV] END ............C=1000, degree=2, gamma=0.1, kernel=rbf; total time=   2.0s\n",
      "[CV] END ........C=1000, degree=2, gamma=0.1, kernel=sigmoid; total time=   0.4s\n",
      "[CV] END ........C=1000, degree=2, gamma=0.1, kernel=sigmoid; total time=   0.4s\n",
      "[CV] END ...........C=1000, degree=2, gamma=0.01, kernel=rbf; total time=   1.8s\n",
      "[CV] END ...........C=1000, degree=2, gamma=0.01, kernel=rbf; total time=   1.8s\n",
      "[CV] END .......C=1000, degree=2, gamma=0.01, kernel=sigmoid; total time=   0.5s\n",
      "[CV] END .......C=1000, degree=2, gamma=0.01, kernel=sigmoid; total time=   0.4s\n",
      "[CV] END ..........C=1000, degree=2, gamma=0.001, kernel=rbf; total time=   1.4s\n",
      "[CV] END ..........C=1000, degree=2, gamma=0.001, kernel=rbf; total time=   1.4s\n",
      "[CV] END ......C=1000, degree=2, gamma=0.001, kernel=sigmoid; total time=   0.4s\n",
      "[CV] END ......C=1000, degree=2, gamma=0.001, kernel=sigmoid; total time=   0.4s\n",
      "[CV] END ..........C=1000, degree=2, gamma=scale, kernel=rbf; total time=   0.9s\n",
      "[CV] END ..........C=1000, degree=2, gamma=scale, kernel=rbf; total time=   0.9s\n",
      "[CV] END ......C=1000, degree=2, gamma=scale, kernel=sigmoid; total time=   0.7s\n",
      "[CV] END ......C=1000, degree=2, gamma=scale, kernel=sigmoid; total time=   0.7s\n",
      "[CV] END ..............C=1000, degree=3, gamma=1, kernel=rbf; total time=   1.0s\n",
      "[CV] END ..............C=1000, degree=3, gamma=1, kernel=rbf; total time=   1.1s\n",
      "[CV] END ..........C=1000, degree=3, gamma=1, kernel=sigmoid; total time=   0.4s\n",
      "[CV] END ..........C=1000, degree=3, gamma=1, kernel=sigmoid; total time=   0.4s\n",
      "[CV] END ............C=1000, degree=3, gamma=0.1, kernel=rbf; total time=   2.4s\n",
      "[CV] END ............C=1000, degree=3, gamma=0.1, kernel=rbf; total time=   2.1s\n",
      "[CV] END ........C=1000, degree=3, gamma=0.1, kernel=sigmoid; total time=   0.5s\n",
      "[CV] END ........C=1000, degree=3, gamma=0.1, kernel=sigmoid; total time=   0.5s\n",
      "[CV] END ...........C=1000, degree=3, gamma=0.01, kernel=rbf; total time=   1.8s\n",
      "[CV] END ...........C=1000, degree=3, gamma=0.01, kernel=rbf; total time=   1.8s\n",
      "[CV] END .......C=1000, degree=3, gamma=0.01, kernel=sigmoid; total time=   0.4s\n",
      "[CV] END .......C=1000, degree=3, gamma=0.01, kernel=sigmoid; total time=   0.4s\n",
      "[CV] END ..........C=1000, degree=3, gamma=0.001, kernel=rbf; total time=   1.3s\n",
      "[CV] END ..........C=1000, degree=3, gamma=0.001, kernel=rbf; total time=   1.3s\n",
      "[CV] END ......C=1000, degree=3, gamma=0.001, kernel=sigmoid; total time=   0.4s\n",
      "[CV] END ......C=1000, degree=3, gamma=0.001, kernel=sigmoid; total time=   0.5s\n",
      "[CV] END ..........C=1000, degree=3, gamma=scale, kernel=rbf; total time=   1.0s\n",
      "[CV] END ..........C=1000, degree=3, gamma=scale, kernel=rbf; total time=   1.0s\n",
      "[CV] END ......C=1000, degree=3, gamma=scale, kernel=sigmoid; total time=   0.7s\n",
      "[CV] END ......C=1000, degree=3, gamma=scale, kernel=sigmoid; total time=   0.7s\n"
     ]
    },
    {
     "data": {
      "text/html": [
       "<style>#sk-container-id-13 {color: black;}#sk-container-id-13 pre{padding: 0;}#sk-container-id-13 div.sk-toggleable {background-color: white;}#sk-container-id-13 label.sk-toggleable__label {cursor: pointer;display: block;width: 100%;margin-bottom: 0;padding: 0.3em;box-sizing: border-box;text-align: center;}#sk-container-id-13 label.sk-toggleable__label-arrow:before {content: \"▸\";float: left;margin-right: 0.25em;color: #696969;}#sk-container-id-13 label.sk-toggleable__label-arrow:hover:before {color: black;}#sk-container-id-13 div.sk-estimator:hover label.sk-toggleable__label-arrow:before {color: black;}#sk-container-id-13 div.sk-toggleable__content {max-height: 0;max-width: 0;overflow: hidden;text-align: left;background-color: #f0f8ff;}#sk-container-id-13 div.sk-toggleable__content pre {margin: 0.2em;color: black;border-radius: 0.25em;background-color: #f0f8ff;}#sk-container-id-13 input.sk-toggleable__control:checked~div.sk-toggleable__content {max-height: 200px;max-width: 100%;overflow: auto;}#sk-container-id-13 input.sk-toggleable__control:checked~label.sk-toggleable__label-arrow:before {content: \"▾\";}#sk-container-id-13 div.sk-estimator input.sk-toggleable__control:checked~label.sk-toggleable__label {background-color: #d4ebff;}#sk-container-id-13 div.sk-label input.sk-toggleable__control:checked~label.sk-toggleable__label {background-color: #d4ebff;}#sk-container-id-13 input.sk-hidden--visually {border: 0;clip: rect(1px 1px 1px 1px);clip: rect(1px, 1px, 1px, 1px);height: 1px;margin: -1px;overflow: hidden;padding: 0;position: absolute;width: 1px;}#sk-container-id-13 div.sk-estimator {font-family: monospace;background-color: #f0f8ff;border: 1px dotted black;border-radius: 0.25em;box-sizing: border-box;margin-bottom: 0.5em;}#sk-container-id-13 div.sk-estimator:hover {background-color: #d4ebff;}#sk-container-id-13 div.sk-parallel-item::after {content: \"\";width: 100%;border-bottom: 1px solid gray;flex-grow: 1;}#sk-container-id-13 div.sk-label:hover label.sk-toggleable__label {background-color: #d4ebff;}#sk-container-id-13 div.sk-serial::before {content: \"\";position: absolute;border-left: 1px solid gray;box-sizing: border-box;top: 0;bottom: 0;left: 50%;z-index: 0;}#sk-container-id-13 div.sk-serial {display: flex;flex-direction: column;align-items: center;background-color: white;padding-right: 0.2em;padding-left: 0.2em;position: relative;}#sk-container-id-13 div.sk-item {position: relative;z-index: 1;}#sk-container-id-13 div.sk-parallel {display: flex;align-items: stretch;justify-content: center;background-color: white;position: relative;}#sk-container-id-13 div.sk-item::before, #sk-container-id-13 div.sk-parallel-item::before {content: \"\";position: absolute;border-left: 1px solid gray;box-sizing: border-box;top: 0;bottom: 0;left: 50%;z-index: -1;}#sk-container-id-13 div.sk-parallel-item {display: flex;flex-direction: column;z-index: 1;position: relative;background-color: white;}#sk-container-id-13 div.sk-parallel-item:first-child::after {align-self: flex-end;width: 50%;}#sk-container-id-13 div.sk-parallel-item:last-child::after {align-self: flex-start;width: 50%;}#sk-container-id-13 div.sk-parallel-item:only-child::after {width: 0;}#sk-container-id-13 div.sk-dashed-wrapped {border: 1px dashed gray;margin: 0 0.4em 0.5em 0.4em;box-sizing: border-box;padding-bottom: 0.4em;background-color: white;}#sk-container-id-13 div.sk-label label {font-family: monospace;font-weight: bold;display: inline-block;line-height: 1.2em;}#sk-container-id-13 div.sk-label-container {text-align: center;}#sk-container-id-13 div.sk-container {/* jupyter's `normalize.less` sets `[hidden] { display: none; }` but bootstrap.min.css set `[hidden] { display: none !important; }` so we also need the `!important` here to be able to override the default hidden behavior on the sphinx rendered scikit-learn.org. See: https://github.com/scikit-learn/scikit-learn/issues/21755 */display: inline-block !important;position: relative;}#sk-container-id-13 div.sk-text-repr-fallback {display: none;}</style><div id=\"sk-container-id-13\" class=\"sk-top-container\"><div class=\"sk-text-repr-fallback\"><pre>GridSearchCV(cv=2, estimator=SVR(),\n",
       "             param_grid={&#x27;C&#x27;: [0.1, 1, 10, 100, 1000], &#x27;degree&#x27;: [2, 3],\n",
       "                         &#x27;gamma&#x27;: [1, 0.1, 0.01, 0.001, &#x27;scale&#x27;],\n",
       "                         &#x27;kernel&#x27;: [&#x27;rbf&#x27;, &#x27;sigmoid&#x27;]},\n",
       "             scoring=&#x27;neg_root_mean_squared_error&#x27;, verbose=2)</pre><b>In a Jupyter environment, please rerun this cell to show the HTML representation or trust the notebook. <br />On GitHub, the HTML representation is unable to render, please try loading this page with nbviewer.org.</b></div><div class=\"sk-container\" hidden><div class=\"sk-item sk-dashed-wrapped\"><div class=\"sk-label-container\"><div class=\"sk-label sk-toggleable\"><input class=\"sk-toggleable__control sk-hidden--visually\" id=\"sk-estimator-id-15\" type=\"checkbox\" ><label for=\"sk-estimator-id-15\" class=\"sk-toggleable__label sk-toggleable__label-arrow\">GridSearchCV</label><div class=\"sk-toggleable__content\"><pre>GridSearchCV(cv=2, estimator=SVR(),\n",
       "             param_grid={&#x27;C&#x27;: [0.1, 1, 10, 100, 1000], &#x27;degree&#x27;: [2, 3],\n",
       "                         &#x27;gamma&#x27;: [1, 0.1, 0.01, 0.001, &#x27;scale&#x27;],\n",
       "                         &#x27;kernel&#x27;: [&#x27;rbf&#x27;, &#x27;sigmoid&#x27;]},\n",
       "             scoring=&#x27;neg_root_mean_squared_error&#x27;, verbose=2)</pre></div></div></div><div class=\"sk-parallel\"><div class=\"sk-parallel-item\"><div class=\"sk-item\"><div class=\"sk-label-container\"><div class=\"sk-label sk-toggleable\"><input class=\"sk-toggleable__control sk-hidden--visually\" id=\"sk-estimator-id-16\" type=\"checkbox\" ><label for=\"sk-estimator-id-16\" class=\"sk-toggleable__label sk-toggleable__label-arrow\">estimator: SVR</label><div class=\"sk-toggleable__content\"><pre>SVR()</pre></div></div></div><div class=\"sk-serial\"><div class=\"sk-item\"><div class=\"sk-estimator sk-toggleable\"><input class=\"sk-toggleable__control sk-hidden--visually\" id=\"sk-estimator-id-17\" type=\"checkbox\" ><label for=\"sk-estimator-id-17\" class=\"sk-toggleable__label sk-toggleable__label-arrow\">SVR</label><div class=\"sk-toggleable__content\"><pre>SVR()</pre></div></div></div></div></div></div></div></div></div></div>"
      ],
      "text/plain": [
       "GridSearchCV(cv=2, estimator=SVR(),\n",
       "             param_grid={'C': [0.1, 1, 10, 100, 1000], 'degree': [2, 3],\n",
       "                         'gamma': [1, 0.1, 0.01, 0.001, 'scale'],\n",
       "                         'kernel': ['rbf', 'sigmoid']},\n",
       "             scoring='neg_root_mean_squared_error', verbose=2)"
      ]
     },
     "execution_count": 49,
     "metadata": {},
     "output_type": "execute_result"
    }
   ],
   "source": [
    "## hyper tuning\n",
    "from sklearn.model_selection import GridSearchCV,RandomizedSearchCV\n",
    "from sklearn.svm import SVR\n",
    "param_grid = {'C': [0.1,1, 10, 100,1000], 'gamma': [1,0.1,0.01,0.001,'scale'],'kernel': ['rbf', 'sigmoid',],\"degree\":[2,3]}\n",
    "r_grid = GridSearchCV(SVR(), param_grid, refit = True, verbose = 2,cv=2,scoring=\"neg_root_mean_squared_error\")\n",
    "# r_grid = RandomizedSearchCV(SVR(), param_grid, refit = True, verbose = 2,cv=2,n_iter=10,scoring=\"r2\")\n",
    "r_grid.fit(x_train, y_train)"
   ]
  },
  {
   "cell_type": "code",
   "execution_count": 50,
   "metadata": {},
   "outputs": [
    {
     "data": {
      "text/html": [
       "<style>#sk-container-id-14 {color: black;}#sk-container-id-14 pre{padding: 0;}#sk-container-id-14 div.sk-toggleable {background-color: white;}#sk-container-id-14 label.sk-toggleable__label {cursor: pointer;display: block;width: 100%;margin-bottom: 0;padding: 0.3em;box-sizing: border-box;text-align: center;}#sk-container-id-14 label.sk-toggleable__label-arrow:before {content: \"▸\";float: left;margin-right: 0.25em;color: #696969;}#sk-container-id-14 label.sk-toggleable__label-arrow:hover:before {color: black;}#sk-container-id-14 div.sk-estimator:hover label.sk-toggleable__label-arrow:before {color: black;}#sk-container-id-14 div.sk-toggleable__content {max-height: 0;max-width: 0;overflow: hidden;text-align: left;background-color: #f0f8ff;}#sk-container-id-14 div.sk-toggleable__content pre {margin: 0.2em;color: black;border-radius: 0.25em;background-color: #f0f8ff;}#sk-container-id-14 input.sk-toggleable__control:checked~div.sk-toggleable__content {max-height: 200px;max-width: 100%;overflow: auto;}#sk-container-id-14 input.sk-toggleable__control:checked~label.sk-toggleable__label-arrow:before {content: \"▾\";}#sk-container-id-14 div.sk-estimator input.sk-toggleable__control:checked~label.sk-toggleable__label {background-color: #d4ebff;}#sk-container-id-14 div.sk-label input.sk-toggleable__control:checked~label.sk-toggleable__label {background-color: #d4ebff;}#sk-container-id-14 input.sk-hidden--visually {border: 0;clip: rect(1px 1px 1px 1px);clip: rect(1px, 1px, 1px, 1px);height: 1px;margin: -1px;overflow: hidden;padding: 0;position: absolute;width: 1px;}#sk-container-id-14 div.sk-estimator {font-family: monospace;background-color: #f0f8ff;border: 1px dotted black;border-radius: 0.25em;box-sizing: border-box;margin-bottom: 0.5em;}#sk-container-id-14 div.sk-estimator:hover {background-color: #d4ebff;}#sk-container-id-14 div.sk-parallel-item::after {content: \"\";width: 100%;border-bottom: 1px solid gray;flex-grow: 1;}#sk-container-id-14 div.sk-label:hover label.sk-toggleable__label {background-color: #d4ebff;}#sk-container-id-14 div.sk-serial::before {content: \"\";position: absolute;border-left: 1px solid gray;box-sizing: border-box;top: 0;bottom: 0;left: 50%;z-index: 0;}#sk-container-id-14 div.sk-serial {display: flex;flex-direction: column;align-items: center;background-color: white;padding-right: 0.2em;padding-left: 0.2em;position: relative;}#sk-container-id-14 div.sk-item {position: relative;z-index: 1;}#sk-container-id-14 div.sk-parallel {display: flex;align-items: stretch;justify-content: center;background-color: white;position: relative;}#sk-container-id-14 div.sk-item::before, #sk-container-id-14 div.sk-parallel-item::before {content: \"\";position: absolute;border-left: 1px solid gray;box-sizing: border-box;top: 0;bottom: 0;left: 50%;z-index: -1;}#sk-container-id-14 div.sk-parallel-item {display: flex;flex-direction: column;z-index: 1;position: relative;background-color: white;}#sk-container-id-14 div.sk-parallel-item:first-child::after {align-self: flex-end;width: 50%;}#sk-container-id-14 div.sk-parallel-item:last-child::after {align-self: flex-start;width: 50%;}#sk-container-id-14 div.sk-parallel-item:only-child::after {width: 0;}#sk-container-id-14 div.sk-dashed-wrapped {border: 1px dashed gray;margin: 0 0.4em 0.5em 0.4em;box-sizing: border-box;padding-bottom: 0.4em;background-color: white;}#sk-container-id-14 div.sk-label label {font-family: monospace;font-weight: bold;display: inline-block;line-height: 1.2em;}#sk-container-id-14 div.sk-label-container {text-align: center;}#sk-container-id-14 div.sk-container {/* jupyter's `normalize.less` sets `[hidden] { display: none; }` but bootstrap.min.css set `[hidden] { display: none !important; }` so we also need the `!important` here to be able to override the default hidden behavior on the sphinx rendered scikit-learn.org. See: https://github.com/scikit-learn/scikit-learn/issues/21755 */display: inline-block !important;position: relative;}#sk-container-id-14 div.sk-text-repr-fallback {display: none;}</style><div id=\"sk-container-id-14\" class=\"sk-top-container\"><div class=\"sk-text-repr-fallback\"><pre>SVR(C=1000, degree=2)</pre><b>In a Jupyter environment, please rerun this cell to show the HTML representation or trust the notebook. <br />On GitHub, the HTML representation is unable to render, please try loading this page with nbviewer.org.</b></div><div class=\"sk-container\" hidden><div class=\"sk-item\"><div class=\"sk-estimator sk-toggleable\"><input class=\"sk-toggleable__control sk-hidden--visually\" id=\"sk-estimator-id-18\" type=\"checkbox\" checked><label for=\"sk-estimator-id-18\" class=\"sk-toggleable__label sk-toggleable__label-arrow\">SVR</label><div class=\"sk-toggleable__content\"><pre>SVR(C=1000, degree=2)</pre></div></div></div></div></div>"
      ],
      "text/plain": [
       "SVR(C=1000, degree=2)"
      ]
     },
     "execution_count": 50,
     "metadata": {},
     "output_type": "execute_result"
    }
   ],
   "source": [
    "r_grid.best_estimator_"
   ]
  },
  {
   "cell_type": "code",
   "execution_count": 51,
   "metadata": {},
   "outputs": [],
   "source": [
    "y_pred=r_grid.predict(X_test)"
   ]
  },
  {
   "cell_type": "code",
   "execution_count": 53,
   "metadata": {},
   "outputs": [
    {
     "name": "stdout",
     "output_type": "stream",
     "text": [
      "r2_score = 0.507832326858326\n",
      "mean_squared_error = 10014.872859664645\n",
      "mean_absolute_error = 38.19139858438532\n"
     ]
    }
   ],
   "source": [
    "## performance check after tuning \n",
    "from sklearn.metrics import r2_score,mean_squared_error,mean_absolute_error\n",
    "l1=[r2_score,mean_squared_error,mean_absolute_error]\n",
    "for i in l1:\n",
    "    name=i.__name__\n",
    "    result=i(y_test,y_pred)\n",
    "\n",
    "    print(name,f\"= {result}\")\n",
    "\n",
    "# Mean Squared Error (MSE) is the more appropriate evaluation metric for our SVM regression model"
   ]
  },
  {
   "cell_type": "markdown",
   "metadata": {},
   "source": [
    "#### Mean Squared Error (MSE) is the more appropriate evaluation metric for our SVM regression model"
   ]
  },
  {
   "cell_type": "markdown",
   "metadata": {},
   "source": [
    "# sol 2-5\n"
   ]
  },
  {
   "cell_type": "code",
   "execution_count": 66,
   "metadata": {},
   "outputs": [],
   "source": [
    "# sol 2\n",
    "# If our goal is to predict the actual price of a house as accurately as possible, Mean Squared Error (MSE) is the more appropriate evaluation metric for our SVM regression model.\n",
    "\n",
    "# MSE - measures the average squared difference between our model's predictions and the actual prices of the houses in our dataset. It directly quantifies the magnitude of errors, penalizing larger errors more significantly. When our primary focus is to make accurate price predictions for houses, minimizing MSE is crucial because it ensures that our predictions are as close as possible to the true prices.\n",
    "\n",
    "# On the other hand\n",
    "# R-squared (R2) - measures the proportion of the variance in the dependent variable (house prices) that is explained by the independent variables in our model. While R-squared is a valuable metric for assessing the goodness of fit and the explanatory power of our model, it doesn't directly address the accuracy of price predictions.\n",
    "\n"
   ]
  },
  {
   "cell_type": "code",
   "execution_count": 67,
   "metadata": {},
   "outputs": [],
   "source": [
    "# sol 3\n",
    "\n",
    "# When we have a dataset with a significant number of outliers, the most appropriate regression metric to use with our SVM model is the Mean Absolute Error (MAE).\n",
    "\n",
    "# MAE, also known as the L1 loss, measures the average absolute difference between the predicted values and the actual values. It is less sensitive to outliers compared to metrics like Mean Squared Error (MSE) or Root Mean Squared Error (RMSE) because it does not square the errors. This means that extreme outlier values have a more limited impact on MAE, making it a robust choice for situations with significant outliers.\n",
    "\n",
    "# In contrast, metrics like MSE and RMSE square the errors, which can heavily penalize outliers, leading to potentially skewed and overly pessimistic model assessments when outliers are present.\n",
    "\n",
    "# So, in a dataset with a significant number of outliers, it's generally more appropriate to use Mean Absolute Error (MAE) as our regression metric when evaluating our SVM regression model.\n",
    "\n"
   ]
  },
  {
   "cell_type": "code",
   "execution_count": 68,
   "metadata": {},
   "outputs": [],
   "source": [
    "# sol 4\n",
    "\n",
    "# When we've built an SVM regression model using a polynomial kernel, and both the Mean Squared Error (MSE) and Root Mean Squared Error (RMSE) values are very close, it's generally advisable to choose the RMSE as the metric to evaluate its performance.\n",
    "\n",
    "# The reason for this preference is that RMSE has an advantage over MSE, especially when working with polynomial regression models or other situations where the data or errors may exhibit significant variations in scale. RMSE is a modified version of MSE, taking the square root of the MSE, which means it's in the same units as the dependent variable (i.e., the target variable, such as the house prices in a housing price prediction problem). This makes RMSE more interpretable as it gives we an estimate of the typical size of errors in the same units as the target variable.\n",
    "\n",
    "# MSE, on the other hand, is in squared units, which can make it less intuitive for interpretation, especially when dealing with polynomial regression models.\n",
    "\n",
    "# So, if our MSE and RMSE values are very close, opt for RMSE as it provides a more interpretable measure of the typical prediction error in the same units as our target variable, which can be beneficial in assessing the model's performance."
   ]
  },
  {
   "cell_type": "code",
   "execution_count": null,
   "metadata": {},
   "outputs": [],
   "source": [
    "# sol 5\n",
    "\n",
    "# When we are comparing the performance of different SVM regression models using different kernels (linear, polynomial, and RBF) and our goal is to measure how well the model explains the variance in the target variable, the most appropriate evaluation metric is the coefficient of determination, also known as R-squared (R2).\n",
    "\n",
    "# R-squared (R2) measures the proportion of the variance in the dependent variable (the target variable) that is explained by the independent variables in our model. It provides an indication of how well the model accounts for the variability in the data. A higher R-squared value indicates a better fit and suggests that a larger proportion of the variance in the target variable is explained by our model.\n",
    "\n",
    "# In the context of explaining the variance in the target variable using different SVM regression models, we would want to select the model with the highest R-squared value because it implies that the model, with its chosen kernel, provides the best explanation for the observed variance in the target variable.\n",
    "\n",
    "# So, when our goal is to measure how well the model explains the variance in the target variable, use R-squared (R2) as the most appropriate evaluation metric for comparing different SVM regression models with various kernels."
   ]
  }
 ],
 "metadata": {
  "kernelspec": {
   "display_name": "Python 3",
   "language": "python",
   "name": "python3"
  },
  "language_info": {
   "codemirror_mode": {
    "name": "ipython",
    "version": 3
   },
   "file_extension": ".py",
   "mimetype": "text/x-python",
   "name": "python",
   "nbconvert_exporter": "python",
   "pygments_lexer": "ipython3",
   "version": "3.9.6"
  }
 },
 "nbformat": 4,
 "nbformat_minor": 2
}
