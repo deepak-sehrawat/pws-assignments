{
 "cells": [
  {
   "cell_type": "code",
   "execution_count": 1,
   "metadata": {},
   "outputs": [],
   "source": [
    "# importing of the important libraies \n",
    "import scipy.stats as stats\n",
    "import math\n",
    "import numpy as np \n"
   ]
  },
  {
   "cell_type": "code",
   "execution_count": 10,
   "metadata": {},
   "outputs": [
    {
     "name": "stdout",
     "output_type": "stream",
     "text": [
      "the f_value is  0.734424335580212\n",
      "the p_value is  2.3858119402530124e-33\n"
     ]
    }
   ],
   "source": [
    "# sol 1\n",
    "def fp_value(arr1:np.array,arr2:np.array):\n",
    "    statistics,pvalue=stats.f_oneway(arr1,arr2)\n",
    "    f_value=np.var(arr1)/np.var(arr2)\n",
    "    return {f_value:\"f_value\",pvalue:\"p_value\"}\n",
    "\n",
    "   \n",
    "\n",
    "l1=np.random.normal(size=50,loc=0)\n",
    "l2=np.random.normal(size=50,loc=3)\n",
    "\n",
    "f_value,p_value=fp_value(l1,l2)\n",
    "\n",
    "print(\"the f_value is \",f_value)\n",
    "print(\"the p_value is \",p_value)\n"
   ]
  },
  {
   "cell_type": "code",
   "execution_count": 19,
   "metadata": {},
   "outputs": [
    {
     "name": "stdout",
     "output_type": "stream",
     "text": [
      "the critical f_value is 0.2095352970705348\n"
     ]
    }
   ],
   "source": [
    "# sol 2\n",
    "from scipy.stats import f\n",
    "\n",
    "def cri_f_value(dof1,dof2,sl=0.05):\n",
    "    c_f_value=f.ppf(sl,dof1,dof2)\n",
    "    return f\"the critical f_value is {c_f_value}\"\n",
    "\n",
    "\n",
    "dof1=5\n",
    "dof2=9\n",
    "\n",
    "\n",
    "print(cri_f_value(dof1,dof2))"
   ]
  },
  {
   "cell_type": "code",
   "execution_count": 18,
   "metadata": {},
   "outputs": [
    {
     "name": "stdout",
     "output_type": "stream",
     "text": [
      "F-value: 4.152783572630433\n",
      "Degrees of Freedom (numerator): 99\n",
      "Degrees of Freedom (denominator): 99\n",
      "P-value: 1.0643264047871526e-11\n",
      "Reject the null hypothesis (Variances are not equal)\n"
     ]
    }
   ],
   "source": [
    "# sol 3\n",
    "import numpy as np\n",
    "from scipy.stats import f\n",
    "\n",
    "def perform_f_test(data1, data2, alpha=0.05):\n",
    "\n",
    "    # Calculate the sample variances\n",
    "    var1 = np.var(data1, ddof=1)\n",
    "    var2 = np.var(data2, ddof=1)\n",
    "\n",
    "    # Ensure var1 is the larger variance\n",
    "    if var2 > var1:\n",
    "        var1, var2 = var2, var1\n",
    "        data1, data2 = data2, data1\n",
    "\n",
    "    # Calculate the F-value\n",
    "    f_value = var1 / var2\n",
    "\n",
    "    # Calculate the degrees of freedom\n",
    "    df1 = len(data1) - 1\n",
    "    df2 = len(data2) - 1\n",
    "\n",
    "    # Calculate the p-value\n",
    "    p_value = 2 * min(f.cdf(f_value, df1, df2), 1 - f.cdf(f_value, df1, df2))\n",
    "\n",
    "\n",
    "    # Determine the result based on the p-value and significance level\n",
    "    if p_value < alpha:\n",
    "        result = \"Reject the null hypothesis (Variances are not equal)\"\n",
    "    else:\n",
    "        result = \"Fail to reject the null hypothesis (Variances are equal)\"\n",
    "\n",
    "    return f_value, df1, df2, p_value, result\n",
    "\n",
    "# Generate random samples from two normal distributions with known variances\n",
    "np.random.seed(10)\n",
    "data1 = np.random.normal(loc=0, scale=1, size=100)\n",
    "data2 = np.random.normal(loc=0, scale=2, size=100)\n",
    "\n",
    "\n",
    "f_value, df1, df2, p_value, result = perform_f_test(data1, data2)\n",
    "\n",
    "\n",
    "print(f\"F-value: {f_value}\")\n",
    "print(f\"Degrees of Freedom (numerator): {df1}\")\n",
    "print(f\"Degrees of Freedom (denominator): {df2}\")\n",
    "print(f\"P-value: {p_value}\")\n",
    "print(result)\n",
    "\n"
   ]
  },
  {
   "cell_type": "code",
   "execution_count": 20,
   "metadata": {},
   "outputs": [
    {
     "name": "stdout",
     "output_type": "stream",
     "text": [
      "F-statistic: 0.6667\n",
      "Critical F-value: 3.4737\n",
      "Fail to reject the null hypothesis (Variances are not significantly different)\n"
     ]
    }
   ],
   "source": [
    "# sol 4\n",
    "import scipy.stats as stats\n",
    "\n",
    "# population variances\n",
    "variance1 = 10\n",
    "variance2 = 15\n",
    "\n",
    "# Sample size \n",
    "n1 = 12\n",
    "n2 = 12\n",
    "\n",
    "# Degrees of freedom\n",
    "df1 = n1 - 1\n",
    "df2 = n2 - 1\n",
    "\n",
    "f_statistic = variance1 / variance2\n",
    "\n",
    "alpha = 0.05\n",
    "\n",
    "# Calculate the critical F-value\n",
    "critical_f_value = stats.f.ppf(1 - alpha / 2, df1, df2)\n",
    "\n",
    "\n",
    "if f_statistic > critical_f_value:\n",
    "    result = \"Reject the null hypothesis (Variances are significantly different)\"\n",
    "else:\n",
    "    result = \"Fail to reject the null hypothesis (Variances are not significantly different)\"\n",
    "\n",
    "# Print the results\n",
    "print(f\"F-statistic: {f_statistic:.4f}\")\n",
    "print(f\"Critical F-value: {critical_f_value:.4f}\")\n",
    "print(result)\n",
    "\n"
   ]
  },
  {
   "cell_type": "code",
   "execution_count": 21,
   "metadata": {},
   "outputs": [
    {
     "name": "stdout",
     "output_type": "stream",
     "text": [
      "F-statistic: 1.2000\n",
      "Critical F-value (Lower): 0.1047\n",
      "Critical F-value (Upper): 24939.5653\n",
      "Fail to reject the null hypothesis (Claim is justified)\n"
     ]
    }
   ],
   "source": [
    "# sol 5\n",
    "import scipy.stats as stats\n",
    "\n",
    "# Given data\n",
    "claimed_variance = 0.005\n",
    "sample_variance = 0.006\n",
    "sample_size = 25\n",
    "\n",
    "\n",
    "df1 = sample_size - 1\n",
    "df2 = 1\n",
    "\n",
    "\n",
    "f_statistic = sample_variance / claimed_variance\n",
    "\n",
    "# Set the significance level\n",
    "alpha = 0.01\n",
    "\n",
    "# Calculate the critical F-values for a two-tailed test\n",
    "critical_f_lower = stats.f.ppf(alpha / 2, df1, df2)\n",
    "critical_f_upper = stats.f.ppf(1 - alpha / 2, df1, df2)\n",
    "\n",
    "# Perform the F-test and determine whether to reject the null hypothesis\n",
    "if f_statistic < critical_f_lower or f_statistic > critical_f_upper:\n",
    "    result = \"Reject the null hypothesis (Claim is not justified)\"\n",
    "else:\n",
    "    result = \"Fail to reject the null hypothesis (Claim is justified)\"\n",
    "\n",
    "# Print the results\n",
    "print(f\"F-statistic: {f_statistic:.4f}\")\n",
    "print(f\"Critical F-value (Lower): {critical_f_lower:.4f}\")\n",
    "print(f\"Critical F-value (Upper): {critical_f_upper:.4f}\")\n",
    "print(result)\n",
    "\n",
    "\n"
   ]
  },
  {
   "cell_type": "code",
   "execution_count": 23,
   "metadata": {},
   "outputs": [
    {
     "name": "stdout",
     "output_type": "stream",
     "text": [
      "Mean of F-distribution: 1.2500\n",
      "Variance of F-distribution: 1.3542\n"
     ]
    }
   ],
   "source": [
    "# sol 6\n",
    "def calculate_f_distribution_mean_and_variance(df1, df2):\n",
    "   \n",
    "    # Mean of the F-distribution\n",
    "    if df2 > 2:\n",
    "        mean = df2 / (df2 - 2)\n",
    "    else:\n",
    "        mean = float('inf')  # For df2 <= 2, mean is undefined\n",
    "\n",
    "    # Variance of the F-distribution\n",
    "    if df2 > 4:\n",
    "        variance = (2 * (df2 ** 2) * (df1 + df2 - 2)) / ((df1 * (df2 - 2) ** 2 * (df2 - 4)))\n",
    "    else:\n",
    "        variance = float('inf') \n",
    "\n",
    "    return mean, variance\n",
    "\n",
    "# Example usage:\n",
    "df1 = 5\n",
    "df2 = 10\n",
    "mean, variance = calculate_f_distribution_mean_and_variance(df1, df2)\n",
    "print(f\"Mean of F-distribution: {mean:.4f}\")\n",
    "print(f\"Variance of F-distribution: {variance:.4f}\")\n"
   ]
  },
  {
   "cell_type": "code",
   "execution_count": 24,
   "metadata": {},
   "outputs": [
    {
     "name": "stdout",
     "output_type": "stream",
     "text": [
      "F-statistic: 1.2500\n",
      "Critical F-value (Lower): 0.3305\n",
      "Critical F-value (Upper): 2.6458\n",
      "Fail to reject the null hypothesis (Variances are not significantly different)\n"
     ]
    }
   ],
   "source": [
    "# sol 7\n",
    "import scipy.stats as stats\n",
    "\n",
    "# Given sample variances and sample sizes\n",
    "sample_variance1 = 25\n",
    "sample_size1 = 10\n",
    "sample_variance2 = 20\n",
    "sample_size2 = 15\n",
    "\n",
    "df1 = sample_size1 - 1\n",
    "df2 = sample_size2 - 1\n",
    "\n",
    "# Calculate (F-value)\n",
    "f_statistic = sample_variance1 / sample_variance2\n",
    "\n",
    "alpha = 0.10\n",
    "\n",
    "# two-tailed test\n",
    "critical_f_lower = stats.f.ppf(alpha / 2, df1, df2)\n",
    "critical_f_upper = stats.f.ppf(1 - alpha / 2, df1, df2)\n",
    "\n",
    "if f_statistic < critical_f_lower or f_statistic > critical_f_upper:\n",
    "    result = \"Reject the null hypothesis (Variances are significantly different)\"\n",
    "else:\n",
    "    result = \"Fail to reject the null hypothesis (Variances are not significantly different)\"\n",
    "\n",
    "\n",
    "print(f\"F-statistic: {f_statistic:.4f}\")\n",
    "print(f\"Critical F-value (Lower): {critical_f_lower:.4f}\")\n",
    "print(f\"Critical F-value (Upper): {critical_f_upper:.4f}\")\n",
    "print(result)\n"
   ]
  },
  {
   "cell_type": "code",
   "execution_count": 29,
   "metadata": {},
   "outputs": [
    {
     "name": "stdout",
     "output_type": "stream",
     "text": [
      "the f_statistics value is  1.496767651159843\n",
      "critical f_value (lower) is  0.16701279718024772\n",
      "critical f_value (upper) 6.977701858535566\n",
      "result is -  we fail to  reject the null hypothesis (the variences are not significantly different)\n"
     ]
    }
   ],
   "source": [
    "# sol 8\n",
    "\n",
    "#Given infomation\n",
    "A= np.array([24, 25, 28, 23, 22, 20, 27])\n",
    "B= np.array([31, 33, 35, 30, 32, 36])\n",
    "alpha=0.05\n",
    "\n",
    "dof1=len(A)-1\n",
    "dof2=len(B)-1\n",
    "\n",
    "# varience\n",
    "A_var=np.var(A)\n",
    "B_var=np.var(B)\n",
    "\n",
    "\n",
    "f_statistics=A_var/B_var\n",
    "\n",
    "#critical F-value for two tail test \n",
    "lower=f.ppf(alpha/2,dof1,dof2)\n",
    "uper=f.ppf(1-alpha/2,dof1,dof2)\n",
    "\n",
    "\n",
    "if f_statistics>uper or f_statistics<lower:\n",
    "    result=\"we reject the null hypothesis (the variences are significantly different)\"\n",
    "else:\n",
    "    result=\"we fail to  reject the null hypothesis (the variences are not significantly different)\"\n",
    "\n",
    "print(\"the f_statistics value is \",f_statistics)\n",
    "print(\"critical f_value (lower) is \" ,lower)\n",
    "print(\"critical f_value (upper)\",uper)\n",
    "print(\"result is - \",result)\n",
    "\n",
    "\n",
    "\n"
   ]
  },
  {
   "cell_type": "code",
   "execution_count": 34,
   "metadata": {},
   "outputs": [
    {
     "name": "stdout",
     "output_type": "stream",
     "text": [
      "the f_statistics value is  1.9442622950819677\n",
      "critical f_value (lower) is  0.066936171954696\n",
      "critical f_value (upper) 14.939605459912224\n",
      "result is -  we fail to reject the null hypothesis (the variences are not having significantly different)\n"
     ]
    }
   ],
   "source": [
    "# sol 9\n",
    "\n",
    "#Given infomation\n",
    "A= np.array([80, 85, 90, 92, 87, 83])\n",
    "B= np.array([75, 78, 82, 79, 81, 84])\n",
    "alpha=0.01\n",
    "\n",
    "dof1=len(A)-1\n",
    "dof2=len(B)-1\n",
    "\n",
    "# varience\n",
    "A_var=np.var(A)\n",
    "B_var=np.var(B)\n",
    "\n",
    "\n",
    "f_statistics=A_var/B_var\n",
    "\n",
    "#critical F-value for two tail test \n",
    "lower=f.ppf(alpha/2,dof1,dof2)\n",
    "uper=f.ppf(1-alpha/2,dof1,dof2)\n",
    "\n",
    "\n",
    "if f_statistics>uper or f_statistics<lower:\n",
    "    result=\"we reject the null hypothesis (the variences are having significantly different)\"\n",
    "else:\n",
    "    result=\"we fail to reject the null hypothesis (the variences are not having significantly different)\"\n",
    "\n",
    "print(\"the f_statistics value is \",f_statistics)\n",
    "print(\"critical f_value (lower) is \" ,lower)\n",
    "print(\"critical f_value (upper)\",uper)\n",
    "print(\"result is - \",result)\n",
    "\n",
    "\n",
    "\n"
   ]
  },
  {
   "cell_type": "code",
   "execution_count": null,
   "metadata": {},
   "outputs": [],
   "source": []
  }
 ],
 "metadata": {
  "kernelspec": {
   "display_name": "Python 3",
   "language": "python",
   "name": "python3"
  },
  "language_info": {
   "codemirror_mode": {
    "name": "ipython",
    "version": 3
   },
   "file_extension": ".py",
   "mimetype": "text/x-python",
   "name": "python",
   "nbconvert_exporter": "python",
   "pygments_lexer": "ipython3",
   "version": "3.9.6"
  },
  "orig_nbformat": 4
 },
 "nbformat": 4,
 "nbformat_minor": 2
}
