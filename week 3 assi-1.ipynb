{
 "cells": [
  {
   "cell_type": "code",
   "execution_count": 1,
   "id": "1653590f-8753-4a05-b4fe-c3bc6d312f82",
   "metadata": {},
   "outputs": [
    {
     "name": "stdout",
     "output_type": "stream",
     "text": [
      "[1, 3, 5, 7, 9, 11, 13, 15, 17, 19, 21, 23, 25]\n"
     ]
    }
   ],
   "source": [
    "#sol 1 \n",
    "# we use \"def\" keyword to create a funtion in python\n",
    "\n",
    "l1=list(range(1,26))\n",
    "def only_odd(x):\n",
    "    l2=[]\n",
    "    for i in x:\n",
    "        if i%2 !=0:\n",
    "            l2.append(i)\n",
    "    return l2\n",
    "\n",
    "print(only_odd(l1))"
   ]
  },
  {
   "cell_type": "code",
   "execution_count": 2,
   "id": "cc9fb909-2127-4c6d-ba8e-967dcbbe619b",
   "metadata": {},
   "outputs": [
    {
     "name": "stdout",
     "output_type": "stream",
     "text": [
      "apple is a fruit\n",
      "banana is a fruit\n",
      "cherry is a fruit\n",
      "name - John\n",
      "age - 25\n",
      "city - New York\n"
     ]
    }
   ],
   "source": [
    "# sol 2\n",
    "'''The *args parameter allows a function to accept any number of positional arguments. These arguments are collected into a \"tuple\", \n",
    "which can be accessed within the function. It is useful when you're uncertain about the number of arguments that will be passed to the function.'''\n",
    "def example1(*args):\n",
    "    for i in args:\n",
    "        print(i,\"is a fruit\")\n",
    "\n",
    "example1('apple', 'banana', 'cherry')\n",
    "\n",
    "\"\"\"The **kwargs parameter allows a function to accept any number of keyword arguments. These arguments are collected into a dictionary, which can be accessed within the function.\"\"\"\n",
    "def example2(**kwargs):\n",
    "    for x, y in kwargs.items():\n",
    "        print(x,\"-\", y)\n",
    "\n",
    "example2(name='John', age=25, city='New York')"
   ]
  },
  {
   "cell_type": "code",
   "execution_count": 3,
   "id": "052a1eba-29dc-4344-ac24-27f59c6c1f3b",
   "metadata": {},
   "outputs": [
    {
     "name": "stdout",
     "output_type": "stream",
     "text": [
      "2\n",
      "4\n",
      "6\n",
      "8\n",
      "10\n"
     ]
    }
   ],
   "source": [
    "# sol 3 \n",
    "'''an iterator is an object that implements the iterator protocol, which consists of two methods: iter() and next().\n",
    "\n",
    "The iter() method is used to initialize the iterator object. It returns the iterator object itself and is called when an iterator is created.'''\n",
    "\n",
    "\n",
    "list1 = [2, 4, 6, 8, 10, 12, 14, 16, 18, 20]\n",
    "\n",
    "l2 = iter(list1) # Create an iterator object\n",
    "\n",
    "for i in range(5): # Print the first five elements\n",
    "    print(next(l2)) "
   ]
  },
  {
   "cell_type": "code",
   "execution_count": 4,
   "id": "44768498-9c38-474f-87a2-d85906fe635a",
   "metadata": {},
   "outputs": [
    {
     "name": "stdout",
     "output_type": "stream",
     "text": [
      "10\n",
      "9\n",
      "8\n",
      "7\n",
      "6\n",
      "5\n",
      "4\n",
      "3\n",
      "2\n",
      "1\n"
     ]
    }
   ],
   "source": [
    "# yield\n",
    "'''A generator function in Python generates a sequence of values using the yield keyword, allowing it to pause and resume execution. The yield keyword is used to indicate the value returned by the generator function. It provides a memory-efficient way to lazily generate values as needed.'''\n",
    "# next()\n",
    "'''The next() function retrieves the next value from the generator. Generator functions are useful for handling large datasets or infinite sequences with flexibility.'''\n",
    "def step_down(n):\n",
    "    while n > 0:\n",
    "        yield n\n",
    "        n -= 1\n",
    "\n",
    "x = step_down(10)\n",
    "\n",
    "for i in x:\n",
    "    print(i)\n"
   ]
  },
  {
   "cell_type": "code",
   "execution_count": 1,
   "id": "77d3ce6b-af54-4697-8f38-b5e7613ac973",
   "metadata": {},
   "outputs": [
    {
     "name": "stdout",
     "output_type": "stream",
     "text": [
      "0\n",
      "1\n",
      "1\n",
      "2\n",
      "3\n",
      "5\n",
      "8\n",
      "13\n",
      "21\n",
      "34\n"
     ]
    }
   ],
   "source": [
    "# sol 6\n",
    "\n",
    "def function(y):\n",
    "    a=0\n",
    "    b=1\n",
    "    z=0\n",
    "    while z<y:      \n",
    "        print (a)\n",
    "        a,b=b,a+b\n",
    "        z+=1\n",
    "function(10)\n"
   ]
  },
  {
   "cell_type": "code",
   "execution_count": 2,
   "id": "f08e9ea5-a1c6-434b-812c-514d28642a01",
   "metadata": {},
   "outputs": [
    {
     "name": "stdout",
     "output_type": "stream",
     "text": [
      "['p', 'w', 's', 'k', 'i', 'l', 'l', 's']\n"
     ]
    }
   ],
   "source": [
    "# sol 7\n",
    "p=\"pwskills\"\n",
    "l1=[i for i in p ]\n",
    "print(l1)"
   ]
  },
  {
   "cell_type": "code",
   "execution_count": 3,
   "id": "017cb1b3-825e-4531-bb20-a8fe8e3a771a",
   "metadata": {},
   "outputs": [
    {
     "name": "stdin",
     "output_type": "stream",
     "text": [
      "enter the no. to check   171\n"
     ]
    },
    {
     "name": "stdout",
     "output_type": "stream",
     "text": [
      "yes this is Palindrome no.\n"
     ]
    }
   ],
   "source": [
    "# sol 8\n",
    "\n",
    "\n",
    "def check():\n",
    "    b=input(\"enter the no. to check  \")\n",
    "    c=int(b)\n",
    "    r=b[::-1]\n",
    "    r=int(r)\n",
    "    if c==r:\n",
    "        print (\"yes this is Palindrome no.\")\n",
    "    else:\n",
    "        print(\"no this is not a Palindrome no.\")\n",
    "\n",
    "check()"
   ]
  },
  {
   "cell_type": "code",
   "execution_count": 4,
   "id": "370dbfcf-2ff8-4385-a14d-6d3d27a19f48",
   "metadata": {},
   "outputs": [
    {
     "name": "stdout",
     "output_type": "stream",
     "text": [
      "[1, 2, 3, 4, 5, 6, 7, 8, 9, 10, 11, 12, 13, 14, 15, 16, 17, 18, 19, 20, 21, 22, 23, 24, 25, 26, 27, 28, 29, 30, 31, 32, 33, 34, 35, 36, 37, 38, 39, 40, 41, 42, 43, 44, 45, 46, 47, 48, 49, 50, 51, 52, 53, 54, 55, 56, 57, 58, 59, 60, 61, 62, 63, 64, 65, 66, 67, 68, 69, 70, 71, 72, 73, 74, 75, 76, 77, 78, 79, 80, 81, 82, 83, 84, 85, 86, 87, 88, 89, 90, 91, 92, 93, 94, 95, 96, 97, 98, 99, 100]\n",
      "[1, 3, 5, 7, 9, 11, 13, 15, 17, 19, 21, 23, 25, 27, 29, 31, 33, 35, 37, 39, 41, 43, 45, 47, 49, 51, 53, 55, 57, 59, 61, 63, 65, 67, 69, 71, 73, 75, 77, 79, 81, 83, 85, 87, 89, 91, 93, 95, 97, 99]\n"
     ]
    }
   ],
   "source": [
    "l1=[i for i in range (1,101)]\n",
    "l2=[i for i in l1 if i%2!=0]\n",
    "print(l1)\n",
    "print(l2)"
   ]
  },
  {
   "cell_type": "code",
   "execution_count": null,
   "id": "58fad994-1fc9-4505-8b2f-6b5439ad5c32",
   "metadata": {},
   "outputs": [],
   "source": []
  }
 ],
 "metadata": {
  "kernelspec": {
   "display_name": "Python 3 (ipykernel)",
   "language": "python",
   "name": "python3"
  },
  "language_info": {
   "codemirror_mode": {
    "name": "ipython",
    "version": 3
   },
   "file_extension": ".py",
   "mimetype": "text/x-python",
   "name": "python",
   "nbconvert_exporter": "python",
   "pygments_lexer": "ipython3",
   "version": "3.10.8"
  }
 },
 "nbformat": 4,
 "nbformat_minor": 5
}
