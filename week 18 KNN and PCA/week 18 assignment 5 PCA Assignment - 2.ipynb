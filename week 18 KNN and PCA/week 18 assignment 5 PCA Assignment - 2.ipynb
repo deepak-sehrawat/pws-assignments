{
 "cells": [
  {
   "cell_type": "code",
   "execution_count": 1,
   "metadata": {},
   "outputs": [],
   "source": [
    "# sol 1\n",
    "\n",
    "# Projection is a transformation that maps a vector onto a subspace, typically of lower dimensionality. In simpler terms, it's like casting a shadow of a higher-dimensional object onto a lower-dimensional plane.\n",
    "\n",
    "# projection is a transformation that maps a vector onto a subspace, typically of lower dimensionality. In simpler terms, it's like casting a shadow of a higher-dimensional object onto a lower-dimensional plane.\n",
    "\n",
    "# Here's how projection is used in PCA:\n",
    "\n",
    "    # Compute the Covariance Matrix: First, PCA computes the covariance matrix of the data. This matrix summarizes how each feature varies with every other feature.\n",
    "\n",
    "    # Find Principal Components: PCA then finds the eigenvectors of the covariance matrix. These eigenvectors represent the directions of maximum variance in the data and are called principal components.\n",
    "\n",
    "    # Projection: The projection step involves projecting the original data onto the subspace spanned by the principal components. Each data point is projected onto these principal components, effectively reducing the dimensionality of the data.\n",
    "\n",
    "    # Dimensionality Reduction: After projecting the data onto the principal components, PCA retains only the first k components, where k is the desired reduced dimensionality. These components capture the most variance in the data."
   ]
  },
  {
   "cell_type": "code",
   "execution_count": 2,
   "metadata": {},
   "outputs": [],
   "source": [
    "# sol 02\n",
    "\n",
    "# Principal Component Analysis (PCA) is a technique used for dimensionality reduction, data visualization, and feature extraction. The optimization problem in PCA aims to find a set of orthogonal axes (principal components) such that when the data is projected onto these axes, the variance of the projected data is maximized.\n",
    "\n",
    "# Here's how the optimization problem in PCA works:\n",
    "\n",
    "    # 1. Compute the Covariance Matrix: The first step is to compute the covariance matrix of the data. The covariance matrix summarizes the relationships between different variables in the data.\n",
    "\n",
    "    # 2. Eigenvalue Decomposition: Next, perform eigenvalue decomposition on the covariance matrix. This yields the eigenvalues and corresponding eigenvectors.\n",
    "\n",
    "    # 3. Select Principal Components: The eigenvectors with the highest eigenvalues represent the principal components of the data. These principal components define the directions of maximum variance in the data.\n",
    "\n",
    "    # 4. Projection: Finally, the data is projected onto the selected principal components. This transformation reduces the dimensionality of the data while preserving the maximum amount of variance.\n",
    "\n",
    "# The optimization problem in PCA is trying to achieve the following:\n",
    "\n",
    "    # 1. Maximize Variance: PCA seeks to find the axes (principal components) along which the variance of the data is maximized. \n",
    "\n",
    "    # 2. Dimensionality Reduction: The ultimate goal of PCA is to reduce the dimensionality of the data while preserving as much of the original information as possible. \n",
    "\n",
    "    # 3. Decorrelation: Another objective of PCA is to ensure that the selected principal components are orthogonal to each other. \n"
   ]
  },
  {
   "cell_type": "code",
   "execution_count": 3,
   "metadata": {},
   "outputs": [],
   "source": [
    "# sol 3\n",
    "\n",
    "# Covariance matrices and PCA are closely related in the context of dimensionality reduction and feature extraction.\n",
    "\n",
    "    # 1. Covariance Matrix: The covariance matrix is a square matrix that summarizes the relationships between different variables in the data. For a dataset with ( n ) variables, the covariance matrix is an ( n times n ) matrix where each element represents the covariance between two variables.\n",
    " \n",
    "    # 2. PCA and Covariance Matrix: PCA utilizes the covariance matrix as a key step in the dimensionality reduction process. Specifically, PCA begins by computing the covariance matrix of the data.\n",
    "    # 3. Eigenvalue Decomposition of Covariance Matrix: After computing the covariance matrix, PCA performs eigenvalue decomposition on this matrix. \n",
    "\n",
    "    # 4. Principal Components: The eigenvectors of the covariance matrix represent the directions of maximum variance in the data. These eigenvectors are known as the principal components. \n",
    "\n",
    "    # 5. Projection: Finally, PCA selects a subset of the eigenvectors (principal components) based on the corresponding eigenvalues and projects the data onto these components.\n"
   ]
  },
  {
   "cell_type": "code",
   "execution_count": 4,
   "metadata": {},
   "outputs": [],
   "source": [
    "# sol 4\n",
    "\n",
    "# The choice of the number of principal components in PCA can significantly impact its performance and the quality of the resulting data representation. Here's how:\n",
    "\n",
    "    # 1. Dimensionality Reduction: PCA aims to reduce the dimensionality of the data while retaining as much variance as possible. Choosing too few principal components may result in significant information loss, leading to an inadequate representation of the original data.\n",
    "\n",
    "    # 2. Information Retention: The number of principal components chosen determines how much of the total variance in the data is retained. Typically, principal components are ordered by the amount of variance they explain, with the first few components explaining the most variance. \n",
    "\n",
    "    # 3. Computational Efficiency: Choosing fewer principal components can lead to faster computation times, as fewer dimensions need to be processed and analyzed. This can be advantageous when dealing with large datasets or when PCA is used as a preprocessing step in a more complex machine learning pipeline.\n",
    "\n",
    "    # 4. Interpretability: Fewer principal components are often easier to interpret and visualize than a larger number of components. \n",
    "\n",
    "    # 5. Trade-off: Ultimately, the choice of the number of principal components involves a trade-off between dimensionality reduction, information retention, computational efficiency, and interpretability.\n"
   ]
  },
  {
   "cell_type": "code",
   "execution_count": 5,
   "metadata": {},
   "outputs": [],
   "source": [
    "# sol 5\n",
    "\n",
    "# PCA can be used for feature selection by identifying the most important features (variables) in a dataset and reducing the dimensionality of the feature space. Here's how PCA can be applied for feature selection and its benefits:\n",
    "\n",
    "    # 1. Variance-Based Feature Selection: PCA identifies the principal components that capture the maximum variance in the data. Since principal components are linear combinations of the original features.\n",
    "\n",
    "    # 2. Dimensionality Reduction: PCA reduces the dimensionality of the feature space by projecting the data onto a lower-dimensional subspace defined by the selected principal components.\n",
    "\n",
    "    # 3. Improved Model Performance: By reducing the dimensionality of the feature space and focusing on the most informative features, PCA can improve the performance of machine learning models.\n",
    "\n",
    "    # 4. Computational Efficiency: Using PCA for feature selection can lead to computational efficiency, especially when dealing with high-dimensional datasets. \n",
    "\n",
    "    # 5. Noise Reduction: PCA can help to filter out noise present in the dataset by focusing on the principal components that capture the most significant variance. \n",
    "\n",
    "    # 6. Interpretability: PCA provides a straightforward and interpretable way to select features based on their importance in capturing variance. \n"
   ]
  },
  {
   "cell_type": "code",
   "execution_count": 6,
   "metadata": {},
   "outputs": [],
   "source": [
    "# sol 6\n",
    "\n",
    "# PCA (Principal Component Analysis) finds wide application across various domains within data science and machine learning. Here are some common applications:\n",
    "\n",
    "    # 1. Dimensionality Reduction: PCA is extensively used to reduce the dimensionality of high-dimensional datasets while retaining as much information as possible. This is particularly useful for datasets with many features, where PCA can help simplify the data representation and alleviate the curse of dimensionality.\n",
    "\n",
    "    # 2. Data Visualization: PCA is employed to visualize high-dimensional data in lower-dimensional spaces (usually 2D or 3D). By projecting data onto the principal components, PCA facilitates visualization and exploration of complex datasets, enabling insights into underlying patterns or structures.\n",
    "\n",
    "    # 3. Feature Extraction: PCA can extract a smaller set of meaningful features from a larger set of original features. These extracted features, represented by the principal components, capture the most important information in the data, which can be used for subsequent analysis or modeling tasks.\n",
    "\n",
    "    # 4. Noise Reduction: PCA can filter out noise present in the data by focusing on the principal components that capture the most significant variance. By retaining only the principal components with high variance, PCA helps to denoise datasets, improving the quality of subsequent analyses or predictions.\n"
   ]
  },
  {
   "cell_type": "code",
   "execution_count": null,
   "metadata": {},
   "outputs": [],
   "source": [
    "# sol 7\n",
    "\n",
    "# In the context of PCA (Principal Component Analysis), \"spread\" and \"variance\" are closely related concepts that describe the distribution of data along different dimensions or axes.\n",
    "\n",
    "# 1. Variance: Variance measures the dispersion or spread of data points around their mean along a particular axis or dimension. In PCA, the variance of data along each principal component (eigenvector) indicates the amount of information captured by that component. Principal components are ordered by the amount of variance they explain, with the first few components capturing the most variance in the data.\n",
    "\n",
    "# 2. Spread: Spread refers to the extent or distribution of data points in the dataset. It describes how widely or narrowly data points are distributed across different dimensions. In the context of PCA, spread is often visualized as the distribution of data points in the lower-dimensional space defined by the selected principal components.\n",
    "\n",
    "# The relationship between spread and variance \n",
    "\n",
    "    # - High variance along a principal component indicates that the corresponding dimension captures a significant amount of information or variability in the data. In other words, principal components with high variance contribute more to the spread or distribution of data points in the dataset.\n",
    "    \n",
    "    # - Lower-dimensional representations obtained through PCA often preserve the spread of data points in the original high-dimensional space as much as possible while reducing dimensionality. This means that the principal components selected by PCA capture the directions of maximum variance, which are also the directions along which data points are most spread out.\n",
    "\n"
   ]
  },
  {
   "cell_type": "code",
   "execution_count": 7,
   "metadata": {},
   "outputs": [],
   "source": [
    "# sol 8\n",
    "\n",
    "# PCA leverages the spread and variance of the data to identify principal components through the following steps:\n",
    "\n",
    "    # 1. Covariance Matrix Calculation: PCA computes the covariance matrix of the data, representing the relationships between variables.\n",
    "\n",
    "    # 2. Eigenvalue Decomposition: It performs eigenvalue decomposition on the covariance matrix, yielding eigenvectors and eigenvalues.\n",
    "\n",
    "    # 3. Variance Identification: Eigenvectors with high corresponding eigenvalues represent directions of maximum variance in the data.\n",
    "\n",
    "    # 4. Principal Component Selection: PCA selects these eigenvectors, known as principal components, as they capture the most variance and contribute significantly to the spread of data.\n",
    "\n",
    "    # 5. Dimensionality Reduction: These principal components define new axes in a lower-dimensional space, providing a reduced representation of the data while preserving as much variance as possible.\n",
    "\n",
    "    # 6. Feature Extraction: By prioritizing components with higher variance, PCA facilitates feature extraction, identifying the most informative directions in the data distribution.\n",
    "\n"
   ]
  },
  {
   "cell_type": "code",
   "execution_count": null,
   "metadata": {},
   "outputs": [],
   "source": [
    "# sol 9\n",
    "\n",
    "# PCA handles data with high variance in some dimensions but low variance in others by effectively capturing the most significant sources of variance while discarding noise or less informative dimensions. Here's how PCA addresses this scenario:\n",
    "\n",
    "    # 1. Variance-Based Selection: PCA identifies principal components based on the variance of the data along each dimension. Dimensions with high variance contribute more to the overall spread of the data and are prioritized in the selection of principal components.\n",
    "\n",
    "    # 2. Dimensionality Reduction: PCA reduces the dimensionality of the data by selecting a subset of principal components that capture the most variance. This process effectively focuses on the dimensions with high variance while discarding or compressing dimensions with low variance.\n",
    "\n",
    "    # 3. Dimension Scaling: PCA implicitly scales each dimension of the data to have unit variance before performing dimensionality reduction. This ensures that dimensions with high variance do not dominate the analysis and that all dimensions contribute equally to the determination of principal components.\n",
    "\n",
    "    # 4. Data Interpretation: PCA provides a lower-dimensional representation of the data that emphasizes the most significant sources of variance. This simplified representation facilitates data interpretation and analysis by focusing on the dimensions that explain the most variation in the dataset.\n"
   ]
  }
 ],
 "metadata": {
  "kernelspec": {
   "display_name": "Python 3",
   "language": "python",
   "name": "python3"
  },
  "language_info": {
   "codemirror_mode": {
    "name": "ipython",
    "version": 3
   },
   "file_extension": ".py",
   "mimetype": "text/x-python",
   "name": "python",
   "nbconvert_exporter": "python",
   "pygments_lexer": "ipython3",
   "version": "3.9.6"
  }
 },
 "nbformat": 4,
 "nbformat_minor": 2
}
