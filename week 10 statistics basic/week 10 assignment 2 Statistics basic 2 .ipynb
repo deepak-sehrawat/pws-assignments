{
 "cells": [
  {
   "cell_type": "code",
   "execution_count": 1,
   "metadata": {},
   "outputs": [],
   "source": [
    "# sol 1\n",
    "# The three measures of central tendency are:\n",
    "\n",
    "# Mean: The mean is calculated by adding up all the values in a dataset and then dividing by the total number of values. It represents the average value of the data points.\n",
    "\n",
    "# Median: The median is the middle value in a dataset when it is arranged in ascending or descending order. If there is an even number of values, the median is the average of the two middle values.\n",
    "\n",
    "# Mode: The mode is the value that appears most frequently in a dataset. A dataset can have no mode (when all values are unique) or multiple modes (when two or more values have the highest frequency).\n",
    "\n",
    "# These measures help to understand the central or typical value of a dataset, providing insights into the distribution of the data."
   ]
  },
  {
   "cell_type": "code",
   "execution_count": 2,
   "metadata": {},
   "outputs": [],
   "source": [
    "# sol 2\n",
    "\n",
    "# The mean, median, and mode are measures of central tendency:\n",
    "\n",
    "# Mean: Average calculated by summing values and dividing by the total count. Sensitive to outliers, suitable for balanced data.\n",
    "\n",
    "# Median: Middle value in ordered data. Less influenced by outliers, good for skewed distributions.\n",
    "\n",
    "# Mode: Most frequent value. Insensitive to data variations, useful for categorical data.\n",
    "\n",
    "# use\n",
    "#These measures are used to summarize and understand the central tendency of a dataset in various scenarios. \n",
    "#The choice of measure depends on the nature of the data and the specific characteristics of the dataset. \n",
    "#If the data is symmetric and follows a normal distribution, the mean and median might be very close to each other. "
   ]
  },
  {
   "cell_type": "code",
   "execution_count": 6,
   "metadata": {},
   "outputs": [
    {
     "name": "stdout",
     "output_type": "stream",
     "text": [
      "the mean of data is  177.01875\n",
      "the mode of the data is  ModeResult(mode=177.0, count=3)\n",
      "the median of the data is  177.0\n"
     ]
    }
   ],
   "source": [
    "# sol 3\n",
    "import numpy as np \n",
    "from scipy import stats\n",
    "height=[178,177,176,177,178.2,178,175,179,180,175,178.9,176.2,177,172.5,178,176.5]\n",
    "hg=np.array(height)\n",
    "print(\"the mean of data is \",hg.mean())\n",
    "print(\"the mode of the data is \",stats.mode(hg))\n",
    "print(\"the median of the data is \",np.median(hg))"
   ]
  },
  {
   "cell_type": "code",
   "execution_count": 7,
   "metadata": {},
   "outputs": [
    {
     "name": "stdout",
     "output_type": "stream",
     "text": [
      "the standered daviation is  1.7885814036548633\n"
     ]
    }
   ],
   "source": [
    "# sol 4 \n",
    "import numpy as np \n",
    "height=[178,177,176,177,178.2,178,175,179,180,175,178.9,176.2,177,172.5,178,176.5]\n",
    "hg=np.array(height)\n",
    "print(\"the standered daviation is \",np.std(hg))"
   ]
  },
  {
   "cell_type": "code",
   "execution_count": 8,
   "metadata": {},
   "outputs": [],
   "source": [
    "# sol 5 \n",
    "\n",
    "# Measures of dispersion like range, variance, and standard deviation quantify the extent of variability \n",
    "\n",
    "# Range: The range is the difference between the maximum and minimum values in a dataset. It gives a rough idea of the data's spread but is highly influenced by outliers.\n",
    "\n",
    "# Variance: Variance measures the average squared deviation from the mean. It indicates how much individual data points deviate from the mean. A larger variance signifies greater variability.\n",
    "\n",
    "# Standard Deviation: The standard deviation is the square root of the variance. It provides a more interpretable measure of spread and is widely used due to its relationship with the original units of data.\n",
    "\n",
    "# Example:\n",
    "\n",
    "# Consider two sets of test scores for two different classes: Class A and Class B.\n",
    "\n",
    "# Class A: 85, 88, 92, 78, 91\n",
    "# Class B: 60, 75, 85, 95, 100\n",
    "\n",
    "# Range:\n",
    "\n",
    "# For Class A: Range = 92 - 78 = 14\n",
    "# For Class B: Range = 100 - 60 = 40\n",
    "# Variance and Standard Deviation:\n",
    "\n",
    "# For Class A: Variance ≈ 42.7, Standard Deviation ≈ 6.5\n",
    "# For Class B: Variance ≈ 246.7, Standard Deviation ≈ 15.7"
   ]
  },
  {
   "cell_type": "code",
   "execution_count": 9,
   "metadata": {},
   "outputs": [],
   "source": [
    "# sol 6\n",
    "\n",
    "# A Venn diagram is a graphical representation used to show the relationships between sets of elements. It consists of overlapping circles or other closed shapes, each representing a different set or category. \n",
    "# The overlapping regions indicate the intersections between these sets, helping to visualize the common elements and differences.\n",
    "\n",
    "# In a Venn diagram:\n",
    "\n",
    "# (i) Each circle represents a set, and the elements belonging to that set are contained within the circle's boundary.\n",
    "# (ii) The overlap between circles shows the elements that are common to both sets.\n",
    "# (iii) Any region outside the circles represents elements that do not belong to either set."
   ]
  },
  {
   "cell_type": "code",
   "execution_count": 12,
   "metadata": {},
   "outputs": [
    {
     "name": "stdout",
     "output_type": "stream",
     "text": [
      "the intersection is  {2, 6}\n",
      "the union is  {0, 2, 3, 4, 5, 6, 7, 8, 10}\n"
     ]
    }
   ],
   "source": [
    "# sol 7\n",
    "# sets A = (2,3,4,5,6,7) & B = (0,2,6,8,10).\n",
    "\n",
    "# (i) A intersection B == (2,6)\n",
    "# (ii) A union B == (0,2,3,4,5,6,7,8,10)\n",
    "\n",
    "# solving by code-\n",
    "\n",
    "# sets are\n",
    "a={2,3,4,5,6,7}\n",
    "b={0,2,6,8,10} \n",
    "\n",
    "print(\"the intersection is \",a.intersection(b))\n",
    "print(\"the union is \",a.union(b))\n",
    "\n",
    "\n"
   ]
  },
  {
   "cell_type": "code",
   "execution_count": 13,
   "metadata": {},
   "outputs": [],
   "source": [
    "# sol 8\n",
    "# Skewness in data is asymmetry. In symmetric distributions, both sides mirror. Skewness disrupts, stretching one side.\n",
    "\n",
    "# Positive Skewness:In a positively skewed distribution, the tail on the right side is longer or stretched compared to the left side. Right tail lengthens. High outliers pull right, mean > median.\n",
    "\n",
    "# Negative Skewness: In a negatively skewed distribution, the tail on the left side is longer, indicating more low values on that side. Left tail lengthens. Left outliers exist, mean < median.\n",
    "\n",
    "# Skewness impacts analysis. Central tendency choice (mean, median, mode) matters. Tests assuming symmetry might not apply.\n",
    "\n",
    "# Detect skewness using histograms, box plots, skewness coefficients. Helps choose appropriate analysis."
   ]
  },
  {
   "cell_type": "code",
   "execution_count": 14,
   "metadata": {},
   "outputs": [],
   "source": [
    "# # sol 9\n",
    "# the position of the median will be to the left of the mean. In a right-skewed distribution, the tail of the distribution extends towards the higher values,\n",
    "# which means there are some unusually high values (outliers) that pull the mean in their direction. As a result, the mean is shifted towards the tail, or the right side of the distribution.\n",
    "#  mean > median.\n",
    "\n"
   ]
  },
  {
   "cell_type": "code",
   "execution_count": 15,
   "metadata": {},
   "outputs": [],
   "source": [
    "# sol 10 \n",
    "# Covariance measures the linear relationship between variables, indicating if they tend to increase or decrease together. Positive covariance means both rise, negative means one rises as the other falls, and zero means no linear relation. Covariance lacks a standard scale, complicating interpretation.\n",
    "\n",
    "# Correlation, like Pearson's coefficient, standardizes and gauges linear relationship strength. It ranges -1 to 1. +1 is perfect positive relation, -1 is perfect negative, and 0 is none. Correlation is more interpretable and widely comparable.\n",
    "\n",
    "# In analysis:\n",
    "\n",
    "# Covariance detects movement between variables, but its scale is complex.\n",
    "# Correlation provides standardized strength and direction. It's crucial in understanding associations, especially across variable pairs.\n",
    "\n",
    "# Both measures aid relationship exploration. Correlation's standardized nature makes it preferred, offering a consistent depiction of connections between variables."
   ]
  },
  {
   "cell_type": "code",
   "execution_count": 20,
   "metadata": {},
   "outputs": [
    {
     "name": "stdout",
     "output_type": "stream",
     "text": [
      "The mean of Totle Bill collumn in the tips data set  is  == 19.78594262295082\n"
     ]
    }
   ],
   "source": [
    "# sol 11\n",
    "\n",
    "# Formula for finding the Simple mean\n",
    "\n",
    "# Mean=(Sum of all numbers) / (Total number of numbers)\n",
    "\n",
    "# Example\n",
    "import seaborn as sbs\n",
    "import pandas as pd\n",
    "data_set=sbs.load_dataset(\"tips\")\n",
    "mean_of_tottle_bill=data_set.total_bill.mean()\n",
    "print(\"The mean of Totle Bill collumn in the tips data set  is  ==\",mean_of_tottle_bill)\n",
    "\n"
   ]
  },
  {
   "cell_type": "code",
   "execution_count": 21,
   "metadata": {},
   "outputs": [],
   "source": [
    "# sol 12\n",
    "# For a normal distribution, the measures of central tendency (mean, median, and mode) are all equal and located at the same point within the distribution.\n",
    "\n",
    "# Mean: The mean of a normal distribution is the arithmetic average of all the data points. It is exactly at the center of the distribution.\n",
    "\n",
    "# Median: The median, which is the middle value of a dataset when arranged in order, is also located at the center of a normal distribution. Since a normal distribution is symmetric, the mean and median are the same.\n",
    "\n",
    "# Mode: In a normal distribution, every value occurs with the same frequency, resulting in no distinct mode. However, the peak of the normal distribution curve (the highest point) is where the mode would hypothetically be located.\n",
    "\n",
    "# This equality of central tendency measures \"(mean = median = mode)\" in a normal distribution is a characteristic of its symmetric bell-shaped curve."
   ]
  },
  {
   "cell_type": "code",
   "execution_count": 22,
   "metadata": {},
   "outputs": [],
   "source": [
    "# sol 13\n",
    "# Covariance and correlation both quantify relationships between variables, but they differ in interpretation and scale. Covariance gauges how variables change together, with positive indicating similar changes and negative indicating opposite changes. It lacks a standardized scale, making comparisons challenging due to unit dependence.\n",
    "\n",
    "# Correlation, specifically Pearson correlation coefficient, measures strength and direction of linear relationship. Ranging from -1 to 1, it's standardized and unitless, allowing easy comparison. Positive correlation means variables increase together, negative means one decreases as the other increases, and zero implies no linear relation.\n"
   ]
  },
  {
   "cell_type": "code",
   "execution_count": 25,
   "metadata": {},
   "outputs": [
    {
     "name": "stdout",
     "output_type": "stream",
     "text": [
      "the mean of data set is (without the outliers present )= 89.57142857142857\n",
      "the mean of data set is (with the outliers present )= 203.375\n"
     ]
    }
   ],
   "source": [
    "# sol 14 \n",
    "# Outliers are extreme values that deviate significantly from the rest of the data in a dataset. They can have a notable impact on measures of central tendency and dispersion:\n",
    "\n",
    "# outliers affect measures of central tendency\n",
    "\n",
    "# Mean: Outliers can pull the mean towards their value, especially in small datasets. This can lead to a skewed representation of the typical values.\n",
    "\n",
    "# Median: The median is less affected by outliers, making it a more robust measure of central tendency. It represents the middle value, so outliers don't shift it significantly.\n",
    "\n",
    "# Mode: The mode might be unaffected by outliers if they don't align with the most frequent values.\n",
    "\n",
    "\n",
    "# outliers affect measures of central tendency Dispersion:\n",
    "\n",
    "# Range: Outliers can expand the range, as the difference between the largest and smallest values increases.\n",
    "# Variance and Standard Deviation: Outliers can inflate these measures, as they contribute to the squared differences from the mean. This can lead to an overestimation of the data's variability.Measures of Central Tendency:\n",
    "\n",
    "# Example\n",
    "# Consider a dataset of test scores: 85, 88, 92, 90, 89, 92, 91, 1000. The outlier \"1000\" significantly impacts measures. The mean increases drastically, while the median remains relatively stable. The range expands, and the variance and standard deviation are inflated due to the squared difference from the mean.\n",
    "\n",
    "import numpy as np\n",
    "\n",
    "ds_without_outliers=np.array([85, 88, 92, 90, 89, 92, 91])\n",
    "\n",
    "ds_with_outliers=np.array([85, 88, 92, 90, 89, 92, 91, 1000]) # here 1000 is outlier\n",
    "\n",
    "print(\"the mean of data set is (without the outliers present )=\",np.mean(ds_without_outliers))\n",
    "print(\"the mean of data set is (with the outliers present )=\",np.mean(ds_with_outliers))\n",
    "\n",
    "# due to the presence of only one outlier value in the data set  the result (mean) gets very effected \n",
    "\n",
    "\n"
   ]
  },
  {
   "cell_type": "code",
   "execution_count": null,
   "metadata": {},
   "outputs": [],
   "source": []
  }
 ],
 "metadata": {
  "kernelspec": {
   "display_name": "Python 3",
   "language": "python",
   "name": "python3"
  },
  "language_info": {
   "codemirror_mode": {
    "name": "ipython",
    "version": 3
   },
   "file_extension": ".py",
   "mimetype": "text/x-python",
   "name": "python",
   "nbconvert_exporter": "python",
   "pygments_lexer": "ipython3",
   "version": "3.9.6"
  },
  "orig_nbformat": 4
 },
 "nbformat": 4,
 "nbformat_minor": 2
}
