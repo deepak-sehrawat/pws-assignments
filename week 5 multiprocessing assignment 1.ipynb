{
 "cells": [
  {
   "cell_type": "code",
   "execution_count": null,
   "metadata": {},
   "outputs": [],
   "source": [
    "# sol 1\n",
    "\n",
    "# ultiprocessing in Python refers to the capability of executing multiple processes concurrently, allowing for parallel execution of tasks on a multi-core or multi-processor system. \n",
    "# It enables the efficient utilization of system resources, as it can divide a complex problem into smaller tasks that can be processed simultaneously. \n",
    "\n",
    "# useful..\n",
    "# faster execution times and improved performance. Python's multiprocessing module provides a high-level interface for implementing multiprocessing in Python programs. \n",
    "# It is particularly useful for CPU-intensive tasks, such as data processing, scientific computing, and simulations, where dividing the workload among multiple processes can significantly speed up the execution.\n",
    "\n",
    "# "
   ]
  },
  {
   "cell_type": "code",
   "execution_count": null,
   "metadata": {},
   "outputs": [],
   "source": [
    "# Multiprocessing involves running multiple processes in parallel, each with its own memory space, making it suitable for CPU-intensive tasks. It enables true parallel execution on multiple cores but incurs higher overhead due to inter-process communication.\n",
    "\n",
    "# Multithreading, however, involves creating multiple threads within a single process, sharing the same memory space. It is better suited for I/O-bound tasks and concurrent execution. Threads have lower overhead and can communicate more easily. \n",
    "\n",
    "# While multiprocessing achieves true parallelism, multithreading focuses on concurrent execution within a single process, making the choice dependent on the nature of the task and system resources.\n",
    "\n"
   ]
  },
  {
   "cell_type": "code",
   "execution_count": 1,
   "metadata": {},
   "outputs": [
    {
     "name": "stdout",
     "output_type": "stream",
     "text": [
      "This is Multiprocessing process.\n",
      "This is the after process.\n"
     ]
    }
   ],
   "source": [
    "# sol 3 \n",
    "import multiprocessing\n",
    "\n",
    "def my_fun():\n",
    "    print(\"This is Multiprocessing process.\")\n",
    "\n",
    "if __name__ == \"__main__\":\n",
    "    process = multiprocessing.Process(target=my_fun)\n",
    "\n",
    "    process.start()\n",
    "\n",
    "    process.join()\n",
    "    print(\"This is the after process.\")\n"
   ]
  },
  {
   "cell_type": "code",
   "execution_count": null,
   "metadata": {},
   "outputs": [],
   "source": [
    "# sol 4\n",
    "\n",
    "#  a multiprocessing pool refers to a mechanism provided by the multiprocessing module that allows for the efficient distribution oftasks among a pool of worker processes.\n",
    "#  The pool manages a group of worker processes and assigns tasks to them, making it easier to parallelize and execute multiple tasks concurrently.\n",
    "\n",
    "# useful...\n",
    "# Multiprocessing pools are particularly useful in scenarios where a large number of tasks need to be executed in parallel, such as when processing a batch of independent data or performing computations on a dataset. \n",
    "# By utilizing a pool, the overhead of creating and managing individual processes is reduced, as the pool reuses existing worker processes, leading to improved performance and resource utilization."
   ]
  },
  {
   "cell_type": "code",
   "execution_count": 2,
   "metadata": {},
   "outputs": [
    {
     "name": "stdout",
     "output_type": "stream",
     "text": [
      "['*', '**', '***', '****', '*****', '******', '*******', '********', '*********']\n"
     ]
    }
   ],
   "source": [
    "# sol 5\n",
    "import multiprocessing\n",
    "def design(n):\n",
    "    return \"*\"*n\n",
    "\n",
    "if __name__ == '__main__':\n",
    "    with multiprocessing.Pool(processes=4) as pool : \n",
    "        out = pool.map(design , [1,2,3,4,5,6,7,8,9])\n",
    "        print(out)\n",
    "        "
   ]
  },
  {
   "cell_type": "code",
   "execution_count": 13,
   "metadata": {},
   "outputs": [
    {
     "name": "stdout",
     "output_type": "stream",
     "text": [
      "Process-49, printing no- 1\n",
      "Process-50, printing no- 2\n",
      "Process-51, printing no- 3\n",
      "Process-52, printing no- 4\n"
     ]
    }
   ],
   "source": [
    "# sol 6 \n",
    "\n",
    "import multiprocessing\n",
    "\n",
    "def num(n):\n",
    "    print(f'''{multiprocessing.current_process().name}, printing no- {n}''' )\n",
    "\n",
    "if __name__ == \"__main__\":\n",
    "    processes = []\n",
    "    \n",
    "    for i in range(4):\n",
    "        process = multiprocessing.Process(target=num, args=(i+1,) )\n",
    "        processes.append(process)\n",
    "        process.start()\n",
    "        \n",
    "    for process in processes:\n",
    "        process.join()"
   ]
  },
  {
   "cell_type": "code",
   "execution_count": null,
   "metadata": {},
   "outputs": [],
   "source": []
  },
  {
   "cell_type": "code",
   "execution_count": null,
   "metadata": {},
   "outputs": [],
   "source": []
  }
 ],
 "metadata": {
  "kernelspec": {
   "display_name": "Python 3 (ipykernel)",
   "language": "python",
   "name": "python3"
  },
  "language_info": {
   "codemirror_mode": {
    "name": "ipython",
    "version": 3
   },
   "file_extension": ".py",
   "mimetype": "text/x-python",
   "name": "python",
   "nbconvert_exporter": "python",
   "pygments_lexer": "ipython3",
   "version": "3.10.8"
  }
 },
 "nbformat": 4,
 "nbformat_minor": 4
}
