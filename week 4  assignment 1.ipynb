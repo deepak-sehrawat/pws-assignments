{
 "cells": [
  {
   "cell_type": "code",
   "execution_count": 3,
   "id": "e98af717-eeb3-4260-aca0-021bdca35b7c",
   "metadata": {},
   "outputs": [
    {
     "data": {
      "text/plain": [
       "('Labrador', 'Golden Retriever')"
      ]
     },
     "execution_count": 3,
     "metadata": {},
     "output_type": "execute_result"
    }
   ],
   "source": [
    "# sol 1\n",
    "# class--In object-oriented programming, a class is a blueprint or a template for creating objects. It defines the properties and behaviors that objects of that class should have.\n",
    "#  object--An object, on the other hand, is an instance of a class. It is a specific entity created based on the class definition. Objects have their own unique identity and can have different values for their attributes\n",
    "\n",
    "#this is the class the blue print \n",
    "class Dog:\n",
    "    def __init__(self, name, breed):\n",
    "        self.name = name\n",
    "        self.breed = breed\n",
    "\n",
    "    def bark(self):\n",
    "        print(\"Woof! Woof!\")\n",
    "\n",
    "# Creating objects of the Dog class \n",
    "# both are the diffrent object with unique values but the output is gernated from the same class \n",
    "dog1 = Dog(\"Buddy\", \"Labrador\")\n",
    "dog2 = Dog(\"Max\", \"Golden Retriever\")\n",
    "dog1.breed,dog2.breed\n"
   ]
  },
  {
   "cell_type": "code",
   "execution_count": 4,
   "id": "6d84483d-ec87-43f2-bcce-106b49ad3ade",
   "metadata": {},
   "outputs": [],
   "source": [
    "#sol 2\n",
    "\n",
    "# The four pillars of object-oriented programming (OOP) are:\n",
    "\n",
    "# 1. Encapsulation: Bundling data and methods within a class to hide internal details and provide a defined interface.\n",
    "# 2. Inheritance: Allowing a class to inherit properties and behaviors from another class, promoting code reuse and hierarchy.\n",
    "# 3. Polymorphism: Treating objects of different classes as objects of a common superclass, enabling flexibility and generic programming.\n",
    "# 4. Abstraction: Simplifying complex systems by creating abstract classes and interfaces, focusing on essential features while hiding implementation details."
   ]
  },
  {
   "cell_type": "code",
   "execution_count": 5,
   "id": "fadc1852-e842-43dd-9262-5b032e2368f0",
   "metadata": {},
   "outputs": [
    {
     "name": "stdout",
     "output_type": "stream",
     "text": [
      "My name is deepak and I am 21 years old.\n",
      "My name is rohit and I am 20 years old.\n"
     ]
    }
   ],
   "source": [
    "\n",
    "# sol 3\n",
    "# the __init__() function is used in Python classes to initialize the attributes of objects during their creation, providing a way to set up the object's initial state and perform any necessary setup operations.\n",
    "\n",
    "class Person:\n",
    "    def __init__(self, name, age):\n",
    "        self.name = name\n",
    "        self.age = age\n",
    "\n",
    "    def introduce(self):\n",
    "        print(f\"My name is {self.name} and I am {self.age} years old.\")\n",
    "\n",
    "# Creating objects of the Person class\n",
    "person1 = Person(\"deepak\", 21)\n",
    "person2 = Person(\"rohit\", 20)\n",
    "\n",
    "# Calling the introduce() method on the objects\n",
    "person1.introduce()  \n",
    "person2.introduce()  "
   ]
  },
  {
   "cell_type": "code",
   "execution_count": 6,
   "id": "3b3f27d2-ba30-462c-8cc9-f8b1e0a5df2c",
   "metadata": {},
   "outputs": [
    {
     "name": "stdout",
     "output_type": "stream",
     "text": [
      "Hello, my name is deepak.\n"
     ]
    }
   ],
   "source": [
    "# sol 4\n",
    "# in object-oriented programming (OOP's) , self is used to refer to the instance of a class within its own methods. It allows access to instance variables, invocation of other methods, and the creation and modification of object state. By using self, we can differentiate between instance variables and local variables in methods. But self is not A inbuild keyword of python we can write any variable on behalf of self\n",
    "class Person:\n",
    "    def __init__(self, name):\n",
    "        self.name = name\n",
    "\n",
    "    def hello(self):\n",
    "        print(f\"Hello, my name is {self.name}.\")\n",
    "\n",
    "person = Person(\"deepak\")\n",
    "person.hello()  "
   ]
  },
  {
   "cell_type": "code",
   "execution_count": 7,
   "id": "424e0faf-8642-4961-83d6-f78d0e7e1723",
   "metadata": {},
   "outputs": [
    {
     "name": "stdout",
     "output_type": "stream",
     "text": [
      "\n",
      " Single Inheritance \n",
      "\n",
      "Driving the vehicle.\n",
      "car have 5 seats .\n",
      "\n",
      " Multiple Inheritance \n",
      "\n",
      "Driving the vehicle.\n",
      "car have 5 seats .\n",
      "this car is small in size\n",
      "\n",
      " Multilevel Inheritance \n",
      "\n",
      "Breathing is necessary for all animals \n",
      "animals Walk on earth surface\n",
      "lion make Roar sound\n"
     ]
    }
   ],
   "source": [
    "# sol 5\n",
    "# Inheritance is a fundamental concept in object-oriented programming (OOP's) that allows a class to inherit attributes,properties and methods from another class. It promotes code reuse, extensibility, and hierarchical organization of classes. There are different types of inheritance:\n",
    "\n",
    "# Single Inheritance: Single inheritance occurs when a class inherits attributes and methods from a single parent class. It represents an \"is-a\" relationship between classes.\n",
    "print(\"\\n Single Inheritance \\n\")\n",
    "# example:\n",
    "class Vehicle:\n",
    "    def __init__(self, brand):\n",
    "        self.brand = brand\n",
    "\n",
    "    def drive(self):\n",
    "        print(\"Driving the vehicle.\")\n",
    "\n",
    "class Car(Vehicle):\n",
    "    def seats(self):\n",
    "        print(\"car have 5 seats .\")\n",
    "\n",
    "my_car = Car(\"Toyota\")\n",
    "my_car.drive()  \n",
    "my_car.seats()  \n",
    "\n",
    "\n",
    "# Multiple Inheritance: Multiple inheritance allows a class to inherit attributes and methods from multiple parent classes. It represents a combination of different features from multiple sources.\n",
    "print(\"\\n Multiple Inheritance \\n\")\n",
    "# example\n",
    "class Vehicle:\n",
    "    def __init__(self, brand):\n",
    "        self.brand = brand\n",
    "\n",
    "    def drive(self):\n",
    "        print(\"Driving the vehicle.\")\n",
    "\n",
    "class Car():\n",
    "    def __init__(self, brand):\n",
    "        self.brand = brand\n",
    "    def seats(self):\n",
    "        print(\"car have 5 seats .\")\n",
    "\n",
    "class Nano(Car,Vehicle):\n",
    "    def info(self):\n",
    "        print(\"this car is small in size\")\n",
    "\n",
    "my_car = Nano(\"tata\")\n",
    "my_car.drive()  \n",
    "my_car.seats()  \n",
    "my_car.info()\n",
    "\n",
    "# Multilevel Inheritance: Multilevel inheritance involves inheriting a class from another derived class. It establishes a hierarchical relationship between classes.\n",
    "print(\"\\n Multilevel Inheritance \\n\")\n",
    "# example:\n",
    "class Animal:\n",
    "    def breathe(self):\n",
    "        print(\"Breathing is necessary for all animals \")\n",
    "\n",
    "class LandAnimal(Animal):\n",
    "    def walk(self):\n",
    "        print(\"animals Walk on earth surface\")\n",
    "\n",
    "class Lion(LandAnimal):\n",
    "    def roar(self):\n",
    "        print(\"lion make Roar sound\")\n",
    "\n",
    "lion1 = Lion()\n",
    "lion1.breathe()  \n",
    "lion1.walk()    \n",
    "lion1.roar()   "
   ]
  },
  {
   "cell_type": "code",
   "execution_count": null,
   "id": "5816ff5a-18ca-41ee-9ce3-1bf3eaf585d4",
   "metadata": {},
   "outputs": [],
   "source": []
  }
 ],
 "metadata": {
  "kernelspec": {
   "display_name": "Python 3 (ipykernel)",
   "language": "python",
   "name": "python3"
  },
  "language_info": {
   "codemirror_mode": {
    "name": "ipython",
    "version": 3
   },
   "file_extension": ".py",
   "mimetype": "text/x-python",
   "name": "python",
   "nbconvert_exporter": "python",
   "pygments_lexer": "ipython3",
   "version": "3.10.8"
  }
 },
 "nbformat": 4,
 "nbformat_minor": 5
}
