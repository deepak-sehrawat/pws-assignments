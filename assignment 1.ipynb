{
 "cells": [
  {
   "cell_type": "markdown",
   "id": "9dc1f2da-c9e5-499b-91ae-a981bd468427",
   "metadata": {},
   "source": [
    "Q1. Create one variable containing following type of data:\n",
    "(i) string\n",
    "(ii) list\n",
    "(iii) float\n",
    "(iv) tuple"
   ]
  },
  {
   "cell_type": "code",
   "execution_count": 1,
   "id": "2dfe37ec-2653-4604-a19a-fb7e53045a22",
   "metadata": {},
   "outputs": [],
   "source": [
    "#sol 1\n",
    "# (i) string\n",
    "string1 = \"Hello, world!\"\n",
    "\n",
    "# (ii) list\n",
    "list1 = [1, 2, 3, 4, 5]\n",
    "\n",
    "# (iii) float\n",
    "float1 = 3.14\n",
    "\n",
    "# (iv) tuple\n",
    "tuple1 = (\"apple\", \"banana\", \"cherry\")"
   ]
  },
  {
   "cell_type": "markdown",
   "id": "a09a8f17-ae7a-4163-82ef-bbd6d89445c3",
   "metadata": {},
   "source": [
    "Q2. Given are some following variables containing data:\n",
    "    What will be the data type of the above given variable."
   ]
  },
  {
   "cell_type": "code",
   "execution_count": 5,
   "id": "fafb20f2-0e7c-4c18-b930-b1105a7b4dff",
   "metadata": {},
   "outputs": [
    {
     "name": "stdout",
     "output_type": "stream",
     "text": [
      "type of Var1 is <class 'str'>\n",
      "type of Var2 is <class 'str'>\n",
      "type of Var3 is <class 'list'>\n",
      "type of Var4 is <class 'float'>\n"
     ]
    }
   ],
   "source": [
    "#sol 2\n",
    "var1 = ''\n",
    "var2 = '[ DS , ML , Python]'\n",
    "var3 = [ 'DS' , 'ML' , 'Python' ]\n",
    "var4 = 1.\n",
    "print(\"type of Var1 is\",type(var1))\n",
    "print(\"type of Var2 is\",type(var2))\n",
    "print(\"type of Var3 is\",type(var3))\n",
    "print(\"type of Var4 is\",type(var4))\n"
   ]
  },
  {
   "cell_type": "markdown",
   "id": "ae30b1ff-9dac-47f9-a407-efac72d2a274",
   "metadata": {},
   "source": [
    "Q3. Explain the use of the following operators using an example:"
   ]
  },
  {
   "cell_type": "code",
   "execution_count": 6,
   "id": "20a2d956-a3e1-4f7e-be80-f6d2dec04281",
   "metadata": {},
   "outputs": [
    {
     "name": "stdout",
     "output_type": "stream",
     "text": [
      "33.333333333333336\n",
      "2\n",
      "6\n",
      "125\n"
     ]
    }
   ],
   "source": [
    "# (i) ' / ' (Division Operator): The / operator is used for division \n",
    "\n",
    "a = 100\n",
    "b = 3\n",
    "result1 = a / b\n",
    "print(result1) \n",
    "\n",
    "# (ii) ' % ' (Modulo Operator):The % operator is used to calculate the remainder of the division between two numbers\n",
    "\n",
    "a = 20\n",
    "b = 3\n",
    "result2 = a % b\n",
    "print(result2)\n",
    "\n",
    "# (iii) ' // ' (Floor Division Operater): The // operator return the quotient as an integer rounding down to the nearest less whole number\n",
    "\n",
    "a=20\n",
    "b=3\n",
    "result3=a//b  \n",
    "print(result3)\n",
    "\n",
    "# (vi) ' ** ' (Exponentiation Operater): The ** is use to aasign a power to the number \n",
    "\n",
    "a=5\n",
    "b=3\n",
    "result4=a**b\n",
    "print(result4)\n"
   ]
  },
  {
   "cell_type": "markdown",
   "id": "0e53c0fc-9755-4f24-91a0-644eedb2b9b3",
   "metadata": {},
   "source": [
    "Q4. Create a list of length 10 of your choice containing multiple types of data. Using for loop print the\n",
    "element and its data type."
   ]
  },
  {
   "cell_type": "code",
   "execution_count": 10,
   "id": "f466a6c8-b6a1-4efb-a4aa-dfd86d8ee15f",
   "metadata": {},
   "outputs": [
    {
     "name": "stdout",
     "output_type": "stream",
     "text": [
      "the element is 'apple iphone' and the datatype of this  element is '<class 'str'>'\n",
      "the element is '2' and the datatype of this  element is '<class 'int'>'\n",
      "the element is '3.14' and the datatype of this  element is '<class 'float'>'\n",
      "the element is 'True' and the datatype of this  element is '<class 'bool'>'\n",
      "the element is '['Deepak', 'Sehrawat']' and the datatype of this  element is '<class 'list'>'\n",
      "the element is '{'Physics': 'wala'}' and the datatype of this  element is '<class 'dict'>'\n",
      "the element is 'None' and the datatype of this  element is '<class 'NoneType'>'\n",
      "the element is '(1, 2, 3)' and the datatype of this  element is '<class 'tuple'>'\n",
      "the element is 'banana' and the datatype of this  element is '<class 'str'>'\n",
      "the element is 'False' and the datatype of this  element is '<class 'bool'>'\n"
     ]
    }
   ],
   "source": [
    "# sol 4\n",
    "my_list1 = [\"apple iphone\", 2, 3.14, True, [\"Deepak\", \"Sehrawat\"], {\"Physics\": \"wala\"}, None, (1, 2, 3), \"banana\", False]\n",
    "for i in my_list1:\n",
    "    print(f\"the element is '{i}' and the datatype of this  element is '{type(i)}'\")"
   ]
  },
  {
   "cell_type": "markdown",
   "id": "3d5b801d-9d32-41c1-be1b-ce5d4b1b513f",
   "metadata": {},
   "source": [
    "Q5. Using a while loop, verify if the number A is purely divisible by number B and if so then how many\n",
    "times it can be divisible."
   ]
  },
  {
   "cell_type": "code",
   "execution_count": 12,
   "id": "ba2a71a9-31af-452e-a6e5-87969958abaf",
   "metadata": {},
   "outputs": [
    {
     "name": "stdin",
     "output_type": "stream",
     "text": [
      "enter the first no. 99\n",
      "enter the second no. 3\n"
     ]
    },
    {
     "name": "stdout",
     "output_type": "stream",
     "text": [
      "it is purely divided \n",
      "Divided 33 times\n"
     ]
    }
   ],
   "source": [
    "#sol 5\n",
    "num1=int(input(\"enter the first no.\"))\n",
    "num2=int(input(\"enter the second no.\"))\n",
    "i=0\n",
    "if num1%num2 == 0:\n",
    "    print('it is purely divided ')\n",
    "    \n",
    "    while num1>=num2:\n",
    "        num1=num1-num2\n",
    "        i+=1\n",
    "        \n",
    "    print (\"Divided\",i,\"times\")\n",
    "    \n",
    "else:\n",
    "    print(\"it is not divided purely\")"
   ]
  },
  {
   "cell_type": "markdown",
   "id": "86e7a6b4-473f-45c1-99fc-e5548ef1a802",
   "metadata": {},
   "source": [
    "Create a list containing 25 int type data. Using for loop and if-else condition print if the element is\n",
    "divisible by 3 or not."
   ]
  },
  {
   "cell_type": "code",
   "execution_count": 13,
   "id": "61805b62-42d1-417d-8bab-354c256bc87c",
   "metadata": {},
   "outputs": [
    {
     "name": "stdout",
     "output_type": "stream",
     "text": [
      "the main list \n",
      "  [34, 38, 42, 46, 50, 54, 58, 62, 66, 70, 74, 78, 82, 86, 90, 94, 98, 102, 106, 110, 114, 118, 122, 126, 130]\n",
      "thies elements are divided by 3 \n",
      "  [42, 54, 66, 78, 90, 102, 114, 126]\n",
      "thies elements are not divided by 3 \n",
      "  [34, 38, 46, 50, 58, 62, 70, 74, 82, 86, 94, 98, 106, 110, 118, 122, 130]\n"
     ]
    }
   ],
   "source": [
    "#sol 6\n",
    "\n",
    "l1=(list(range(34,630,4)))\n",
    "l2=l1[0:25]\n",
    "ld=[] #list for divisible numbers \n",
    "lnd=[] #list for not divisible numbers \n",
    "\n",
    "\n",
    "for i in l2:\n",
    "    if i%3==0:\n",
    "        ld.append(i)\n",
    "    else:\n",
    "        lnd.append(i)\n",
    "\n",
    "print(\"the main list \\n \",l2)\n",
    "print(\"thies elements are divided by 3 \\n \",ld)\n",
    "print(\"thies elements are not divided by 3 \\n \",lnd)"
   ]
  },
  {
   "cell_type": "markdown",
   "id": "946709ea-82b6-4a37-b4d5-1579da266658",
   "metadata": {},
   "source": [
    "What do you understand about mutable and immutable data types? Give examples for both showing\n",
    "this property."
   ]
  },
  {
   "cell_type": "code",
   "execution_count": 14,
   "id": "0c57b50e-185f-4558-ab45-0a058bd3eeb9",
   "metadata": {},
   "outputs": [
    {
     "name": "stdout",
     "output_type": "stream",
     "text": [
      "[45, 56, 79]\n",
      "[82, 56, 79]\n"
     ]
    },
    {
     "ename": "TypeError",
     "evalue": "'str' object does not support item assignment",
     "output_type": "error",
     "traceback": [
      "\u001b[0;31m---------------------------------------------------------------------------\u001b[0m",
      "\u001b[0;31mTypeError\u001b[0m                                 Traceback (most recent call last)",
      "Cell \u001b[0;32mIn[14], line 19\u001b[0m\n\u001b[1;32m     17\u001b[0m x \u001b[38;5;241m=\u001b[39m \u001b[38;5;124m\"\u001b[39m\u001b[38;5;124mhello\u001b[39m\u001b[38;5;124m\"\u001b[39m\n\u001b[1;32m     18\u001b[0m y \u001b[38;5;241m=\u001b[39m x  \u001b[38;5;66;03m# Assigning the value of x to y\u001b[39;00m\n\u001b[0;32m---> 19\u001b[0m \u001b[43mx\u001b[49m\u001b[43m[\u001b[49m\u001b[38;5;241;43m0\u001b[39;49m\u001b[43m]\u001b[49m \u001b[38;5;241m=\u001b[39m \u001b[38;5;124m\"\u001b[39m\u001b[38;5;124mH\u001b[39m\u001b[38;5;124m\"\u001b[39m  \u001b[38;5;66;03m# try to Modifying the value of x but it give error\u001b[39;00m\n\u001b[1;32m     20\u001b[0m \u001b[38;5;28mprint\u001b[39m(x,y) \u001b[38;5;66;03m#show error  \"TypeError: 'str' object does not support item assignment\" because string is immutable \u001b[39;00m\n",
      "\u001b[0;31mTypeError\u001b[0m: 'str' object does not support item assignment"
     ]
    }
   ],
   "source": [
    "#sol 7\n",
    "    # mutable or immutable are based on whether their values can be changed after they are created\n",
    "    \n",
    "    \n",
    "        # Mutable data types are those whose values can be modified after they are created. You can directly modify mutable objects without creating new objects. for ex- list, set, dict.,\n",
    "        # code\n",
    "        \n",
    "x = [45, 56, 79]\n",
    "print(x) \n",
    "y = x  # Assigning the list x to y\n",
    "x[0] = 82 # Modifying the list x by adding an element\n",
    "print(y)\n",
    "\n",
    "\t\t#Immutable data types are those whose values cannot be modified once they are created. If you want to modify an immutable object, you need to create a new object with the desired changes. ex- string, tuple.\n",
    "    \t#code\n",
    "\n",
    "x = \"hello\"\n",
    "y = x  # Assigning the value of x to y\n",
    "x[0] = \"H\"  # try to Modifying the value of x but it give error\n",
    "print(x,y) #show error  \"TypeError: 'str' object does not support item assignment\" because string is immutable \n",
    "\n",
    " "
   ]
  },
  {
   "cell_type": "code",
   "execution_count": null,
   "id": "715a4015-7ad7-4258-bcbd-fdac826cd7e0",
   "metadata": {},
   "outputs": [],
   "source": []
  }
 ],
 "metadata": {
  "kernelspec": {
   "display_name": "Python 3 (ipykernel)",
   "language": "python",
   "name": "python3"
  },
  "language_info": {
   "codemirror_mode": {
    "name": "ipython",
    "version": 3
   },
   "file_extension": ".py",
   "mimetype": "text/x-python",
   "name": "python",
   "nbconvert_exporter": "python",
   "pygments_lexer": "ipython3",
   "version": "3.10.8"
  }
 },
 "nbformat": 4,
 "nbformat_minor": 5
}
