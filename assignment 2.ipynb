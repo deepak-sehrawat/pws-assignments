{
 "cells": [
  {
   "cell_type": "code",
   "execution_count": 1,
   "id": "5789b2f4-8275-44ea-8043-e814e9269559",
   "metadata": {},
   "outputs": [
    {
     "name": "stdout",
     "output_type": "stream",
     "text": [
      "deepak, pwskills\n",
      "deepak, pwskills\n"
     ]
    }
   ],
   "source": [
    "#sol 1\n",
    "\n",
    "#In Python, we can use comments in two different ways: by using the \"#\" symbol for single-line comments and \"\"\"\"\"\" for multi-line comments. By using comments, we can make our code more readable for others. Anything within a comment is not processed by the interpreter when running the code; it is simply ignored. Comments are helpful for adding explanations, \n",
    "\n",
    "# This is a single line comment\n",
    "print(\"deepak, pwskills\")  # also this comment\n",
    "\n",
    "\n",
    "\"\"\"\n",
    "This is a multi-line comment1.\n",
    "This is a multi-line comment2.\n",
    "This is a multi-line comment3.\n",
    "\n",
    "\"\"\"\n",
    "\n",
    "print(\"deepak, pwskills\")\n"
   ]
  },
  {
   "cell_type": "code",
   "execution_count": 2,
   "id": "7b5293c0-2536-45b2-91c8-4a6691e0e986",
   "metadata": {},
   "outputs": [],
   "source": [
    "#sol 2 \n",
    "# In Python, variables are used to store data or values that can be accessed and manipulated during the execution of a program.\n",
    "# examples \n",
    "x1 = 42\n",
    "\n",
    "name = \"deepak\"\n",
    "age = 21\n",
    "\n",
    "\n",
    "a, b, c = 1, 2, 3  # Multiple assignments \n",
    "\n"
   ]
  },
  {
   "cell_type": "code",
   "execution_count": 3,
   "id": "a15e921e-8cf6-4a4b-a5f4-51c153e2f05e",
   "metadata": {},
   "outputs": [
    {
     "data": {
      "text/plain": [
       "(1, 2, 3)"
      ]
     },
     "execution_count": 3,
     "metadata": {},
     "output_type": "execute_result"
    }
   ],
   "source": [
    "\n",
    "# sol 3 \n",
    "# In Python, we can convert one data type to another using type conversion functions or methods. Here are some commonly used methods:\n",
    "# int(): Converts a value to an integer. \n",
    "int(3.14) \n",
    "# float(): Converts a value to a floating-point number. \n",
    "float(5) \n",
    "# str(): Converts a value to a string. \n",
    "str(42) \n",
    "# list(): Converts an iterable to a list. \n",
    "list((1, 2, 3))\n",
    "# tuple(): Converts an iterable to a tuple. \n",
    "tuple([1, 2, 3]) "
   ]
  },
  {
   "cell_type": "code",
   "execution_count": 4,
   "id": "3eb35d59-449c-42c9-88c4-20af7a490914",
   "metadata": {},
   "outputs": [
    {
     "data": {
      "text/plain": [
       "'\\n1.Open a terminal or command prompt on your computer.\\n2.Navigate to the directory where your Python script is located using the cd command.\\n3.Once you are in the correct directory, you can simply type python followed by the name of your script file, including the .py extension.\\n4.Press Enter to run the script.\\n'"
      ]
     },
     "execution_count": 4,
     "metadata": {},
     "output_type": "execute_result"
    }
   ],
   "source": [
    "# sol 4\n",
    "# for this you have to follow thies steps \n",
    "\n",
    "'''\n",
    "1.Open a terminal or command prompt on your computer.\n",
    "2.Navigate to the directory where your Python script is located using the cd command.\n",
    "3.Once you are in the correct directory, you can simply type python followed by the name of your script file, including the .py extension.\n",
    "4.Press Enter to run the script.\n",
    "'''"
   ]
  },
  {
   "cell_type": "code",
   "execution_count": 5,
   "id": "adc25988-56f5-429a-878b-169898c26230",
   "metadata": {},
   "outputs": [
    {
     "name": "stdout",
     "output_type": "stream",
     "text": [
      "[2, 3]\n"
     ]
    }
   ],
   "source": [
    "# sol 5 \n",
    "\n",
    "my_list = [1, 2, 3, 4, 5]\n",
    "print(my_list[1:3])"
   ]
  },
  {
   "cell_type": "code",
   "execution_count": 7,
   "id": "558babe9-0c9d-4e75-98e8-5cfe31a294d5",
   "metadata": {},
   "outputs": [
    {
     "data": {
      "text/plain": [
       "complex"
      ]
     },
     "execution_count": 7,
     "metadata": {},
     "output_type": "execute_result"
    }
   ],
   "source": [
    "#sol 6 \n",
    "#In mathematics, a complex number is a number that comprises a real part and an imaginary part. It is represented in Python by using the j or J suffix to denote the imaginary part. For example, 3 + 2j represents a complex number with a real part of 3 and an imaginary part of 2.\n",
    "c=45+8j\n",
    "type(c)"
   ]
  },
  {
   "cell_type": "code",
   "execution_count": 8,
   "id": "d5837263-4079-45f7-8e09-009b51030b93",
   "metadata": {},
   "outputs": [],
   "source": [
    "#SOL 7 \n",
    "#its very simple to assign the value 25 to the age varible \n",
    "age=25"
   ]
  },
  {
   "cell_type": "code",
   "execution_count": 10,
   "id": "0f6e17aa-4c1c-4791-84a1-346f74392360",
   "metadata": {},
   "outputs": [
    {
     "name": "stdout",
     "output_type": "stream",
     "text": [
      "<class 'float'>\n"
     ]
    }
   ],
   "source": [
    "#sol 8\n",
    "price=9.99\n",
    "print(type (price)) #its blongs to the float class because it is the decimal value "
   ]
  },
  {
   "cell_type": "code",
   "execution_count": 12,
   "id": "28ce3f56-631c-488b-b692-a849f8fe68ce",
   "metadata": {},
   "outputs": [
    {
     "name": "stdout",
     "output_type": "stream",
     "text": [
      "Deepak.sehrawat\n"
     ]
    }
   ],
   "source": [
    "#sol 9\n",
    "name=\"Deepak.sehrawat\"\n",
    "print(name)"
   ]
  },
  {
   "cell_type": "code",
   "execution_count": 13,
   "id": "f9fe3692-cf54-493e-acc6-fa2e6bdcc7a8",
   "metadata": {},
   "outputs": [
    {
     "name": "stdout",
     "output_type": "stream",
     "text": [
      "World!\n"
     ]
    }
   ],
   "source": [
    "#sol 10 \n",
    "a=\"Hello, World!\"\n",
    "print(a[7:])"
   ]
  },
  {
   "cell_type": "code",
   "execution_count": null,
   "id": "a6343a4a-feee-43cf-8282-cba141ec3bdc",
   "metadata": {},
   "outputs": [],
   "source": [
    "#sol 11 \n",
    "is_student=True #ture because yes i am a student "
   ]
  }
 ],
 "metadata": {
  "kernelspec": {
   "display_name": "Python 3 (ipykernel)",
   "language": "python",
   "name": "python3"
  },
  "language_info": {
   "codemirror_mode": {
    "name": "ipython",
    "version": 3
   },
   "file_extension": ".py",
   "mimetype": "text/x-python",
   "name": "python",
   "nbconvert_exporter": "python",
   "pygments_lexer": "ipython3",
   "version": "3.10.8"
  }
 },
 "nbformat": 4,
 "nbformat_minor": 5
}
