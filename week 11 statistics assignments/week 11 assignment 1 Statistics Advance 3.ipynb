{
 "cells": [
  {
   "cell_type": "code",
   "execution_count": 1,
   "metadata": {},
   "outputs": [],
   "source": [
    "# sol 1\n",
    "# Estimation in statistics refers to the process of using sample data to make inferences about population parameters. It involves estimating the unknown parameters of a population based on the information collected from a sample. \n",
    "# Estimation is an essential aspect of statistical analysis because it allows us to make informed decisions and draw conclusions about populations without having to examine every individual in the population.\n",
    "\n",
    "\n",
    "# point Estimate and Interval Estimate\n",
    "\n",
    "# Point estimates are often used when a quick approximation of a population parameter is needed, and there is no requirement for quantifying the uncertainty surrounding the estimate. They are commonly used in various fields, such as market research, where a rapid decision may be more important than precise estimation.\n",
    "\n",
    "# On the other hand, interval estimates are preferred when a higher degree of confidence and a better understanding of the potential variability in the parameter's value are essential. Researchers and decision-makers often rely on confidence intervals when conducting scientific experiments, opinion polling, quality control, and other situations where the margin of error can significantly impact the conclusions drawn."
   ]
  },
  {
   "cell_type": "code",
   "execution_count": 14,
   "metadata": {},
   "outputs": [
    {
     "data": {
      "text/plain": [
       "array([nan])"
      ]
     },
     "execution_count": 14,
     "metadata": {},
     "output_type": "execute_result"
    }
   ],
   "source": [
    "import scipy.stats as stats\n",
    "import math \n",
    "import numpy as np\n",
    "a=[2,3,1,3,6]\n",
    "z=stats.norm.ppf(0.9015).round(2)\n",
    "z_score=stats.zscore([])\n",
    "z_score"
   ]
  },
  {
   "cell_type": "code",
   "execution_count": 26,
   "metadata": {},
   "outputs": [
    {
     "data": {
      "text/plain": [
       "'the range of mean is b/w  76.22 - 77.78  (if we take the confidence level = 95%)'"
      ]
     },
     "execution_count": 26,
     "metadata": {},
     "output_type": "execute_result"
    }
   ],
   "source": [
    "# sol 2\n",
    "import math \n",
    "import scipy.stats as stats\n",
    "def fun1(sample_mean,sd,sample_size=100,confidence_level=95): #let sample_size=100 and confidence_level=95%\n",
    "    significance_value=1-(confidence_level/100)\n",
    "    z_score=stats.norm.ppf(1-significance_value/2) # this is for the 2 tail \n",
    "    error=z_score*(sd/math.sqrt(sample_size))\n",
    "    # for finding the range\n",
    "    uper_range=sample_mean+error\n",
    "    lower_range=sample_mean-error\n",
    "\n",
    "    return f\"the range of mean is b/w  {lower_range.round(2)} - {uper_range.round(2)}  (if we take the confidence level = 95%)\"\n",
    "\n",
    "sample_mean=77\n",
    "sd=4\n",
    "fun1(sample_mean,sd)\n"
   ]
  },
  {
   "cell_type": "code",
   "execution_count": 27,
   "metadata": {},
   "outputs": [],
   "source": [
    "# sol 4 \n",
    "# Null Hypothesis (H0): The average weight of male college students is equal to the average weight of female college students.\n",
    "\n",
    "# Alternative Hypothesis (Ha): The average weight of male college students is greater than the average weight of female college students.\n",
    "\n",
    "# This hypothesis sets up a comparison between the average weights of male and female college students, with the null hypothesis suggesting no difference and the alternative hypothesis suggesting that males are heavier on average than females."
   ]
  },
  {
   "cell_type": "code",
   "execution_count": 93,
   "metadata": {},
   "outputs": [
    {
     "name": "stdout",
     "output_type": "stream",
     "text": [
      "52.083333333333336 53.416666666666664\n",
      "0.8761278427207435\n",
      "accept the null hypothesis ---  the mean of the both sample is almost equal\n"
     ]
    }
   ],
   "source": [
    "# sol 5\n",
    "# data set\n",
    "import numpy as np\n",
    "import scipy.stats as stats\n",
    "\n",
    "a=[45,48,34,65,78,45,56,76,45,56,76,1]\n",
    "b=[48,65,44,65,75,76,43,54,60,60,50,1]\n",
    "\n",
    "h0=\"the mean of the both sample is almost equal\"\n",
    "h1=\"the mean of the both sample is not equal\"\n",
    "\n",
    "print(np.mean(a),np.mean(b))\n",
    "\n",
    "a,b=np.array((a,b))\n",
    "significance_value=0.05 #let it \n",
    "def check(x,y):\n",
    "    c,p_value=stats.ttest_ind(x,y,equal_var=False)\n",
    "    return p_value\n",
    "    \n",
    "result=check(a,b)\n",
    "\n",
    "\n",
    "print(result)\n",
    "if result<significance_value:\n",
    "    print(\"reject the null hypothesis --- \" , h1)\n",
    "else:\n",
    "    print(\"accept the null hypothesis --- \",h0)\n",
    "\n",
    "\n",
    "\n"
   ]
  },
  {
   "cell_type": "code",
   "execution_count": 28,
   "metadata": {},
   "outputs": [],
   "source": [
    "# sol 6\n",
    "# A null hypothesis (H0) and an alternative hypothesis (Ha) are essential concepts in hypothesis testing within statistics. They help frame a research question and guide the process of statistical analysis. \n",
    "\n",
    "\n",
    "# Null Hypothesis (H0):\n",
    "# The null hypothesis is a statement that represents the default or initial assumption being tested in a statistical hypothesis test. It typically suggests the absence of an effect, relationship, or difference. In hypothesis testing, you begin by assuming that the null hypothesis is true, and your goal is to gather evidence to either support or reject it.\n",
    "\n",
    "    # Example 1 - Coin Toss: H0: The probability of getting heads in a fair coin toss is 0.5.\n",
    "\n",
    "        # In this case, the null hypothesis posits that the coin is fair, and there is no bias toward heads or tails.   \n",
    "\n",
    "    # Example 2 - Drug Efficacy: H0: The new drug has no significant effect on reducing blood pressure.\n",
    "\n",
    "        # Here, the null hypothesis assumes that the drug does not have any therapeutic effect, and any observed changes are due to random chance.\n",
    "\n",
    "# Alternative Hypothesis (Ha):\n",
    "# The alternative hypothesis is a statement that contradicts the null hypothesis. It represents the specific hypothesis or effect that the researcher is trying to detect or demonstrate. It suggests the presence of an effect, relationship, or difference.\n",
    "\n",
    "    # Example 1 - Coin Toss: Ha: The probability of getting heads in a fair coin toss is not equal to 0.5.\n",
    "\n",
    "    #     The alternative hypothesis questions the fairness of the coin, suggesting that it may be biased.\n",
    "    # Example 2 - Drug Efficacy: Ha: The new drug has a significant effect on reducing blood pressure.\n",
    "\n",
    "    #     Here, the alternative hypothesis indicates that the drug does have a therapeutic effect that is not due to random chance.\n",
    "\n",
    "\n"
   ]
  },
  {
   "cell_type": "code",
   "execution_count": 29,
   "metadata": {},
   "outputs": [],
   "source": [
    "# sol 7\n",
    "# steps -->\n",
    "# 1. Formulate Hypotheses: Create a null hypothesis (H0) representing no effect or difference and an alternative hypothesis (Ha) suggesting the presence of an effect or difference.\n",
    "\n",
    "# 2. Collect Data: Gather relevant sample data that represents the population of interest.\n",
    "\n",
    "# 3. Calculate Test Statistic: Compute the appropriate test statistic that quantifies the effect or difference based on the data and chosen statistical test.\n",
    "\n",
    "# 4. Make a Decision: Compare the calculated test statistic to a critical value or calculate the p-value. Based on this comparison:\n",
    "\n",
    "    # If the test statistic is significant or the p-value is less than the chosen significance level (α), reject the null hypothesis (H0).\n",
    "    # If the test statistic is not significant or the p-value is greater than α, fail to reject the null hypothesis (H0)."
   ]
  },
  {
   "cell_type": "code",
   "execution_count": 250,
   "metadata": {},
   "outputs": [],
   "source": [
    "# sol 8 \n",
    "\n",
    "# In hypothesis testing, the p-value (probability value) is a vital statistical measure that quantifies the strength of evidence against the null hypothesis ((H_0)).\n",
    "\n",
    "# Definition of p-value:\n",
    "\n",
    "#   The p-value is a probability that shows how likely observed data, assuming the null hypothesis is true, could have occurred by random chance alone.\n",
    "\n",
    "# Significance in Hypothesis Testing:\n",
    "\n",
    "    # It assesses the statistical significance of results.\n",
    "    # Small p-values (< chosen (\\alpha)) indicate strong evidence against (H_0), favoring the alternative hypothesis ((H_1)).\n",
    "    # Large p-values (> (\\alpha)) suggest no strong evidence against (H_0).\n",
    "\n",
    "# Decision Making:\n",
    "\n",
    "    # Based on a comparison of p-value and (\\alpha):\n",
    "    # p-value (\\leq) (\\alpha): Reject (H_0).\n",
    "    # p-value > (\\alpha): Fail to reject (H_0).\n",
    "\n",
    "# Significance Level ((\\alpha)):\n",
    "\n",
    "# Chosen by researchers, (\\alpha) represents the risk of Type I error.\n",
    "# Common values: 0.05 or 0.01, based on context and confidence needed.\n",
    "\n",
    "# Limitations and Cautions:\n",
    "\n",
    "    # p-value alone doesn't prove (H_0) false or true.\n",
    "    # Doesn't reveal practical effect size.\n"
   ]
  },
  {
   "cell_type": "code",
   "execution_count": 41,
   "metadata": {},
   "outputs": [
    {
     "data": {
      "image/png": "[encoded data removed]",
      "text/plain": [
       "<Figure size 640x480 with 1 Axes>"
      ]
     },
     "metadata": {},
     "output_type": "display_data"
    }
   ],
   "source": [
    "# sol 9\n",
    "import matplotlib.pyplot as plt\n",
    "import numpy as np\n",
    "import scipy.stats as stats\n",
    "from scipy.stats import t\n",
    "ar1=np.linspace(-4,4,100)\n",
    "df=10 #degree of freedom\n",
    "pdf=t.pdf(ar1,df)\n",
    "\n",
    "plt.plot(ar1,pdf)\n",
    "plt.grid (True)\n"
   ]
  },
  {
   "cell_type": "code",
   "execution_count": 117,
   "metadata": {},
   "outputs": [
    {
     "name": "stderr",
     "output_type": "stream",
     "text": [
      "/var/folders/hf/stnhvdxx35l5jkkcrnfzvl4h0000gp/T/ipykernel_76052/1348654478.py:6: DeprecationWarning: This function is deprecated. Please call randint(2, 200 + 1) instead\n",
      "  a=np.random.random_integers(2,200,size=150)\n",
      "/var/folders/hf/stnhvdxx35l5jkkcrnfzvl4h0000gp/T/ipykernel_76052/1348654478.py:7: DeprecationWarning: This function is deprecated. Please call randint(2, 200 + 1) instead\n",
      "  b=np.random.random_integers(2,200,size=150)\n"
     ]
    }
   ],
   "source": [
    "# sol 10\n",
    "\n",
    "import numpy as np \n",
    "import scipy.stats as stats \n",
    "\n",
    "a=np.random.random_integers(2,200,size=150)\n",
    "b=np.random.random_integers(2,200,size=150)\n"
   ]
  },
  {
   "cell_type": "code",
   "execution_count": 122,
   "metadata": {},
   "outputs": [
    {
     "name": "stdout",
     "output_type": "stream",
     "text": [
      "the p value is  0.002883021460933034\n",
      "reject the null hypothesis ---  the population means are not equal\n"
     ]
    }
   ],
   "source": [
    "# sol 10\n",
    "h0=\"the population means are equal\"\n",
    "h1=\"the population means are not equal\"\n",
    "significance_value=0.05 # let the value\n",
    "c,p_value=stats.ttest_ind(a,b,equal_var=False)\n",
    "print (\"the p value is \",p_value)\n",
    "if p_value<significance_value:\n",
    "    print (\"reject the null hypothesis --- \",h1)\n",
    "else:\n",
    "    print (\"accept the null hypothesis --- \",h0)"
   ]
  },
  {
   "cell_type": "code",
   "execution_count": 123,
   "metadata": {},
   "outputs": [],
   "source": [
    "# sol 11\n",
    "\n",
    "# The t-distribution is a probability distribution used in statistics, similar to the normal distribution but with heavier tails. It's particularly useful in two main scenarios:\n",
    "\n",
    "    # Small Sample Sizes: When working with small samples (typically less than 30), the t-distribution is preferred over the normal distribution. It provides a more accurate approximation of the sample mean's distribution.\n",
    "\n",
    "    # Unknown Population Standard Deviation: In situations where the population standard deviation is unknown, the t-distribution is used for making inferences about the population mean, such as constructing confidence intervals and conducting hypothesis tests.\n",
    "\n",
    "# In essence, the t-distribution is valuable for drawing reliable conclusions from limited data, making it a fundamental tool in statistics, especially in fields like quality control, finance, medicine, and social sciences.\n",
    "\n"
   ]
  },
  {
   "cell_type": "code",
   "execution_count": 124,
   "metadata": {},
   "outputs": [],
   "source": [
    "# # sol 12\n",
    "# The t-statistic, also known as the t-value, is a statistic used in hypothesis testing to determine if the means of two groups are significantly different from each other. It's commonly used in situations where the population standard deviation is unknown and small sample sizes are involved. The formula for the t-statistic is as follows:\n",
    "\n",
    "# t-statistic Formula:\n",
    "\n",
    "# [t = (bar{X} - mean {u})/({frac{s}/{sqrt{n}})]\n",
    "\n",
    "# Where:\n",
    "# (t) is the t-statistic.\n",
    "# (\\bar{X}) is the sample mean.\n",
    "# (\\mu) is the population mean (the hypothesized mean you want to test against).\n",
    "# (s) is the sample standard deviation.\n",
    "# (n) is the sample size.\n",
    "\n",
    "# In this formula, the t-statistic represents the number of standard errors that the sample mean ((\\bar{X})) is away from the hypothesized population mean (mean(u)). The denominator (frac{s}/{sqrt{n}}) is the standard error of the sample mean, which accounts for the variability in the sample mean due to random sampling.\n",
    "\n",
    "# To conduct a hypothesis test using the t-statistic, you compare the calculated t-value to critical values from the t-distribution based on the desired level of significance (usually denoted as (\\alpha)) and the degrees of freedom ((df)). If the calculated t-value exceeds the critical value, you reject the null hypothesis, indicating that there is a statistically significant difference between the sample mean and the hypothesized population mean.\n"
   ]
  },
  {
   "cell_type": "code",
   "execution_count": 157,
   "metadata": {},
   "outputs": [
    {
     "name": "stdout",
     "output_type": "stream",
     "text": [
      "the mean of the total populati is somewhere b/w ---> 486.1407-513.8593\n"
     ]
    }
   ],
   "source": [
    "# sol 13 \n",
    "import numpy as np\n",
    "import scipy.stats as stats\n",
    "import math \n",
    "# given data \n",
    "x_bar=500  #(sample mean)\n",
    "sd=50\n",
    "n=50\n",
    "cfd_i=95\n",
    "\n",
    "# find the z value\n",
    "significance_value=1-(cfd_i/100)\n",
    "alfa=1-(significance_value/2) \n",
    "z_value=stats.norm.ppf(alfa) \n",
    "\n",
    "# formula for finding the mean of population (expected range)\n",
    "error= z_value.round(4)*(sd/math.sqrt(n))\n",
    "uper_range=x_bar+error\n",
    "lower_range=x_bar-error\n",
    "print(f\"the mean of the total populati is somewhere b/w ---> {lower_range.round(4)}-{uper_range.round(4)}\")"
   ]
  },
  {
   "cell_type": "code",
   "execution_count": 177,
   "metadata": {},
   "outputs": [
    {
     "name": "stdout",
     "output_type": "stream",
     "text": [
      "we reject the null hypothesis ---  the true mean decrease in blood pressure is less than 10 mmHg.\n"
     ]
    }
   ],
   "source": [
    "# sol 14 \n",
    "import numpy as np\n",
    "import scipy.stats as stats\n",
    "import math \n",
    "\n",
    "h0=\"new drug will decrease blood pressure by 10 mmhg\"\n",
    "h1=\"the true mean decrease in blood pressure is less than 10 mmHg.\"\n",
    "\n",
    "significance_value=0.05\n",
    "x_bar=8\n",
    "u_mean=10\n",
    "n=100\n",
    "sd=3\n",
    "\n",
    "\n",
    "# formula  of test statistic \n",
    "\n",
    "t_score=(x_bar-u_mean)/(sd/math.sqrt(n))\n",
    "\n",
    "alfa=significance_value\n",
    "freedom=n-1\n",
    "critical_value=stats.t.ppf(1-alfa,freedom) \n",
    "critical_value=-critical_value #becausing we are taking the left side tale only \n",
    "\n",
    "\n",
    "# print(critical_value,t_score)\n",
    "\n",
    "if t_score< critical_value:\n",
    "    print(\"we reject the null hypothesis --- \",h1)\n",
    "else :\n",
    "    print(\"we accpet the null hypothies --- \",h0)\n",
    "\n",
    "# if t_score<critical_value:\n",
    "#     print (\"The null hypothesis is rejected --- \",h1)\n",
    "# else :\n",
    "#     print(\"the null hypothesis is accepted --- \", h0)\n"
   ]
  },
  {
   "cell_type": "code",
   "execution_count": 203,
   "metadata": {},
   "outputs": [
    {
     "name": "stdout",
     "output_type": "stream",
     "text": [
      "we accpet the null hpyothesis --   The true mean weight of the products is equal to 5 pounds.\n"
     ]
    }
   ],
   "source": [
    "# sol 15\n",
    "import scipy.stats as stats\n",
    "from scipy.stats import t\n",
    "\n",
    "h0=\" The true mean weight of the products is equal to 5 pounds.\"\n",
    "h1=\" The true mean weight of the products is less than 5 pounds.\"\n",
    "                                                                       \n",
    "x_bar=4.8\n",
    "u_mean=5\n",
    "n=25\n",
    "sd=0.5\n",
    "significance_value=0.01\n",
    "freedom=25-1\n",
    "\n",
    "# find t_value\n",
    "t_score=(x_bar-u_mean)/(sd/math.sqrt(n))\n",
    "\n",
    "# find critical_value\n",
    "\n",
    "\n",
    "alfa=1-significance_value\n",
    "critical_value=stats.t.ppf(alfa,freedom)\n",
    "critical_value=-critical_value \n",
    "\n",
    "\n",
    "if t_score<critical_value:\n",
    "    print(\"we reject the null hpyothesis -- \", h1)\n",
    "else:\n",
    "    print(\"we accpet the null hpyothesis -- \", h0)\n",
    "\n",
    "\n"
   ]
  },
  {
   "cell_type": "code",
   "execution_count": 251,
   "metadata": {},
   "outputs": [
    {
     "name": "stdout",
     "output_type": "stream",
     "text": [
      "52.083333333333336 53.416666666666664\n",
      "0.8761278427207435\n",
      "accept the null hypothesis ---  the mean of the both sample is almost equal\n"
     ]
    }
   ],
   "source": [
    "# sol 16\n",
    "# data set\n",
    "import numpy as np\n",
    "import scipy.stats as stats\n",
    "\n",
    "a=[45,48,34,65,78,45,56,76,45,56,76,1]\n",
    "b=[48,65,44,65,75,76,43,54,60,60,50,1]\n",
    "\n",
    "h0=\"the mean of the both sample is almost equal\"\n",
    "h1=\"the mean of the both sample is not equal\"\n",
    "\n",
    "print(np.mean(a),np.mean(b))\n",
    "\n",
    "a,b=np.array((a,b))\n",
    "significance_value=0.05 #let it \n",
    "def check(x,y):\n",
    "    c,p_value=stats.ttest_ind(x,y,equal_var=False)\n",
    "    return p_value\n",
    "    \n",
    "result=check(a,b)\n",
    "\n",
    "\n",
    "print(result)\n",
    "if result<significance_value:\n",
    "    print(\"reject the null hypothesis --- \" , h1)\n",
    "else:\n",
    "    print(\"accept the null hypothesis --- \",h0)\n",
    "\n",
    "\n"
   ]
  },
  {
   "cell_type": "code",
   "execution_count": 210,
   "metadata": {},
   "outputs": [
    {
     "name": "stdout",
     "output_type": "stream",
     "text": [
      "t-statistic: 2.3239677296992913\n",
      "Critical value: 2.6500812928169553\n",
      "P-value: 0.023123013413725912\n",
      "Fail to reject the null hypothesis. There is no significant difference between the two groups.\n"
     ]
    }
   ],
   "source": [
    "# sol 16\n",
    "import numpy as np\n",
    "from scipy import stats\n",
    "\n",
    "# Data for Group 1\n",
    "n1 = 30\n",
    "mean1 = 80\n",
    "std_dev1 = 10\n",
    "\n",
    "# Data for Group 2\n",
    "n2 = 40\n",
    "mean2 = 75\n",
    "std_dev2 = 8\n",
    "\n",
    "# Significance level\n",
    "alpha = 0.01\n",
    "\n",
    "# Calculate the pooled standard error\n",
    "pooled_std_error = np.sqrt(((n1 - 1) * std_dev1**2 + (n2 - 1) * std_dev2**2) / (n1 + n2 - 2))\n",
    "\n",
    "# Calculate the t-statistic\n",
    "t_statistic = (mean1 - mean2) / (pooled_std_error * np.sqrt(1/n1 + 1/n2))\n",
    "\n",
    "# Degrees of freedom\n",
    "degrees_of_freedom = n1 + n2 - 2\n",
    "\n",
    "# Calculate the critical value\n",
    "critical_value = stats.t.ppf(1 - alpha/2, degrees_of_freedom)\n",
    "\n",
    "# Perform the t-test\n",
    "p_value = 2 * (1 - stats.t.cdf(np.abs(t_statistic), degrees_of_freedom)) # use np.abs(t_statistic) as the |t_statistic|\n",
    "\n",
    "# Print the results\n",
    "print(f\"t-statistic: {t_statistic}\")\n",
    "print(f\"Critical value: {critical_value}\")\n",
    "print(f\"P-value: {p_value}\")\n",
    "\n",
    "# Check if the null hypothesis should be rejected\n",
    "if np.abs(t_statistic) > critical_value:\n",
    "    print(\"Reject the null hypothesis. There is a significant difference between the two groups.\")\n",
    "else:\n",
    "    print(\"Fail to reject the null hypothesis. There is no significant difference between the two groups.\")\n",
    "\n"
   ]
  },
  {
   "cell_type": "code",
   "execution_count": 247,
   "metadata": {},
   "outputs": [
    {
     "name": "stdout",
     "output_type": "stream",
     "text": [
      "the Estmated mean of the population lies b/w range --  3.4535840896844654 - 4.546415910315535\n"
     ]
    }
   ],
   "source": [
    "# sol 17 \n",
    "x_bar=4\n",
    "confidence_level=99\n",
    "n=50\n",
    "sd=1.5\n",
    "\n",
    "# formula\n",
    "z_score=stats.norm.ppf((1-(confidence_level/100))/(2))\n",
    "\n",
    "error_range=np.abs(z_score)*(sd/(math.sqrt(n)))\n",
    "\n",
    "# for range\n",
    "lower_range=x_bar-error_range\n",
    "uper_range=x_bar+error_range\n",
    "\n",
    "print(\"the Estmated mean of the population lies b/w range -- \",lower_range,\"-\",uper_range)"
   ]
  }
 ],
 "metadata": {
  "kernelspec": {
   "display_name": "Python 3",
   "language": "python",
   "name": "python3"
  },
  "language_info": {
   "codemirror_mode": {
    "name": "ipython",
    "version": 3
   },
   "file_extension": ".py",
   "mimetype": "text/x-python",
   "name": "python",
   "nbconvert_exporter": "python",
   "pygments_lexer": "ipython3",
   "version": "3.9.6"
  },
  "orig_nbformat": 4
 },
 "nbformat": 4,
 "nbformat_minor": 2
}
