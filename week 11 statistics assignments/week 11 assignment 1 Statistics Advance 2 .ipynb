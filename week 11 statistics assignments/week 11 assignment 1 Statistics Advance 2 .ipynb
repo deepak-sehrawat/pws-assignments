{
 "cells": [
  {
   "cell_type": "code",
   "execution_count": 1,
   "metadata": {},
   "outputs": [],
   "source": [
    "# # sol 1 \n",
    "\n",
    "# Probability Mass Function (PMF):The PMF is used for discrete random variables, which can only take on specific values. It gives the probability of each possible outcome. The PMF is defined as:\n",
    "\n",
    "# PMF(x) = P(X = x)\n",
    "\n",
    "# where X is the random variable and x is a specific value that X can take.\n",
    "\n",
    "# Example: \n",
    "\n",
    "# Consider a fair six-sided die. The PMF for this random variable would give the probability of rolling each number from 1 to 6. It would be represented as:\n",
    "\n",
    "# PMF(1) = 1/6PMF(2) = 1/6PMF(3) = 1/6PMF(4) = 1/6PMF(5) = 1/6PMF(6) = 1/6\n",
    "\n",
    "# Probability Density Function (PDF):The PDF is used for continuous random variables, which can take on any value within a range. It represents the likelihood of the random variable falling within a particular interval. The PDF is defined as the derivative of the cumulative distribution function (CDF):\n",
    "\n",
    "# PDF(x) = d/dx [CDF(x)]\n",
    "\n",
    "# Example: \n",
    "# Consider a normal distribution with mean μ = 0 and standard deviation σ = 1. The PDF for this random variable would describe the probability density at each point along the distribution curve. It would be represented as:\n",
    "\n",
    "# PDF(x) = (1 / √(2π)) * e^(-x^2/2)\n",
    "\n",
    "# Here, x represents any value along the x-axis of the distribution curve."
   ]
  },
  {
   "cell_type": "code",
   "execution_count": 2,
   "metadata": {},
   "outputs": [],
   "source": [
    "# sol 2 \n",
    "#CDF is a statistical tool used to describe the probability distribution of a random variable by indicating the likelihood that the variable takes on values less than or equal to a specific value.\n",
    "\n",
    "# CDF serves multiple roles, including calculating probabilities within ranges, understanding data spread, identifying percentiles like the median, and comparing different datasets' distributions.\n",
    "\n",
    "# CDF is crucial for hypothesis testing, risk assessment, and decision-making in various fields like finance, engineering, and social sciences. It provides insights into the behavior of random variables and their possible outcomes\n",
    "\n",
    "# Example: Imagine measuring heights of students. The CDF at 170 cm would tell us the probability that a randomly chosen student is 170 cm or shorter."
   ]
  },
  {
   "cell_type": "code",
   "execution_count": 3,
   "metadata": {},
   "outputs": [],
   "source": [
    "# sol 3\n",
    "# The normal distribution, also known as the Gaussian distribution, is a fundamental probability distribution that is widely used in various fields to model a wide range of phenomena. \n",
    "# It is characterized by its bell-shaped curve and is defined by two parameters: the mean and the standard deviation \n",
    "\n",
    "# examples \n",
    "# Height of Individuals: The distribution of human heights tends to follow a normal distribution. The mean height would correspond to the center of the curve, while the standard deviation would indicate how much variation there is among heights.\n",
    "\n",
    "# Test Scores: In educational settings, the distribution of test scores for a large group of students often resembles a normal distribution. The mean would represent the average score, and the standard deviation would provide information about the spread of scores.\n",
    "\n",
    "\n",
    "\n",
    "# The parameters of the normal distribution (mean and standard deviation) influence the shape of the distribution as follows:\n",
    "\n",
    "# Mean (μ): The mean determines the central location of the distribution, i.e., where the peak of the bell curve is located. If the mean is increased or decreased, the entire curve shifts along the horizontal axis accordingly.\n",
    "\n",
    "# Standard Deviation (σ): The standard deviation controls the spread or dispersion of the distribution. A larger standard deviation results in a wider and flatter curve, indicating greater variability. Conversely, a smaller standard deviation leads to a narrower and taller curve, indicating less variability.\n",
    "\n"
   ]
  },
  {
   "cell_type": "code",
   "execution_count": 4,
   "metadata": {},
   "outputs": [],
   "source": [
    "# # sol 4\n",
    "# The normal distribution, known as the Gaussian distribution, is vital across fields due to its applicability in modeling real-world phenomena. It's fundamental in statistics, aiding data understanding. Key points:\n",
    "\n",
    "# Central Limit Theorem: It links to the theorem where averages of many variables follow a normal distribution. This basis aids sample mean behavior.\n",
    "\n",
    "# Statistical Inference: Hypothesis testing and confidence intervals often assume near-normal data. This helps researchers infer population parameters.\n",
    "\n",
    "# Parameter Estimation: Methods like maximum likelihood estimation use normality assumptions to estimate data distribution parameters.\n",
    "\n",
    "# Risk Management: Finance and insurance model uncertainties with normal distribution, e.g., Value-at-Risk estimation.\n",
    "\n",
    "\n",
    "# Real-life examples:\n",
    "\n",
    "# a. Heights: People's heights often follow a normal pattern, centered around the mean.\n",
    "\n",
    "# b. Exam Scores: Test scores commonly exhibit a near-normal distribution, aiding performance assessment.\n",
    "\n",
    "# c. Measurement Errors: Errors in scientific measurements tend to align with a normal distribution."
   ]
  },
  {
   "cell_type": "code",
   "execution_count": 5,
   "metadata": {},
   "outputs": [],
   "source": [
    "# # sol 5\n",
    "# Bernoulli Distribution:\n",
    "# The Bernoulli distribution is a discrete probability distribution that models a single binary outcome, such as success/failure, yes/no, or 1/0. It's named after the Swiss mathematician Jacob Bernoulli. The distribution is characterized by a single parameter, typically denoted as (p), which represents the probability of success (or the occurrence of the event of interest).\n",
    "\n",
    "# Example:\n",
    "# Consider the experiment of flipping a fair coin. If we define \"heads\" as a success (outcome 1) and \"tails\" as a failure (outcome 0), the Bernoulli distribution can be used to model the probability of getting heads (\\(p = 0.5\\)).\n",
    "\n",
    "\n",
    "# Difference between Bernoulli and Binomial Distribution:\n",
    "\n",
    "# The Bernoulli distribution and the binomial distribution are related concepts, but they differ in terms of the number of trials or events being considered.\n",
    "\n",
    "# 1. **Bernoulli Distribution:**\n",
    "#    - Models a single trial or event.\n",
    "#    - Has only two possible outcomes: success (1) or failure (0).\n",
    "#    - Characterized by a single parameter \\(p\\), which is the probability of success.\n",
    "\n",
    "# 2. **Binomial Distribution:**\n",
    "#    - Models the number of successes in a fixed number (\\(n\\)) of independent and identical Bernoulli trials.\n",
    "#    - Has multiple possible outcomes: 0 successes, 1 success, 2 successes, and so on, up to \\(n\\) successes.\n",
    "\n",
    "# summary\n",
    "#  the Bernoulli distribution models a single binary event, while the binomial distribution models the number of successes in a fixed number of independent Bernoulli trials. The binomial distribution generalizes the Bernoulli distribution to multiple trials."
   ]
  },
  {
   "cell_type": "code",
   "execution_count": 18,
   "metadata": {},
   "outputs": [
    {
     "name": "stdout",
     "output_type": "stream",
     "text": [
      "z= 1.0\n",
      "The Probability is  0.159\n"
     ]
    }
   ],
   "source": [
    "# sol 6\n",
    "# firstly find the z score \n",
    "\n",
    "#given data\n",
    "\n",
    "xi=60 #given point\n",
    "u=50 #mean\n",
    "sd=10 #standard deviation \n",
    "\n",
    "# formula of z score is\n",
    "z =(xi-u)/sd \n",
    "print (\"z=\",z)\n",
    "# the answer will be 01 \n",
    "# after geting the z score we find the z value form the z table for the z score 01\n",
    "\n",
    "# z value of 01 is = 0.8413 # from the z table \n",
    "\n",
    "z_value=0.8413\n",
    "result = 1- z_value # we have to do this step because the z value gives us that area under curve that giving us the probilty of the number that are small the the 60 \n",
    "\n",
    "print(\"The Probability is \", round(result,3))\n",
    "\n",
    "\n"
   ]
  },
  {
   "cell_type": "code",
   "execution_count": 14,
   "metadata": {},
   "outputs": [
    {
     "data": {
      "text/plain": [
       "1.0"
      ]
     },
     "execution_count": 14,
     "metadata": {},
     "output_type": "execute_result"
    }
   ],
   "source": [
    "# # sol 7\n",
    "# Consider the example of rolling a fair six-sided die. In this case, each face of the die has an equal probability of landing face up, which corresponds to the concept of the uniform distribution.\n",
    "\n",
    "# Probability of Each Outcome:\n",
    "# When rolling a fair six-sided die, each outcome (1, 2, 3, 4, 5, or 6) has an equal probability of (frac{1}/{6}). This uniform probability distribution reflects the fact that there's no preference for any specific outcome; all outcomes are equally likely.\n",
    "\n",
    "# Probability Density Function (PDF):\n",
    "# The probability density function of the uniform distribution is a mathematical expression that describes the likelihood of observing a particular value within a specified range. For a uniform distribution with a range from (a) to (b), the probability density function is given by:\n",
    "\n",
    "# [ f(x) = frac{1}/{b - a} ]\n",
    "\n",
    "# Here, (x) represents a value within the range ([a, b]). This formula ensures that the area under the probability density function's curve is equal to 1, indicating the total probability over the range.\n"
   ]
  },
  {
   "cell_type": "code",
   "execution_count": null,
   "metadata": {},
   "outputs": [],
   "source": [
    "# sol 8\n",
    "# The z-score, or standard score, measures the deviation of a data point from the mean in terms of standard deviations. It's calculated as the difference between the data point and mean, divided by the standard deviation. \n",
    "\n",
    "# importance \n",
    "# The z-score is crucial in statistics as it standardizes data for comparison, aids outlier detection, and enables hypothesis testing. \n",
    "# It's used to analyze normal distributions, calculate probabilities, and transform data. By providing a common scale for various distributions, z-scores allow efficient comparison and assessment of data points' relative positions. \n",
    "# This dimensionless measure plays a pivotal role in data analysis, statistical inference, and understanding the significance of individual data points within a distribution.\n"
   ]
  },
  {
   "cell_type": "code",
   "execution_count": 19,
   "metadata": {},
   "outputs": [],
   "source": [
    "# sol 9\n",
    "\n",
    "# The Centernal Limit theorem\n",
    "# The Central Limit Theorem (CLT) is a fundamental concept in statistics that states that the distribution of the sample means of a sufficiently large number of independent, identically distributed random variables will approximate a normal distribution, regardless of the original distribution of the variables. \n",
    "# In simpler terms, when we take many samples from any population and calculate their means, those means will tend to follow a normal distribution, even if the original data isn't normally distributed.\n",
    "\n",
    "# Significance of the Central Limit Theorem:\n",
    "\n",
    "# Inferential Power: The CLT is the foundation of many statistical methods, enabling the use of normal distribution-based techniques for making inferences about population parameters from sample data.\n",
    "\n",
    "# Sample Size Flexibility: It suggests that for a sufficiently large sample size, even if the population distribution isn't known, the sample means will still be approximately normally distributed.\n",
    "\n",
    "# Real-world Applicability: The CLT is applicable across diverse fields, from social sciences to natural sciences and engineering, as it provides a reliable way to estimate population parameters.\n",
    "\n",
    "# Estimation Accuracy: The CLT supports accurate estimation of population means and standard deviations using sample data, enhancing the reliability of statistical analysis."
   ]
  },
  {
   "cell_type": "code",
   "execution_count": 20,
   "metadata": {},
   "outputs": [],
   "source": [
    "# sol 10 \n",
    "\n",
    "# The Central Limit Theorem (CLT) is a powerful concept in statistics, but it relies on certain assumptions to hold true. These assumptions are as follows:\n",
    "\n",
    "# Independence: The random variables in the sample should be independent of each other. This means that the outcome of one observation should not influence the outcome of another.\n",
    "\n",
    "# Identically Distributed: The random variables in the sample should be drawn from the same population and follow the same distribution. This ensures consistency in the behavior of the sample means.\n",
    "\n",
    "# Sample Size: While the CLT doesn't specify an exact minimum sample size, it generally works well with larger sample sizes. As a rule of thumb, a sample size of at least 30 is often considered sufficient for the CLT to be applicable.\n",
    "\n",
    "# Finite Variance: The population from which the sample is drawn should have a finite variance. This is necessary for the means of the samples to converge to a stable distribution.\n",
    "\n"
   ]
  },
  {
   "cell_type": "code",
   "execution_count": null,
   "metadata": {},
   "outputs": [],
   "source": []
  }
 ],
 "metadata": {
  "kernelspec": {
   "display_name": "Python 3",
   "language": "python",
   "name": "python3"
  },
  "language_info": {
   "codemirror_mode": {
    "name": "ipython",
    "version": 3
   },
   "file_extension": ".py",
   "mimetype": "text/x-python",
   "name": "python",
   "nbconvert_exporter": "python",
   "pygments_lexer": "ipython3",
   "version": "3.9.6"
  },
  "orig_nbformat": 4
 },
 "nbformat": 4,
 "nbformat_minor": 2
}
