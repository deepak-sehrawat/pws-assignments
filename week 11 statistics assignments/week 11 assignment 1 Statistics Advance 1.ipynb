{
 "cells": [
  {
   "cell_type": "code",
   "execution_count": 1,
   "metadata": {},
   "outputs": [],
   "source": [
    "# sol 1\n",
    "# probability density function \n",
    "\n",
    "# Continuous Probability Modeling: The Probability Density Function (PDF) is a concept in statistics used to describe the likelihood of a continuous random variable taking on a specific value within a given range. It's a tool for modeling the distribution of continuous data, like measurements or observations that can have any value within a range.\n",
    "\n",
    "# Non-Negative and Area-Under-Curve: The PDF is always non-negative, meaning its values are greater than or equal to zero. The total area under the PDF curve over its entire range is equal to 1. This normalization ensures that the probabilities for all possible values of the variable add up to 1.\n",
    "\n",
    "# Probability Interpretation and Integration: The PDF provides a way to calculate probabilities of a continuous random variable falling within a certain interval. The probability of the variable falling within an interval is given by integrating the PDF over that interval. In essence, the area under the PDF curve within the interval represents the probability of the variable's value falling within that interval\n"
   ]
  },
  {
   "cell_type": "code",
   "execution_count": 2,
   "metadata": {},
   "outputs": [],
   "source": [
    "# sol 2\n",
    "\n",
    "# types of distribution\n",
    "\n",
    "# Normal Distribution (Gaussian Distribution): This is one of the most common distributions, known for its bell-shaped curve. Many natural phenomena follow this distribution due to the central limit theorem. It's characterized by its mean and standard deviation.\n",
    "\n",
    "# Bernoulli Distribution: This is the simplest distribution, representing a single yes/no experiment with a probability (p) of success and (1-p) of failure.\n",
    "\n",
    "# Binomial Distribution: This distribution models the number of successes in a fixed number of independent Bernoulli trials (yes/no or success/failure experiments) with the same probability of success.\n",
    "\n",
    "# Poisson Distribution: This distribution is used to model the number of events occurring in a fixed interval of time or space. It's appropriate for rare events and is often used in counting processes.\n",
    "\n",
    "# Uniform Distribution: In this distribution, all outcomes within a specified range are equally likely. The probability density is constant within the range and zero outside of it.\n",
    "\n",
    "# Student's t-Distribution: This distribution is commonly used for estimating the mean of a normally distributed population when the sample size is small and the population standard deviation is unknown."
   ]
  },
  {
   "cell_type": "code",
   "execution_count": 27,
   "metadata": {},
   "outputs": [
    {
     "name": "stdout",
     "output_type": "stream",
     "text": [
      "the resulted pdf on the base of the given info is  0.242\n"
     ]
    }
   ],
   "source": [
    "# sol 3 \n",
    "import math \n",
    "def fun1(gp,me,sd): #gp= given point, me= mean , sd= standard deviation \n",
    "    a=1/(sd* math.sqrt(2*math.pi))\n",
    "    b=-0.5*((gp-me)/sd)**2\n",
    "    result=a*math.exp(b)\n",
    "    result=round(result,3)\n",
    "    print (\"the resulted pdf on the base of the given info is \",result)\n",
    "\n",
    "gp=4  #gp= given point\n",
    "me=3   #me= mean\n",
    "sd=1   #sd= standard deviation \n",
    "\n",
    "fun1(gp,me,sd)"
   ]
  },
  {
   "cell_type": "code",
   "execution_count": 28,
   "metadata": {},
   "outputs": [],
   "source": [
    "# sol 4\n",
    "# The Binomial distribution is a discrete probability distribution that describes the number of successes in a fixed number of independent Bernoulli trials, where each trial has the same probability of success. Here are the properties of the Binomial distribution:\n",
    "\n",
    "# Fixed Number of Trials: The Binomial distribution is defined for a fixed number of trials denoted as (n).\n",
    "\n",
    "# Independent Trials: Each trial is assumed to be independent of the others, meaning that the outcome of one trial does not affect the outcome of another.\n",
    "\n",
    "# Two Outcomes: Each trial has two possible outcomes, often referred to as \"success\" and \"failure.\" These outcomes are often coded as 1 for success and 0 for failure.\n",
    "\n",
    "# Constant Probability: The probability of success remains the same for each trial and is denoted as (p).\n",
    "\n",
    "# Discrete Values: The Binomial distribution is defined for discrete values of the random variable, which represents the number of successes in the (n) trials.\n",
    "\n",
    "# Probability Mass Function (PMF): The probability mass function of the Binomial distribution gives the probability of getting exactly (k) successes in (n) trials.\n",
    "\n",
    "\n",
    "# Two examples of events where the Binomial distribution can be applied are:\n",
    "\n",
    "# Coin Flips: Consider flipping a fair coin (n) times. Each flip has two possible outcomes: heads (success) or tails (failure). The probability of getting heads in a single flip is (p = 0.5), and the probability of getting tails is (1 - p = 0.5). The number of heads in (n) flips follows a Binomial distribution.\n",
    "\n",
    "# Medical Trials: In a clinical trial, a new drug is tested on (n) patients to determine the proportion of patients who respond positively (success) to the treatment. If the drug has a fixed success rate (p), then the number of patients who respond positively among the (n) patients follows a Binomial distribution.\n"
   ]
  },
  {
   "cell_type": "code",
   "execution_count": 37,
   "metadata": {},
   "outputs": [
    {
     "data": {
      "text/plain": [
       "(array([612.,   0.,   0.,   0.,   0.,   0.,   0.,   0.,   0., 388.]),\n",
       " array([0. , 0.1, 0.2, 0.3, 0.4, 0.5, 0.6, 0.7, 0.8, 0.9, 1. ]),\n",
       " <BarContainer object of 10 artists>)"
      ]
     },
     "execution_count": 37,
     "metadata": {},
     "output_type": "execute_result"
    },
    {
     "data": {
      "image/png": "[encoded data removed]",
      "text/plain": [
       "<Figure size 640x480 with 1 Axes>"
      ]
     },
     "metadata": {},
     "output_type": "display_data"
    }
   ],
   "source": [
    "# sol 5\n",
    "import numpy as np\n",
    "import matplotlib.pyplot as plt\n",
    "\n",
    "#random sample of size 1000 from a binomial distribution\n",
    "\n",
    "data=np.random.binomial(p=0.4,n=1,size=1000)\n",
    "\n",
    "#for plot the histogram \n",
    "plt.hist(data)\n"
   ]
  },
  {
   "cell_type": "code",
   "execution_count": 51,
   "metadata": {},
   "outputs": [
    {
     "name": "stdout",
     "output_type": "stream",
     "text": [
      " the answer is  0.3208471988621341\n"
     ]
    }
   ],
   "source": [
    "# sol 6\n",
    "import math\n",
    "# for cumulative\n",
    "def fun2(me,gp):\n",
    "    result=0\n",
    "    for i in range (gp+1):\n",
    "        result+=(math.exp(-me)*(me)**i)/math.factorial(i)\n",
    "    return result    \n",
    "    \n",
    "me=3.5 #me= mean\n",
    "gp=2 #given point\n",
    "print(\" the answer is \",fun2(me,gp))\n"
   ]
  },
  {
   "cell_type": "code",
   "execution_count": 49,
   "metadata": {},
   "outputs": [
    {
     "name": "stdout",
     "output_type": "stream",
     "text": [
      "CDF at point 2 is: 0.3208471988621341\n"
     ]
    }
   ],
   "source": [
    "# sol 7\n",
    "\n",
    "# The Binomial distribution models the number of successes in a fixed number of independent trials, each with the same probability of success. but in  the Poisson distribution characterizes the number of rare events occurring in a continuous interval, without specifying the number of trials.\n",
    "\n",
    "# In the Binomial distribution, the number of trials is predetermined, and the probability of success remains constant across trials. On the other hand, the Poisson distribution lacks a fixed number of trials and focuses on describing event occurrences in a specified timeframe. \n",
    "\n",
    "# The Binomial distribution's random variable signifies the count of successes, while the Poisson distribution's random variable represents the event count.\n",
    "\n",
    "#  the Binomial distribution assumes independent trials, while the Poisson distribution is suited for events occurring randomly and infrequently. \n"
   ]
  },
  {
   "cell_type": "code",
   "execution_count": 59,
   "metadata": {},
   "outputs": [
    {
     "name": "stdout",
     "output_type": "stream",
     "text": [
      "the mean = 5.038\n",
      "the variance = 5.038  # the varience is also same as mean in the case of poisson distribution \n"
     ]
    }
   ],
   "source": [
    "# sol 8 \n",
    "import numpy as np \n",
    "data1=np.random.poisson(5,1000)\n",
    "data1\n",
    "me=np.mean(data1)\n",
    "print(\"the mean =\",me)\n",
    "print(\"the variance =\",me,\" # the varience is also same as mean in the case of poisson distribution \") \n"
   ]
  },
  {
   "cell_type": "code",
   "execution_count": 60,
   "metadata": {},
   "outputs": [],
   "source": [
    "# sol 9 \n",
    "\n",
    "# Binomial Distribution \n",
    "# mean= n*p\n",
    "# variance=n*p*q\n",
    "\n",
    "# Poisson Distribution \n",
    "# mean = lamda(λ) \n",
    "# Variance= same as mean (λ)\n",
    "\n",
    "# In binomial distribution Mean > Variance \n",
    "# In  poisson distribution mean = variance."
   ]
  },
  {
   "cell_type": "code",
   "execution_count": 61,
   "metadata": {},
   "outputs": [],
   "source": [
    "# sol 10 \n",
    "# the least frequent data appear far from the mean in the normal distribution . (its appear on the both edges(end) of the graph)"
   ]
  },
  {
   "cell_type": "code",
   "execution_count": null,
   "metadata": {},
   "outputs": [],
   "source": []
  }
 ],
 "metadata": {
  "kernelspec": {
   "display_name": "Python 3",
   "language": "python",
   "name": "python3"
  },
  "language_info": {
   "codemirror_mode": {
    "name": "ipython",
    "version": 3
   },
   "file_extension": ".py",
   "mimetype": "text/x-python",
   "name": "python",
   "nbconvert_exporter": "python",
   "pygments_lexer": "ipython3",
   "version": "3.9.6"
  },
  "orig_nbformat": 4
 },
 "nbformat": 4,
 "nbformat_minor": 2
}
