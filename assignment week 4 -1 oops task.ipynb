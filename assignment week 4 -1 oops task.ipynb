{
 "cells": [
  {
   "cell_type": "code",
   "execution_count": 1,
   "id": "eb6d5007-59c9-4b3d-abfd-cc54c790084d",
   "metadata": {},
   "outputs": [
    {
     "name": "stdout",
     "output_type": "stream",
     "text": [
      "vehicle name Swift having the max speed of 160 with average of 18 per liter\n"
     ]
    }
   ],
   "source": [
    "#sol 1 \n",
    "class vehicle ():\n",
    "    def __init__(self,name_of_vehicle,max_speed,average_of_vehicle):\n",
    "        self.name_of_vehicle =name_of_vehicle\n",
    "        self.max_speed =max_speed\n",
    "        self.average_of_vehicle =average_of_vehicle\n",
    "    def result(self):\n",
    "        return f\"vehicle name {self.name_of_vehicle} having the max speed of {self.max_speed} with average of {self.average_of_vehicle} per liter\" \n",
    "    \n",
    "car1=vehicle(\"Swift\",160,18)\n",
    "print(car1.result())"
   ]
  },
  {
   "cell_type": "code",
   "execution_count": 3,
   "id": "d4a0ed03-b690-459b-8375-0fe03d5076d4",
   "metadata": {},
   "outputs": [
    {
     "name": "stdout",
     "output_type": "stream",
     "text": [
      "Name of vehicle is Swift and the seating capicty of the vehicle is 5\n"
     ]
    }
   ],
   "source": [
    "# sol 2\n",
    "class vehicle ():\n",
    "    def __init__(self,name_of_vehicle,max_speed,average_of_vehicle):\n",
    "        self.name_of_vehicle =name_of_vehicle\n",
    "        self.max_speed =max_speed\n",
    "        self.average_of_vehicle =average_of_vehicle\n",
    "    def result(self):\n",
    "        return f\"vehicle name {self.name_of_vehicle} having the max speed of {self.max_speed} with average of {self.average_of_vehicle} per liter\" \n",
    "    \n",
    "\n",
    "class car(vehicle):\n",
    "    def seating_capacity(self,cpty):\n",
    "        return f\"Name of vehicle is {self.name_of_vehicle} and the seating capicty of the vehicle is {cpty}\"\n",
    "\n",
    "\n",
    "car2=car(\"Swift\",160,18)\n",
    "print(car2.seating_capacity(5))"
   ]
  },
  {
   "cell_type": "code",
   "execution_count": 8,
   "id": "e61aaf2c-b341-4eb9-993b-d4ca5ad179c3",
   "metadata": {},
   "outputs": [
    {
     "name": "stdout",
     "output_type": "stream",
     "text": [
      "Child may inherit with:\n",
      "height is 5.7\n",
      "color is white\n"
     ]
    }
   ],
   "source": [
    "#sol 3\n",
    "# multiple inheritance is said in pythone when we inherites the properties of class from the multiple class or from more then one class\n",
    "# syntax of multiple inheritence is \"class class_name (class1, class2, class3.....)\"\n",
    "\n",
    "# example\n",
    "class father:\n",
    "    def __init__(self, height):\n",
    "        self.height = height\n",
    "\n",
    "    def get_height(self):\n",
    "        return f\"height is {self.height}\"\n",
    "\n",
    "class mother:\n",
    "    def __init__(self, color):\n",
    "        self.color = color\n",
    "\n",
    "    def get_color(self):\n",
    "        return f\"color is {self.color}\"\n",
    "\n",
    "class child(mother, father):\n",
    "    def __init__(self, height, color):\n",
    "        father.__init__(self, height)\n",
    "        mother.__init__(self, color)\n",
    "\n",
    "\n",
    "child1 = child(5.7,\"white\")\n",
    "print(\"Child may inherit with:\")\n",
    "print(child1.get_height())\n",
    "print(child1.get_color())"
   ]
  },
  {
   "cell_type": "code",
   "execution_count": 1,
   "id": "dd7d5c4d-63f4-4b93-9082-a9600380a9b4",
   "metadata": {},
   "outputs": [
    {
     "name": "stdout",
     "output_type": "stream",
     "text": [
      "35000\n",
      "new bonus  10000\n"
     ]
    }
   ],
   "source": [
    "#4 sol \n",
    "# n Python, getters and setters are methods used to access and modify the attributes (variables) of a class. They provide a way to control the access and modification of class attributes and ensure proper encapsulation. \n",
    "# Getters are used to retrieve the values of attributes, while setters are used to modify or update the values of attributes.\n",
    "\n",
    "# example this program automaticle set the value of bouns on the base of total salary\n",
    "class Salary:\n",
    "    def __init__(self):\n",
    "        self.fix_salary = 30000\n",
    "        self._bonus = 5000\n",
    "        self.total_salary=self.fix_salary+self._bonus\n",
    "\n",
    "    @property\n",
    "    def total_salary(self):\n",
    "        \n",
    "        return self.fix_salary+self._bonus\n",
    "\n",
    "    @total_salary.setter\n",
    "    def total_salary(self, value):\n",
    "\n",
    "        self._bonus=value-self.fix_salary\n",
    "\n",
    "\n",
    "rohit=Salary()\n",
    "print(rohit.total_salary)\n",
    "rohit.total_salary=40000\n",
    "print(\"new bonus \",rohit._bonus)"
   ]
  },
  {
   "cell_type": "code",
   "execution_count": 2,
   "id": "fcbe953e-cd29-4e86-a760-f6257a9394df",
   "metadata": {},
   "outputs": [
    {
     "name": "stdout",
     "output_type": "stream",
     "text": [
      "tomorrow is extra class for all classes \n",
      "tomorrow is  extra class of 12th class\n"
     ]
    }
   ],
   "source": [
    "# sol 5\n",
    "# Method overriding in Python refers to the ability to redefine a method in a child class that is already defined in its parent class. When a method in the child class has the same name, same number of parameters, and the same return type as a method in its parent class, it overrides the parent's method.\n",
    "\n",
    "# Method overriding allows the child class to provide its own implementation of a method inherited from the parent class. This way, the child class can modify or extend the behavior of the method without changing the signature or name of the method in the parent class.\n",
    "\n",
    "class school():\n",
    "    def notice(self):\n",
    "        return(\"tomorrow is extra class for all classes \")\n",
    "    \n",
    "class c12th (school):\n",
    "    def notice(self):\n",
    "        return ('tomorrow is  extra class of 12th class')\n",
    "    \n",
    "n1=school()\n",
    "n2=c12th()\n",
    "print(n1.notice())\n",
    "print(n2.notice())"
   ]
  }
 ],
 "metadata": {
  "kernelspec": {
   "display_name": "Python 3 (ipykernel)",
   "language": "python",
   "name": "python3"
  },
  "language_info": {
   "codemirror_mode": {
    "name": "ipython",
    "version": 3
   },
   "file_extension": ".py",
   "mimetype": "text/x-python",
   "name": "python",
   "nbconvert_exporter": "python",
   "pygments_lexer": "ipython3",
   "version": "3.10.8"
  }
 },
 "nbformat": 4,
 "nbformat_minor": 5
}
