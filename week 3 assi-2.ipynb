{
 "cells": [
  {
   "cell_type": "code",
   "execution_count": 1,
   "id": "81c28a4f-5c7e-4c4c-98df-d72f870c4571",
   "metadata": {},
   "outputs": [
    {
     "name": "stdout",
     "output_type": "stream",
     "text": [
      "[('Virat Kohli', 24936), ('Jack Kallis', 25534), ('Ricky Ponting', 27483), ('Sachin Tendulkar', 34357)]\n"
     ]
    }
   ],
   "source": [
    "#sol 1\n",
    "l1=[('Sachin Tendulkar', 34357), ('Ricky Ponting', 27483), ('Jack Kallis', 25534), ('Virat Kohli', 24936)]\n",
    "\n",
    "a=lambda x: x[1]\n",
    "s=sorted(l1,key=a)\n",
    "print(s)"
   ]
  },
  {
   "cell_type": "code",
   "execution_count": 2,
   "id": "ede7bf6e-d010-4383-8644-2f6cb6dea6e8",
   "metadata": {},
   "outputs": [
    {
     "name": "stdout",
     "output_type": "stream",
     "text": [
      "[1, 4, 9, 16, 25, 36, 49, 64, 81, 100]\n"
     ]
    }
   ],
   "source": [
    "# sol 2\n",
    "\n",
    "l2=[1, 2, 3, 4, 5, 6, 7, 8, 9, 10]\n",
    "print(list(map(lambda x:x**2,l2)))"
   ]
  },
  {
   "cell_type": "code",
   "execution_count": 3,
   "id": "b4bbf791-0943-43a8-a4e7-25b9b855b18e",
   "metadata": {},
   "outputs": [
    {
     "name": "stdout",
     "output_type": "stream",
     "text": [
      "('1', '2', '3', '4', '5', '6', '7', '8', '9', '10')\n"
     ]
    }
   ],
   "source": [
    "# sol 3\n",
    "l1=[1, 2, 3, 4, 5, 6, 7, 8, 9, 10]\n",
    "print(tuple(map(lambda x:str(x),l1)))"
   ]
  },
  {
   "cell_type": "code",
   "execution_count": 4,
   "id": "edf70190-d40d-442d-99af-ee696bcc916b",
   "metadata": {},
   "outputs": [
    {
     "name": "stdout",
     "output_type": "stream",
     "text": [
      "[1, 2, 3, 4, 5, 6, 7, 8, 9, 10, 11, 12, 13, 14, 15, 16, 17, 18, 19, 20, 21, 22, 23, 24, 25]\n",
      "15511210043330985984000000\n"
     ]
    }
   ],
   "source": [
    "# sol 4\n",
    "\n",
    "from functools import reduce\n",
    "b=range(1,260)\n",
    "l1=list(range(1,26))\n",
    "print ((l1))\n",
    "print((reduce(lambda x,y:x*y,l1)))"
   ]
  },
  {
   "cell_type": "code",
   "execution_count": 5,
   "id": "4b7d7fd3-652f-434d-8450-ea6494279d93",
   "metadata": {},
   "outputs": [
    {
     "name": "stdout",
     "output_type": "stream",
     "text": [
      "[2, 3, 6, 9, 27, 60, 90, 120, 46]\n"
     ]
    }
   ],
   "source": [
    "# sol 5\n",
    "l1=[2, 3, 6, 9, 27, 60, 90, 120, 55, 46]\n",
    "print(list(filter(lambda x:  x%2==0 or x%3==0 ,l1)))"
   ]
  },
  {
   "cell_type": "code",
   "execution_count": 6,
   "id": "587bb51d-b50d-4a94-9ec1-104dc8adb290",
   "metadata": {},
   "outputs": [
    {
     "name": "stdout",
     "output_type": "stream",
     "text": [
      "['php', 'aba', 'radar', 'level']\n"
     ]
    }
   ],
   "source": [
    "# sol 6\n",
    "l1=['python', 'php', 'aba', 'radar', 'level']\n",
    "print(list(filter(lambda x : x==x[::-1],l1)))"
   ]
  },
  {
   "cell_type": "code",
   "execution_count": null,
   "id": "841c3190-3547-408c-8d8c-9a90591d15b7",
   "metadata": {},
   "outputs": [],
   "source": []
  }
 ],
 "metadata": {
  "kernelspec": {
   "display_name": "Python 3 (ipykernel)",
   "language": "python",
   "name": "python3"
  },
  "language_info": {
   "codemirror_mode": {
    "name": "ipython",
    "version": 3
   },
   "file_extension": ".py",
   "mimetype": "text/x-python",
   "name": "python",
   "nbconvert_exporter": "python",
   "pygments_lexer": "ipython3",
   "version": "3.10.8"
  }
 },
 "nbformat": 4,
 "nbformat_minor": 5
}
