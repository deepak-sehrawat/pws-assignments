{
 "cells": [
  {
   "cell_type": "code",
   "execution_count": 4,
   "metadata": {},
   "outputs": [
    {
     "data": {
      "text/html": [
       "<div>\n",
       "<style scoped>\n",
       "    .dataframe tbody tr th:only-of-type {\n",
       "        vertical-align: middle;\n",
       "    }\n",
       "\n",
       "    .dataframe tbody tr th {\n",
       "        vertical-align: top;\n",
       "    }\n",
       "\n",
       "    .dataframe thead th {\n",
       "        text-align: right;\n",
       "    }\n",
       "</style>\n",
       "<table border=\"1\" class=\"dataframe\">\n",
       "  <thead>\n",
       "    <tr style=\"text-align: right;\">\n",
       "      <th></th>\n",
       "      <th>study_time</th>\n",
       "      <th>exam_score</th>\n",
       "    </tr>\n",
       "  </thead>\n",
       "  <tbody>\n",
       "    <tr>\n",
       "      <th>study_time</th>\n",
       "      <td>1.000000</td>\n",
       "      <td>0.837677</td>\n",
       "    </tr>\n",
       "    <tr>\n",
       "      <th>exam_score</th>\n",
       "      <td>0.837677</td>\n",
       "      <td>1.000000</td>\n",
       "    </tr>\n",
       "  </tbody>\n",
       "</table>\n",
       "</div>"
      ],
      "text/plain": [
       "            study_time  exam_score\n",
       "study_time    1.000000    0.837677\n",
       "exam_score    0.837677    1.000000"
      ]
     },
     "execution_count": 4,
     "metadata": {},
     "output_type": "execute_result"
    }
   ],
   "source": [
    "# sol 1\n",
    "import pandas as pd\n",
    "import numpy as np\n",
    "# let make a dataset as per our requrement that is given in the question\n",
    "\n",
    "data={\"study_time\":[3,5,2,6,4,5,6,9,4,5], # time is in hours \n",
    "      \"exam_score\":[67,74,55,70,64,60,80,92,61,59]}\n",
    "df=pd.DataFrame(data)\n",
    "\n",
    "# Pearson correlation coefficient\n",
    "\n",
    "result=df.corr(\"pearson\")\n",
    "print(result)\n",
    "\n",
    "\n",
    "# Interpretion of the result\n",
    "\n",
    "# In Result we can clearly see that there is positive correlation b/w study time and exam scores.\n",
    "# that means if a student is studing for long hours they will get the good marks in there exam.\n",
    "# in our case the pearson cofficent  b/w study time and exam score we got 0.837677. This showing us that there is very strong correlation b/w them ."
   ]
  },
  {
   "cell_type": "code",
   "execution_count": 5,
   "metadata": {},
   "outputs": [
    {
     "name": "stdout",
     "output_type": "stream",
     "text": [
      "                  sleeping_hours  job_satisfaction\n",
      "sleeping_hours          1.000000          0.709009\n",
      "job_satisfaction        0.709009          1.000000\n"
     ]
    }
   ],
   "source": [
    "# sol 2\n",
    "import pandas as pd\n",
    "import numpy as np\n",
    "# let make a dataset as per our requrement that is given in the question\n",
    "\n",
    "data={\"sleeping_hours\":[6,5,8,8,9,5,7,5,4,10], # sleeping time is in hours\n",
    "      \"job_satisfaction\":[4,3,8,6,10,2,7,1,7,8]} # job satisfaction rating 1-10 (1 is lowers and 10 is highest)\n",
    "\n",
    "df=pd.DataFrame(data)\n",
    "\n",
    "# Spearman's rank correlation\n",
    "\n",
    "result=df.corr(\"spearman\")\n",
    "print(result)\n",
    "\n",
    "# In Result we can see the positive correlation b/w sleep timing  and job satisfation \n",
    "# that means if the person is geting more sleep there are more likely to having a chance that they are more satisfied with there job. \n",
    "\n"
   ]
  },
  {
   "cell_type": "code",
   "execution_count": 20,
   "metadata": {},
   "outputs": [
    {
     "name": "stdout",
     "output_type": "stream",
     "text": [
      "this is the pearson coff \n",
      "              hours_weekly       bmi\n",
      "hours_weekly      1.000000  0.900421\n",
      "bmi               0.900421  1.000000\n",
      "\n",
      " this is the spearman coff \n",
      "\n",
      "              hours_weekly       bmi\n",
      "hours_weekly      1.000000  0.897773\n",
      "bmi               0.897773  1.000000\n"
     ]
    }
   ],
   "source": [
    "# sol 3\n",
    "import pandas as pd\n",
    "import numpy as np\n",
    "np.random.seed(20)\n",
    "# let make a dataset as per our requrement that is given in the question\n",
    "hours=np.random.randint(1,10,50)\n",
    "error=np.random.normal(0,2,50) # Adding some random noise to the relationship\n",
    "\n",
    "bmi=1.7*hours+20+error\n",
    "\n",
    "data={\"hours_weekly\":hours,\n",
    "      \"bmi\":bmi}\n",
    "\n",
    "df=pd.DataFrame(data)\n",
    "\n",
    "pearson_corr=df.corr(\"pearson\")\n",
    "spearman_corr=df.corr(\"spearman\")\n",
    "\n",
    "print(f\"this is the pearson coff \\n{pearson_corr}\\n\\n this is the spearman coff \\n\\n{spearman_corr}\")\n",
    "\n",
    " #Pearson correlation measures the linear relationship between two variables, \n",
    " # while Spearman's rank correlation assesses the monotonic relationship (not necessarily linear) by considering the rank orders of the data.\n",
    " # by Comparing these two correlations can help you understand if there is a linear or monotonic relationship between exercise hours and BMI in your dataset.\n",
    " # from our output we can see that there is not much diffrence in b/w the both correlations one is 0.900421 and other is 0.897773 .(see the output)"
   ]
  },
  {
   "cell_type": "code",
   "execution_count": 38,
   "metadata": {},
   "outputs": [
    {
     "name": "stdout",
     "output_type": "stream",
     "text": [
      "                watching_hours  physical_act\n",
      "watching_hours        1.000000      0.181735\n",
      "physical_act          0.181735      1.000000\n"
     ]
    }
   ],
   "source": [
    "# sol 4\n",
    "import pandas as pd\n",
    "import numpy as np\n",
    "np.random.seed(20)\n",
    "# let make a dataset as per our requrement that is given in the question\n",
    "\n",
    "watching_hours=np.random.uniform(0,13,50)\n",
    "physical_act=np.random.uniform(1,10,50)  #lets take level of physical activity ranging from 1 to 10(1 is lest and 10 is most active)\n",
    "data={\"watching_hours\":watching_hours,\n",
    "      \"physical_act\":physical_act}\n",
    "df=pd.DataFrame(data)\n",
    "\n",
    "result=df.corr(\"pearson\")\n",
    "\n",
    "print (result)\n",
    "\n",
    "\n"
   ]
  },
  {
   "cell_type": "code",
   "execution_count": 58,
   "metadata": {},
   "outputs": [
    {
     "name": "stdout",
     "output_type": "stream",
     "text": [
      "The new dataframe after one_hot encording\n",
      "\n",
      "   Age  Soft_drink_coke  Soft_drink_mountain dew  Soft_drink_pepsi\n",
      "0   25              1.0                      0.0               0.0\n",
      "1   42              0.0                      0.0               1.0\n",
      "2   37              0.0                      1.0               0.0\n",
      "3   19              1.0                      0.0               0.0\n",
      "4   31              0.0                      0.0               1.0\n",
      "5   28              1.0                      0.0               0.0\n",
      "\n",
      "\n",
      "the spearman coff. is \n",
      "\n",
      " Age                        1.000000\n",
      "Soft_drink_coke           -0.878310\n",
      "Soft_drink_mountain dew    0.392792\n",
      "Soft_drink_pepsi           0.621059\n",
      "Name: Age, dtype: float64\n"
     ]
    }
   ],
   "source": [
    "# sol 5\n",
    "data={\"Age\":[25,42,37,19,31,28],\n",
    "      \"Soft_drink\":[\"coke\",\"pepsi\",\"mountain dew\",\"coke\",\"pepsi\",\"coke\"]}\n",
    "df=pd.DataFrame(data)\n",
    "# lets convert the categorical data into numaric (use nominal label encording(onehot encording))\n",
    "from sklearn.preprocessing import OneHotEncoder\n",
    "encoder=OneHotEncoder()\n",
    "result=encoder.fit_transform(df[[\"Soft_drink\"]]).toarray()\n",
    "result_df=pd.DataFrame(result,columns=encoder.get_feature_names_out())\n",
    "new_df=pd.concat([df[\"Age\"],result_df],axis=1)\n",
    "print(f\"The new dataframe after one_hot encording\\n\\n{new_df}\")\n",
    "result=new_df.corr(\"spearman\")\n",
    "print(f\"\\n\\nthe spearman coff. is this (base on age) \\n\\n\",result[\"Age\"])\n",
    "\n",
    "# from this result we can conclude that the coke and the age have the -ve correlation thats mean if the age is less of the person there is more change that ther person use coke ase there drink \n",
    "# the relation b/w age and mountaindew is +ve that mean if the age is higer there is chances that the person like mountain dew \n",
    "# last conclusion  is that if the age is more then normal their is the higher change that person fav. drink is pepsi (the correlation of age/mountain dew is less the the age/pepsi that means if the age is higher the normal then tere is more chance of pepsi rather then mountain dew)"
   ]
  },
  {
   "cell_type": "code",
   "execution_count": 71,
   "metadata": {},
   "outputs": [
    {
     "name": "stdout",
     "output_type": "stream",
     "text": [
      "here is the pearson coff \n",
      "                calls_per_day  sales_per_week\n",
      "calls_per_day        1.000000        0.566175\n",
      "sales_per_week       0.566175        1.000000\n"
     ]
    }
   ],
   "source": [
    "# sol 6\n",
    "import pandas as pd\n",
    "import numpy as np\n",
    "np.random.seed(20)\n",
    "# let make a dataset as per our requrement that is given in the question\n",
    "calls_per_day=np.random.randint(10,50,30)\n",
    "error=np.random.normal(4,16,30) # Adding some random noise to the relationship\n",
    "\n",
    "sales_per_week=1.5*calls_per_day+4+error\n",
    "\n",
    "data={\"calls_per_day\":calls_per_day,\n",
    "      \"sales_per_week\":sales_per_week}\n",
    "\n",
    "df=pd.DataFrame(data)\n",
    "\n",
    "pearson_corr=df.corr(\"pearson\")\n",
    "\n",
    "\n",
    "print(f\"here is the pearson coff \\n{pearson_corr}\")\n",
    "\n",
    "# we get +ve correlation that means if the call increases the sales also increases"
   ]
  },
  {
   "cell_type": "code",
   "execution_count": null,
   "metadata": {},
   "outputs": [],
   "source": []
  },
  {
   "cell_type": "code",
   "execution_count": null,
   "metadata": {},
   "outputs": [],
   "source": []
  }
 ],
 "metadata": {
  "kernelspec": {
   "display_name": "Python 3",
   "language": "python",
   "name": "python3"
  },
  "language_info": {
   "codemirror_mode": {
    "name": "ipython",
    "version": 3
   },
   "file_extension": ".py",
   "mimetype": "text/x-python",
   "name": "python",
   "nbconvert_exporter": "python",
   "pygments_lexer": "ipython3",
   "version": "3.9.6"
  },
  "orig_nbformat": 4
 },
 "nbformat": 4,
 "nbformat_minor": 2
}
