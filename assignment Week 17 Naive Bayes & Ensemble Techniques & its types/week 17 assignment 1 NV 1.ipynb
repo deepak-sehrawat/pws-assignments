{
 "cells": [
  {
   "cell_type": "code",
   "execution_count": 1,
   "metadata": {},
   "outputs": [],
   "source": [
    "# sol 1\n",
    "\n",
    "# Bayes' theorem is a fundamental concept in probability theory and statistics that describes how to update or revise the probability of an event based on new evidence or information.\n",
    "\n",
    "# Mathematically, Bayes' theorem is expressed as:\n",
    "\n",
    "# P(A|B) = (P(B|A)*P(A))/P(B)\n",
    "\n",
    "# Where:\n",
    "\n",
    "    # P(A|B) is the conditional probability of event A occurring given that event B has occurred.\n",
    "    # P(B|A) is the conditional probability of event B occurring given that event A has occurred.\n",
    "    # P(A) is the prior probability of event A occurring before considering the new evidence (i.e., the prior belief).\n",
    "    # P(B) is the prior probability of event B occurring before considering the new evidence (i.e., the prior belief).\n",
    "\n",
    "# In essence, Bayes' theorem allows us to update our beliefs about the probability of an event A happening (the posterior probability) based on the probability of observing event B in light of event A (the likelihood) and our prior belief in the probability of event A happening.\n",
    "\n"
   ]
  },
  {
   "cell_type": "code",
   "execution_count": 2,
   "metadata": {},
   "outputs": [],
   "source": [
    "# sol 2\n",
    "\n",
    "#  Mathematically, Bayes' theorem is expressed as:\n",
    "\n",
    "# P(A|B) = (P(B|A)*P(A))/P(B)\n",
    "\n",
    "# Where:\n",
    "\n",
    "    # P(A|B) is the conditional probability of event A occurring given that event B has occurred.\n",
    "    # P(B|A) is the conditional probability of event B occurring given that event A has occurred.\n",
    "    # P(A) is the prior probability of event A occurring before considering the new evidence (i.e., the prior belief).\n",
    "    # P(B) is the prior probability of event B occurring before considering the new evidence (i.e., the prior belief)."
   ]
  },
  {
   "cell_type": "code",
   "execution_count": 3,
   "metadata": {},
   "outputs": [],
   "source": [
    "# sol 3\n",
    "    # Medical Diagnosis:\n",
    "        #  Bayes' theorem is used in medical diagnosis to calculate the probability of a disease or condition given certain symptoms, test results, or risk factors. For example, it helps doctors determine the probability of a patient having a particular disease based on diagnostic tests and the patient's medical history.\n",
    "\n",
    "    # Machine Learning and Data Science:\n",
    "        #  In machine learning, Bayes' theorem is a fundamental concept in Bayesian statistics and probabilistic modeling. It is used in algorithms like Naive Bayes for classification tasks, spam email filtering, and text analysis.\n",
    "\n",
    "    # Natural Language Processing (NLP):\n",
    "        #  Bayes' theorem is used in NLP for tasks such as sentiment analysis, text categorization, and speech recognition. It helps in probabilistic modeling of language and understanding context.\n",
    "\n",
    "    # Finance:\n",
    "        #  In finance, Bayes' theorem is applied for risk assessment, portfolio management, and stock price prediction. It helps in modeling and estimating the probabilities of different financial events and outcomes."
   ]
  },
  {
   "cell_type": "code",
   "execution_count": 4,
   "metadata": {},
   "outputs": [],
   "source": [
    "# sol 4\n",
    "\n",
    "# Bayes' theorem is closely related to conditional probability, as it provides a way to calculate conditional probabilities in a specific manner. The relationship between Bayes' theorem and conditional probability can be understood by examining the components of Bayes' theorem\n",
    "\n",
    "# Bayes' theorem is expressed as:\n",
    "\n",
    "# P(A|B) = {P(B|A)*P(A)}/{P(B)}\n",
    "\n",
    "    # (P(A|B)) is the conditional probability of event A occurring given that event B has occurred. It represents the probability of event A under the condition of event B.\n",
    "\n",
    "    # (P(B|A)) is the conditional probability of event B occurring given that event A has occurred. It represents the probability of event B under the condition of event A.\n",
    "\n",
    "# In essence, Bayes' theorem is a tool for calculating conditional probabilities in situations where we have prior beliefs about the probabilities of events A and B and new evidence (event B) that may influence our beliefs about event A. It quantifies how the probability of event A changes in light of event B, making it a fundamental concept for conditional probability and statistical inference."
   ]
  },
  {
   "cell_type": "code",
   "execution_count": null,
   "metadata": {},
   "outputs": [],
   "source": [
    "# sol 5\n",
    "\n",
    "# Choosing the appropriate type of Naive Bayes classifier for a given problem depends on the characteristics of the data and the assumptions that can be made about the independence of features. There are three main types of Naive Bayes classifiers: Gaussian Naive Bayes, Multinomial Naive Bayes, and Bernoulli Naive Bayes.\n",
    "\n",
    "# 1. Gaussian Naive Bayes:\n",
    "    # Use when dealing with continuous or real-valued features.\n",
    "    # Assumes that the features follow a Gaussian (normal) distribution.\n",
    "    # Works well when the data features are approximately normally distributed or can be transformed to have a normal distribution.\n",
    "    # Commonly used in applications like text classification when features are related to real numbers (e.g., word frequencies).\n",
    "\n",
    "# # 2. Multinomial Naive Bayes:\n",
    "    # Use when working with discrete data or count data, especially when dealing with text data.\n",
    "    # Suitable for problems where features represent counts or frequencies of items (e.g., word counts in text documents).\n",
    "    # Assumes a multinomial distribution for the data.\n",
    "    # Widely used in text classification, spam email detection, and document categorization.\n",
    "\n",
    "# # 3. Bernoulli Naive Bayes:\n",
    "   # Use when dealing with binary or Boolean features (0/1 values) or when you want to model the presence or absence of features.\n",
    "   # Suitable for problems where features are binary or represent the presence or absence of attributes.\n",
    "   # Commonly used in problems like sentiment analysis, where you want to classify text documents as positive or negative.\n",
    "\n"
   ]
  },
  {
   "cell_type": "markdown",
   "metadata": {},
   "source": []
  },
  {
   "cell_type": "markdown",
   "metadata": {},
   "source": []
  }
 ],
 "metadata": {
  "kernelspec": {
   "display_name": "Python 3",
   "language": "python",
   "name": "python3"
  },
  "language_info": {
   "codemirror_mode": {
    "name": "ipython",
    "version": 3
   },
   "file_extension": ".py",
   "mimetype": "text/x-python",
   "name": "python",
   "nbconvert_exporter": "python",
   "pygments_lexer": "ipython3",
   "version": "3.9.6"
  }
 },
 "nbformat": 4,
 "nbformat_minor": 2
}
