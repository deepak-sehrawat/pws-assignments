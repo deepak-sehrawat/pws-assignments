{
 "cells": [
  {
   "cell_type": "code",
   "execution_count": 5,
   "id": "5d84bc54-80cd-4902-b96c-3a5e6fc0e986",
   "metadata": {},
   "outputs": [
    {
     "name": "stdout",
     "output_type": "stream",
     "text": [
      "Woof!\n",
      "Meow!\n"
     ]
    }
   ],
   "source": [
    "# sol 1\n",
    "# Abstraction in OOPs simplifies complex systems by focusing on essential features while hiding irrelevant details. For example, a car class may have properties like make, model, and methods for starting, stopping, and accelerating.\n",
    "# Abstraction manages complexity, improves readability, and promotes code reusability by encapsulating the essential aspects of objects.\n",
    "\n",
    "# example\n",
    "from abc import ABC ,abstractmethod\n",
    "\n",
    "class Animal(ABC):\n",
    "    def __init__(self, name):\n",
    "        self.name = name\n",
    "\n",
    "    @abstractmethod\n",
    "    def make_sound(self):\n",
    "        pass\n",
    "\n",
    "class Dog(Animal):\n",
    "    def make_sound(self):\n",
    "        print(\"Woof!\")\n",
    "\n",
    "class Cat(Animal):\n",
    "    def make_sound(self):\n",
    "        print(\"Meow!\")\n",
    "\n",
    "dog = Dog(\"Buddy\")\n",
    "cat = Cat(\"Whiskers\")\n",
    "\n",
    "dog.make_sound()  \n",
    "cat.make_sound()  \n"
   ]
  },
  {
   "cell_type": "code",
   "execution_count": 6,
   "id": "e6c6c383-1b0a-41ca-9270-80777ce62329",
   "metadata": {},
   "outputs": [
    {
     "name": "stdout",
     "output_type": "stream",
     "text": [
      "Woof!\n",
      "Meow!\n"
     ]
    },
    {
     "name": "stdin",
     "output_type": "stream",
     "text": [
      "enter the password:  deepak\n"
     ]
    },
    {
     "name": "stdout",
     "output_type": "stream",
     "text": [
      "44000\n"
     ]
    }
   ],
   "source": [
    "# sol 2 \n",
    "# Abstraction focuses on representing essential features and behaviors while hiding unnecessary details. For example, a \"Car\" class abstracts the concept of a car, providing methods like start_engine() and accelerate().\n",
    "\n",
    "# Encapsulation, on the other hand, bundles data and methods together within a class, protecting them from external access. For instance, a class may have private variables like _speed and methods like _calculate_distance() that are encapsulated within the class.\n",
    "\n",
    "# example of abstraction\n",
    "from abc import ABC ,abstractmethod\n",
    "\n",
    "class Animal(ABC):\n",
    "    def __init__(self, name):\n",
    "        self.name = name\n",
    "\n",
    "    @abstractmethod\n",
    "    def make_sound(self):\n",
    "        pass\n",
    "\n",
    "class Dog(Animal):\n",
    "    def make_sound(self):\n",
    "        print(\"Woof!\")\n",
    "\n",
    "class Cat(Animal):\n",
    "    def make_sound(self):\n",
    "        print(\"Meow!\")\n",
    "\n",
    "dog = Dog(\"Buddy\")\n",
    "cat = Cat(\"Whiskers\")\n",
    "\n",
    "dog.make_sound()  \n",
    "cat.make_sound() \n",
    "\n",
    "\n",
    "# example of encapsulation\n",
    "\n",
    "class account():\n",
    "    def __init__(self,acc_no,acc_bal,acc_pass):\n",
    "        self.__acc_no=acc_no\n",
    "        self.__acc_bal=acc_bal\n",
    "        self.__acc_pass=acc_pass\n",
    "    def check_bal(self):\n",
    "        input_pass=input(\"enter the password: \")\n",
    "        if input_pass==self.__acc_pass :\n",
    "            output = self.__acc_bal\n",
    "        else :\n",
    "            output=\"wrong password\"\n",
    "        # output= self.__acc_bal if input_pass==self.__acc_pass else \"wrong password\"\n",
    "        return output\n",
    "d=account(354534534,44000,\"deepak\")\n",
    "print(d.check_bal())"
   ]
  },
  {
   "cell_type": "code",
   "execution_count": 7,
   "id": "a656eb47-60fb-424f-9065-7ca87c6f2a6d",
   "metadata": {},
   "outputs": [],
   "source": [
    "# sol 3\n",
    "# The abc module in Python stands for \"Abstract Base Classes.\" It is used to create abstract base classes and define abstract methods. Abstract base classes cannot be instantiated but serve as blueprints for other classes.\n",
    "\n",
    "# The abc module is used to define interfaces, provide common functionality, and enforce type checking. It helps ensure consistent behavior across subclasses, promotes code reuse, and facilitates the creation of more reliable and maintainable code by defining clear contracts between classes."
   ]
  },
  {
   "cell_type": "code",
   "execution_count": 9,
   "id": "4589b5c5-13bd-4158-80d1-bb5ef67d26ce",
   "metadata": {},
   "outputs": [
    {
     "name": "stdout",
     "output_type": "stream",
     "text": [
      "rohit\n",
      "20\n"
     ]
    }
   ],
   "source": [
    " #sol 4\n",
    "# To achieve data abstraction in Python:\n",
    "\n",
    "# step1 -Define a class and use access modifiers like underscore (_) to denote private variables.\n",
    "# step2-Define public methods to provide an interface for interacting with the encapsulated data.\n",
    "# step3-Access and modify the data only through these public methods. \n",
    "# example\n",
    "class Person:\n",
    "    def __init__(self, name, age):\n",
    "        self._name = name\n",
    "        self._age = age\n",
    "\n",
    "    def get_name(self):\n",
    "        return self._name\n",
    "\n",
    "    def get_age(self):\n",
    "        return self._age\n",
    "\n",
    "person = Person(\"rohit\",20)\n",
    "print(person.get_name())  \n",
    "print(person.get_age())  "
   ]
  },
  {
   "cell_type": "code",
   "execution_count": null,
   "id": "fd0be0b4-f861-4139-a3ad-2920c40b4cd3",
   "metadata": {},
   "outputs": [],
   "source": [
    "#sol 5\n",
    "#No, we cannot create an instance of an abstract class in Python. An abstract class is meant to be a blueprint for other classes and cannot be instantiated directly. \n",
    "# It is designed to be subclassed, and its abstract methods must be implemented by the subclasses. \n",
    "# Abstract classes provide a common interface and define a contract for the subclasses to follow, but they cannot be used to create objects"
   ]
  }
 ],
 "metadata": {
  "kernelspec": {
   "display_name": "Python 3 (ipykernel)",
   "language": "python",
   "name": "python3"
  },
  "language_info": {
   "codemirror_mode": {
    "name": "ipython",
    "version": 3
   },
   "file_extension": ".py",
   "mimetype": "text/x-python",
   "name": "python",
   "nbconvert_exporter": "python",
   "pygments_lexer": "ipython3",
   "version": "3.10.8"
  }
 },
 "nbformat": 4,
 "nbformat_minor": 5
}
